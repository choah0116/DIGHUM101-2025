{
 "cells": [
  {
   "cell_type": "markdown",
   "metadata": {},
   "source": [
    "# Challenge 1 - The Working Directory\n",
    "\n",
    "This is a shorter challenge than Challenges A and B! Think of it as a warm-up.\n",
    "\n",
    "Set your working directory to the Data folder in your course materials"
   ]
  },
  {
   "cell_type": "code",
   "execution_count": null,
   "metadata": {},
   "outputs": [],
   "source": [
    "import os"
   ]
  },
  {
   "cell_type": "code",
   "execution_count": null,
   "metadata": {},
   "outputs": [],
   "source": [
    "## YOUR CODE HERE\n",
    "\n"
   ]
  },
  {
   "cell_type": "markdown",
   "metadata": {},
   "source": [
    "# Challenge 2: Pandas - Import .csv File\n",
    "\n",
    "Import the music_reviews.csv file and save it in a variable named music. Use the head method to show the first twelve rows. \n",
    "\n",
    "> HINT: remember this is a TAB separated .csv file, so you have to add a second argument to tell Python that the file is tab-delineated (not comma delineated)."
   ]
  },
  {
   "cell_type": "code",
   "execution_count": null,
   "metadata": {},
   "outputs": [],
   "source": [
    "## YOUR CODE HERE\n",
    "\n"
   ]
  },
  {
   "cell_type": "markdown",
   "metadata": {},
   "source": [
    "# Challenge 3: `.describe()`\n",
    "\n",
    "Use the .describe() method to find the average review score for all albums in this dataset."
   ]
  },
  {
   "cell_type": "code",
   "execution_count": null,
   "metadata": {},
   "outputs": [],
   "source": [
    "## YOUR CODE HERE\n",
    "\n"
   ]
  },
  {
   "cell_type": "markdown",
   "metadata": {},
   "source": [
    "# Challenge 4: Rename Column Names\n",
    "\n",
    "Recall how to print the columns of a data frame. It looks like a method but without the trailing round parentheses is called an attribute!"
   ]
  },
  {
   "cell_type": "code",
   "execution_count": null,
   "metadata": {},
   "outputs": [],
   "source": [
    "music.columns"
   ]
  },
  {
   "cell_type": "markdown",
   "metadata": {},
   "source": [
    "Rename the \"album\" column name to \"ALBUM\" and the \"body\" column name to \"Body\"."
   ]
  },
  {
   "cell_type": "code",
   "execution_count": null,
   "metadata": {},
   "outputs": [],
   "source": [
    "## YOUR CODE HERE\n",
    "\n"
   ]
  },
  {
   "cell_type": "code",
   "execution_count": null,
   "metadata": {},
   "outputs": [],
   "source": [
    "# See if it worked\n",
    "music.head()"
   ]
  },
  {
   "cell_type": "markdown",
   "metadata": {},
   "source": [
    "# Challenge 5: Slice It! \n",
    "\n",
    "Slice music to return just the 3rd, 4th, and 5th reviews (note that they start on 0). Save this in a variable named `music_subset`."
   ]
  },
  {
   "cell_type": "code",
   "execution_count": null,
   "metadata": {},
   "outputs": [],
   "source": [
    "## YOUR CODE HERE\n",
    "\n"
   ]
  },
  {
   "cell_type": "markdown",
   "metadata": {},
   "source": [
    "# Challenge 6: `iloc`\n",
    "\n",
    "Use `.iloc` to return just the 1st, 82nd, 988th, 2561st, 4002nd, and and last review in a variable named music2"
   ]
  },
  {
   "cell_type": "code",
   "execution_count": null,
   "metadata": {},
   "outputs": [],
   "source": [
    "## YOUR CODE HERE\n",
    "\n"
   ]
  },
  {
   "cell_type": "markdown",
   "metadata": {},
   "source": [
    "# Challenge 7: `iloc` Slice and Stride\n",
    "\n",
    "Use `.iloc` to return every 40th album between reviews 20 and 200 and save this subset in a variable named music3"
   ]
  },
  {
   "cell_type": "code",
   "execution_count": null,
   "metadata": {},
   "outputs": [],
   "source": [
    "## YOUR CODE HERE\n",
    "\n"
   ]
  },
  {
   "cell_type": "markdown",
   "metadata": {},
   "source": [
    "# Challenge 8: `iloc` Rows and Columns\n",
    "\n",
    "Use `iloc` to extract the last five rows in the music data set but only the \"artist\", \"ALBUM\", and \"score\" columns - in that order!\n",
    "\n",
    "> HINT: How do `iloc` and `loc` differ?"
   ]
  },
  {
   "cell_type": "code",
   "execution_count": null,
   "metadata": {},
   "outputs": [],
   "source": [
    "## YOUR CODE HERE\n",
    "\n"
   ]
  },
  {
   "cell_type": "markdown",
   "metadata": {},
   "source": [
    "# Challenge 9: `.loc` Rows and Columns \n",
    "\n",
    "Use `loc` to extract the first 5 rows in the music data set but only the \"artist\", \"ALBUM\", and \"score\" columns - in that order!"
   ]
  },
  {
   "cell_type": "code",
   "execution_count": null,
   "metadata": {},
   "outputs": [],
   "source": [
    "## YOUR CODE HERE\n",
    "\n"
   ]
  },
  {
   "cell_type": "markdown",
   "metadata": {},
   "source": [
    "# Challenge 10: Create New Column\n",
    "\n",
    "Create a new column in music3 named \"score_int\" that is a copy of \"score\" - but converted to an integer."
   ]
  },
  {
   "cell_type": "code",
   "execution_count": null,
   "metadata": {},
   "outputs": [],
   "source": [
    "## YOUR CODE HERE\n",
    "\n"
   ]
  },
  {
   "cell_type": "markdown",
   "metadata": {},
   "source": [
    "# Challenge 11: Create New Column with Calculation\n",
    "\n",
    "Create a new column named \"decimal\" that is a copy of \"score_int\" but that is divided by 100 and rounded to two decimal places."
   ]
  },
  {
   "cell_type": "code",
   "execution_count": null,
   "metadata": {
    "scrolled": true
   },
   "outputs": [],
   "source": [
    "## YOUR CODE HERE\n",
    "\n"
   ]
  },
  {
   "cell_type": "markdown",
   "metadata": {},
   "source": [
    "# Challenge 12: Reorder Columns\n",
    "\n",
    "Reorder the columns of music3 in this order: critic, genre, artist, ALBUM, score, score_int, decimal, Body, release_date"
   ]
  },
  {
   "cell_type": "code",
   "execution_count": null,
   "metadata": {},
   "outputs": [],
   "source": [
    "## YOUR CODE HERE\n",
    "\n"
   ]
  },
  {
   "cell_type": "markdown",
   "metadata": {},
   "source": [
    "# Challenge 13: `.value_counts()`\n",
    "\n",
    "Use `.value_counts()` to sum the total number of reviews for each critic. Return only the top 20. "
   ]
  },
  {
   "cell_type": "code",
   "execution_count": null,
   "metadata": {},
   "outputs": [],
   "source": [
    "## YOUR CODE \n",
    "\n"
   ]
  },
  {
   "cell_type": "markdown",
   "metadata": {},
   "source": [
    "# Challenge 14: Import .csv file from a URL\n",
    "\n",
    "You can also import data from web addresses. Import the file found at this URL and save it in a variable named countries: https://raw.githubusercontent.com/dlab-berkeley/introduction-to-pandas/master/data/countries.csv\n",
    "\n",
    "Use `.value_counts()` to state how many of these countries are EU versus non-EU; save this as a DataFrame named summary"
   ]
  },
  {
   "cell_type": "code",
   "execution_count": null,
   "metadata": {},
   "outputs": [],
   "source": [
    "## YOUR CODE HERE\n",
    "\n"
   ]
  },
  {
   "cell_type": "markdown",
   "metadata": {},
   "source": [
    "Use `.value_counts()` to show how many EU versus non-EU countries are in this dataset:"
   ]
  },
  {
   "cell_type": "code",
   "execution_count": null,
   "metadata": {},
   "outputs": [],
   "source": [
    "## YOUR CODE HERE\n",
    "\n"
   ]
  }
 ],
 "metadata": {
  "kernelspec": {
   "display_name": "Python 3",
   "language": "python",
   "name": "python3"
  },
  "language_info": {
   "codemirror_mode": {
    "name": "ipython",
    "version": 3
   },
   "file_extension": ".py",
   "mimetype": "text/x-python",
   "name": "python",
   "nbconvert_exporter": "python",
   "pygments_lexer": "ipython3",
   "version": "3.8.5"
  }
 },
 "nbformat": 4,
 "nbformat_minor": 4
}
