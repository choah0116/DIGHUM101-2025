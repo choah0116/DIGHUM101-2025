{
 "cells": [
  {
   "cell_type": "markdown",
   "id": "6edf3a8f",
   "metadata": {},
   "source": [
    "## Regex\n",
    "\n",
    "Regular Expressions (regex) are sequences of characters that define a search pattern. \n",
    "They are commonly used for pattern matching within strings, such as finding words, validating input, or replacing text."
   ]
  },
  {
   "cell_type": "code",
   "execution_count": 2,
   "id": "c3eca110",
   "metadata": {},
   "outputs": [],
   "source": [
    "# This is how we import the module\n",
    "import re"
   ]
  },
  {
   "cell_type": "markdown",
   "id": "3895dffe",
   "metadata": {},
   "source": [
    "### 1. Basic Regex Syntax\n",
    "\n",
    "Let's start with a simple example: matching a word \"apple\" in a string, much like keyword searching"
   ]
  },
  {
   "cell_type": "code",
   "execution_count": 3,
   "id": "194b83fd",
   "metadata": {},
   "outputs": [],
   "source": [
    "text = \"I like to eat apple and banana.\"\n",
    "pattern = r\"apple\""
   ]
  },
  {
   "cell_type": "code",
   "execution_count": 8,
   "id": "2469b1d2",
   "metadata": {},
   "outputs": [
    {
     "name": "stdout",
     "output_type": "stream",
     "text": [
      "Found: apple\n"
     ]
    }
   ],
   "source": [
    "match = re.search(pattern, text)\n",
    "if match:\n",
    "    print(\"Found:\", match.group())"
   ]
  },
  {
   "cell_type": "code",
   "execution_count": 9,
   "id": "444bd64a",
   "metadata": {},
   "outputs": [
    {
     "name": "stdout",
     "output_type": "stream",
     "text": [
      "Match found at index: 14\n",
      "Match ends at index: 19\n",
      "Match span: (14, 19)\n"
     ]
    }
   ],
   "source": [
    "# Where is the match in the text?\n",
    "print(\"Match found at index:\", match.start())\n",
    "print(\"Match ends at index:\", match.end())\n",
    "print(\"Match span:\", match.span())"
   ]
  },
  {
   "cell_type": "markdown",
   "id": "ba74d182",
   "metadata": {},
   "source": [
    "### 2. Find All Occurrences\n",
    "\n",
    "You can use `re.findall()` to find all occurrences of a pattern in a string."
   ]
  },
  {
   "cell_type": "code",
   "execution_count": 10,
   "id": "44d288d8",
   "metadata": {},
   "outputs": [
    {
     "name": "stdout",
     "output_type": "stream",
     "text": [
      "Words in text: ['I', 'like', 'to', 'eat', 'apple', 'and', 'banana']\n"
     ]
    }
   ],
   "source": [
    "# Find all words in the text split by whitespace\n",
    "matches = re.findall(r\"\\b\\w+\\b\", text)\n",
    "print(\"Words in text:\", matches)\n"
   ]
  },
  {
   "cell_type": "markdown",
   "id": "cded64cb",
   "metadata": {},
   "source": [
    "### 3. Matching Digits\n",
    "\n",
    "We can also use regex to match digits in a string. The pattern `\\d` matches any digit.\n"
   ]
  },
  {
   "cell_type": "code",
   "execution_count": 11,
   "id": "edb98af9",
   "metadata": {},
   "outputs": [
    {
     "name": "stdout",
     "output_type": "stream",
     "text": [
      "Digits in the text: ['1', '2', '3', '4', '5', '6', '7', '8', '9', '0']\n"
     ]
    }
   ],
   "source": [
    "text_with_numbers = \"My phone number is 123-456-7890.\"\n",
    "digits = re.findall(r\"\\d\", text_with_numbers)\n",
    "print(\"Digits in the text:\", digits)\n"
   ]
  },
  {
   "cell_type": "markdown",
   "id": "9237e7c5",
   "metadata": {},
   "source": [
    "### 4. Using Groups in Regex\n",
    "\n",
    "Groups allow you to capture parts of the match. You can use parentheses to define groups in the pattern."
   ]
  },
  {
   "cell_type": "code",
   "execution_count": 12,
   "id": "021ffb69",
   "metadata": {},
   "outputs": [
    {
     "name": "stdout",
     "output_type": "stream",
     "text": [
      "Area code: 123\n",
      "Full number: 123-456-7890\n"
     ]
    }
   ],
   "source": [
    "# Code to capture area code from a phone number\n",
    "phone_number = \"My phone number is 123-456-7890.\"\n",
    "match = re.search(r\"(\\d{3})-(\\d{3})-(\\d{4})\", phone_number)\n",
    "\n",
    "if match:\n",
    "    print(\"Area code:\", match.group(1))  # The first group (area code)\n",
    "    print(\"Full number:\", match.group())  # The whole matched string"
   ]
  },
  {
   "cell_type": "markdown",
   "id": "63ba0cba",
   "metadata": {},
   "source": [
    "### 5. Replacing Text\n",
    "\n",
    "We can use `re.sub()` to replace parts of the string that match a pattern."
   ]
  },
  {
   "cell_type": "code",
   "execution_count": 13,
   "id": "bd46aad2",
   "metadata": {},
   "outputs": [
    {
     "name": "stdout",
     "output_type": "stream",
     "text": [
      "Replaced text: My phone number is XXX-XXX-XXXX.\n"
     ]
    }
   ],
   "source": [
    "replaced_text = re.sub(r\"\\d\", \"X\", text_with_numbers)\n",
    "print(\"Replaced text:\", replaced_text)"
   ]
  },
  {
   "cell_type": "markdown",
   "id": "bf798ad2",
   "metadata": {},
   "source": [
    "### 6. Validating an Email Address\n",
    "\n",
    "A common use case of regex is validating user input. Let's try to validate an email address using a regex pattern."
   ]
  },
  {
   "cell_type": "code",
   "execution_count": 14,
   "id": "f6bd4dcb",
   "metadata": {},
   "outputs": [
    {
     "name": "stdout",
     "output_type": "stream",
     "text": [
      "test@example.com is a valid email.\n"
     ]
    }
   ],
   "source": [
    "# Code to validate email\n",
    "email = \"test@example.com\"\n",
    "email_pattern = r\"^[a-zA-Z0-9_.+-]+@[a-zA-Z0-9-]+\\.[a-zA-Z0-9-.]+$\"\n",
    "\n",
    "if re.match(email_pattern, email):\n",
    "    print(f\"{email} is a valid email.\")\n",
    "else:\n",
    "    print(f\"{email} is not a valid email.\")\n"
   ]
  },
  {
   "cell_type": "markdown",
   "id": "01babbcc",
   "metadata": {},
   "source": [
    "Can you write an email in such a way that this regex pattern cannot recognize it?"
   ]
  },
  {
   "cell_type": "code",
   "execution_count": null,
   "id": "fb3aa274",
   "metadata": {},
   "outputs": [],
   "source": [
    "# YOUR CODE HERE\n",
    "\n",
    "email_hard = ...\n",
    "email_pattern = r\"^[a-zA-Z0-9_.+-]+@[a-zA-Z0-9-]+\\.[a-zA-Z0-9-.]+$\"\n",
    "\n",
    "if re.match(email_pattern, email_hard):\n",
    "    print(f\"{email} is a valid email.\")\n",
    "else:\n",
    "    print(f\"{email} is not a valid email.\")\n"
   ]
  },
  {
   "cell_type": "markdown",
   "id": "2cc74a3e",
   "metadata": {},
   "source": [
    "# Overview of RegEx Characters\n",
    "\n",
    "## 1. **Basic Characters**\n",
    "   - **Literal characters**: Matches the exact characters in a string.\n",
    "     - Example: `apple` matches the string `\"apple\"`.\n",
    "   \n",
    "## 2. **Metacharacters**\n",
    "   These characters have a special meaning in regex:\n",
    "\n",
    "   - **Dot (`.`)**: Matches any single character except newline (`\\n`).\n",
    "     - Example: `a.c` matches `\"abc\"`, `\"axc\"`, `\"a-c\"`, but not `\"ac\"` (since it needs a character between \"a\" and \"c\").\n",
    "   \n",
    "   - **Caret (`^`)**: Anchors the match to the start of the string.\n",
    "     - Example: `^apple` matches `\"apple pie\"` but not `\"I like apple\"`.\n",
    "   \n",
    "   - **Dollar (`$`)**: Anchors the match to the end of the string.\n",
    "     - Example: `apple$` matches `\"I love apple\"` but not `\"apple pie\"`.\n",
    "   \n",
    "   - **Square Brackets (`[]`)**: Denote a character class that matches any one of the characters inside the brackets.\n",
    "     - Example: `[aeiou]` matches any vowel.\n",
    "   \n",
    "   - **Hyphen inside brackets (`-`)**: Defines a range of characters.\n",
    "     - Example: `[a-z]` matches any lowercase letter.\n",
    "   \n",
    "   - **Caret inside brackets (`[^]`)**: Matches any character except those inside the brackets.\n",
    "     - Example: `[^a-z]` matches any character except a lowercase letter.\n",
    "\n",
    "## 3. **Quantifiers**\n",
    "   These specify how many instances of the preceding element are required:\n",
    "\n",
    "   - **Asterisk (`*`)**: Matches 0 or more occurrences of the preceding element.\n",
    "     - Example: `a*` matches `\"\"`, `\"a\"`, `\"aa\"`, etc.\n",
    "   \n",
    "   - **Plus (`+`)**: Matches 1 or more occurrences of the preceding element.\n",
    "     - Example: `a+` matches `\"a\"`, `\"aa\"`, `\"aaa\"`, but not `\"\"`.\n",
    "   \n",
    "   - **Question mark (`?`)**: Matches 0 or 1 occurrence of the preceding element (makes it optional).\n",
    "     - Example: `a?` matches `\"\"` and `\"a\"`.\n",
    "   \n",
    "   - **Braces (`{n,m}`)**: Matches between `n` and `m` occurrences of the preceding element.\n",
    "     - Example: `a{2,4}` matches `\"aa\"`, `\"aaa\"`, and `\"aaaa\"` but not `\"a\"` or `\"aaaaa\"`.\n",
    "\n",
    "## 4. **Character Classes**\n",
    "   These represent common sets of characters:\n",
    "\n",
    "   - **`\\d`**: Matches any digit (equivalent to `[0-9]`).\n",
    "   - **`\\D`**: Matches any non-digit (equivalent to `[^0-9]`).\n",
    "   - **`\\w`**: Matches any word character (letters, digits, and underscores, equivalent to `[a-zA-Z0-9_]`).\n",
    "   - **`\\W`**: Matches any non-word character (opposite of `\\w`).\n",
    "   - **`\\s`**: Matches any whitespace character (spaces, tabs, newlines).\n",
    "   - **`\\S`**: Matches any non-whitespace character.\n",
    "   - **`\\b`**: Matches a word boundary.\n",
    "   - **`\\B`**: Matches a non-word boundary.\n",
    "\n",
    "## 5. **Grouping and Capturing**\n",
    "   - **Parentheses (`()`)**: Used to group parts of a regex pattern and capture them for later reference.\n",
    "     - Example: `(abc)+` matches `\"abc\"`, `\"abcabc\"`, etc., and groups the `\"abc\"` part for later use.\n",
    "\n",
    "## 6. **Alternation**\n",
    "   - **Pipe (`|`)**: Acts like an \"OR\" operator to match either of two patterns.\n",
    "     - Example: `apple|banana` matches `\"apple\"` or `\"banana\"`.\n",
    "\n",
    "## 7. **Escape Sequences**\n",
    "   - **Backslash (`\\`)**: Escapes a special character to treat it as a literal.\n",
    "     - Example: `\\.` matches a literal dot `\".\"` (instead of any character).\n",
    "   \n",
    "   - **Escaping metacharacters**: You can use a backslash to escape metacharacters like `\\^`, `\\$`, `\\*`, etc.\n",
    "     - Example: `\\*` matches a literal asterisk `\"*\"`.\n",
    "   \n",
    "## 8. **Lookahead and Lookbehind (Advanced)**\n",
    "   - **Positive lookahead (`(?=...)`)**: Ensures a pattern is followed by another pattern.\n",
    "     - Example: `\\d(?=\\D)` matches a digit that is followed by a non-digit.\n",
    "   \n",
    "   - **Negative lookahead (`(?!...)`)**: Ensures a pattern is not followed by another pattern.\n",
    "     - Example: `\\d(?!\\d)` matches a digit not followed by another digit.\n",
    "   \n",
    "   - **Lookbehind (`(?<=...)`)**: Ensures a pattern is preceded by another pattern.\n",
    "     - Example: `(?<=@)\\w+` matches a word after the \"@\" symbol in an email address.\n",
    "   \n",
    "   - **Negative lookbehind (`(?<!...)`)**: Ensures a pattern is not preceded by another pattern.\n",
    "\n",
    "## 9. **Flags**\n",
    "   Flags modify the behavior of the regex:\n",
    "\n",
    "   - **`re.IGNORECASE` (or `re.I`)**: Makes the regex case-insensitive.\n",
    "     - Example: `re.search(r\"apple\", \"Apple\", re.I)` will match `\"Apple\"`.\n",
    "   \n",
    "   - **`re.MULTILINE` (or `re.M`)**: Allows `^` and `$` to match the start and end of each line, not just the start and end of the whole string.\n",
    "   \n",
    "   - **`re.DOTALL` (or `re.S`)**: Allows the dot (`.`) to match newline characters.\n",
    "   \n",
    "   - **`re.VERBOSE` (or `re.X`)**: Allows you to write regex with comments and more readable formatting."
   ]
  },
  {
   "cell_type": "markdown",
   "id": "a5ddc7fb",
   "metadata": {},
   "source": [
    "### Recommendations\n",
    "\n",
    "I prefer using online services to test my regex. Here is the one that I use\n",
    "\n",
    "[regexr.com](https://regexr.com/)\n",
    "\n"
   ]
  },
  {
   "cell_type": "markdown",
   "id": "1c9cef0f",
   "metadata": {},
   "source": []
  }
 ],
 "metadata": {
  "kernelspec": {
   "display_name": "dighum101",
   "language": "python",
   "name": "python3"
  },
  "language_info": {
   "codemirror_mode": {
    "name": "ipython",
    "version": 3
   },
   "file_extension": ".py",
   "mimetype": "text/x-python",
   "name": "python",
   "nbconvert_exporter": "python",
   "pygments_lexer": "ipython3",
   "version": "3.12.10"
  }
 },
 "nbformat": 4,
 "nbformat_minor": 5
}
