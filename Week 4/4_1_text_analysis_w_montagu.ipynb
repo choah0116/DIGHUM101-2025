{
 "cells": [
  {
   "cell_type": "code",
   "execution_count": null,
   "id": "97769bd8",
   "metadata": {},
   "outputs": [],
   "source": [
    "from sklearn.feature_extraction.text import CountVectorizer\n",
    "\n",
    "# Initialize the vectorizer\n",
    "vectorizer = CountVectorizer(stop_words='english', max_features=20)\n",
    "\n",
    "# Fit the vectorizer on the 'body_cleaned' column, lowercase it and transform it into a word frequency matrix\n",
    "X = vectorizer.fit_transform(montagu['body_cleaned'].lower())\n",
    "\n",
    "# Get the words and their corresponding frequencies\n",
    "word_frequencies = pd.DataFrame(X.toarray(), columns=vectorizer.get_feature_names_out())\n",
    "\n",
    "# Sum the word counts across all letters\n",
    "word_counts = word_frequencies.sum(axis=0).sort_values(ascending=False)\n",
    "\n",
    "# Display the most common words\n",
    "print(word_counts.head(10))"
   ]
  },
  {
   "cell_type": "markdown",
   "id": "6c86d70c",
   "metadata": {},
   "source": [
    "## Vectors"
   ]
  }
 ],
 "metadata": {
  "language_info": {
   "name": "python"
  }
 },
 "nbformat": 4,
 "nbformat_minor": 5
}
