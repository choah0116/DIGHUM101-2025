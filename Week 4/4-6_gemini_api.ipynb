{
 "cells": [
  {
   "cell_type": "markdown",
   "id": "168cd30e",
   "metadata": {},
   "source": [
    "# Gemini API\n",
    "\n",
    "The API (Application Programming Interface) of a large language model (LLM) refers to a set of predefined functions, protocols, and tools that allow developers to interact with the model programmatically. This interface enables external applications or systems to send prompts in form of texts or texts in combination with images, if the LLM is multimodal, specify criteria for generation such as temperature and system instructions, and receive generated outputs. The API essentially provides a way to integrate the LLM’s capabilities into other code.\n",
    "\n",
    "Google provides a dedicated [GitHub Repository](https://github.com/google-gemini/cookbook) with code examples for using the API. The materials that we will see here are adapted from [this notebook](https://github.com/google-gemini/cookbook/blob/main/quickstarts/Get_started.ipynb)"
   ]
  },
  {
   "cell_type": "markdown",
   "id": "517a3354",
   "metadata": {},
   "source": [
    "## Getting an API Key\n",
    "\n",
    "Gemini API has a free tier where users can register with a *personal gmail account* and obtain and API key. They don't have to enter any billing information. There are some limits in usage rates and models. But it is a great place to start exploring LLM APIs.\n",
    "\n",
    "- Open [Google AI Studio](https://aistudio.google.com/app/u/1/prompts/new_chat)\n",
    "  \n",
    "<img src=\"../img/gemini_ai_studio.png\" width=\"700\"/>\n",
    "\n",
    "- You will be prompted to log in. Please log in with your **personal Google account**.\n",
    "- If you are logged in with your institutional account, you might see that you are not allowed by the organization admin to use these services.\n",
    "\n",
    "<img src=\"../img/gemini_ai_studio_institutional.png\" width=\"500\"/>\n",
    "\n",
    "- Click `Get API key` on the upper right corner.\n",
    "\n",
    "![](../img/gemini_ai_studio_api.png)\n",
    "\n",
    "- Click `Create API key` on the right corner below the navigation bar. If you are doing this for the first time, you should see a pop up that asks you to agree to the terms of use.\n",
    "\n",
    "<img src=\"../img/gemini_ai_studio_consent.png\" width=\"500\"/>\n",
    "\n",
    "- After you agree, you should see another pop up that allows you to create an API key in an existing project or in a new one if you do not have any projects on Google Cloud Services.\n",
    "\n",
    "![](../img/gemini_ai_studio_create_api.png)\n",
    "\n",
    "- Your API key should appear on the screen. Please copy this key for the next steps.\n",
    "\n",
    "\n",
    "![](../img/gemini_ai_studio_api_key.png)\n",
    "\n"
   ]
  },
  {
   "cell_type": "markdown",
   "id": "d6fb0d6f",
   "metadata": {},
   "source": []
  }
 ],
 "metadata": {
  "language_info": {
   "name": "python"
  }
 },
 "nbformat": 4,
 "nbformat_minor": 5
}
