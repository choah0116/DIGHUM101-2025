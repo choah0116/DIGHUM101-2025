{
 "cells": [
  {
   "cell_type": "markdown",
   "id": "6caa532f-d502-4576-9ee6-5ad88ca0c550",
   "metadata": {},
   "source": [
    "# Python Web APIs: Accessing NYT Data\n",
    "\n",
    "* * * \n",
    "\n",
    "### Icons used in this notebook\n",
    "🔔 **Question**: A quick question to help you understand what's going on.<br>\n",
    "🥊 **Challenge**: Interactive excercise. We'll work through these in the workshop!<br>\n",
    "⚠️ **Warning**: Heads-up about tricky stuff or common mistakes.<br>\n",
    "💡 **Tip**: How to do something a bit more efficiently or effectively.<br>\n",
    "🎬 **Demo**: Showing off something more advanced – so you know what Python can be used for!<br>\n",
    "\n",
    "### Learning Objectives\n",
    "1. [The New York Times API](#nyt)\n",
    "2. [Top stories API](#top)\n",
    "3. [Most Viewed and Most Shared APIs](#most)\n",
    "4. [Article Search API](#search)\n",
    "5. [Data Analysis](#analysis)\n",
    "6. [Demo: Handling Nested Arrays of Keywords](#demo)"
   ]
  },
  {
   "cell_type": "code",
   "execution_count": 32,
   "id": "b0379359-694d-491c-ba18-fa80ea3c65bc",
   "metadata": {
    "tags": []
   },
   "outputs": [],
   "source": [
    "# Import required libraries\n",
    "import matplotlib.pyplot as plt\n",
    "import numpy as np\n",
    "import pandas as pd\n",
    "from datetime import datetime"
   ]
  },
  {
   "cell_type": "markdown",
   "id": "8d2eeb34-dab0-464c-8fca-568624fe2cbb",
   "metadata": {},
   "source": [
    "<a id='nyt'></a>\n",
    "\n",
    "# The New York Times API\n",
    "\n",
    "We are going to use the NYT API to demonstrate how Web APIs can be used to access useful information in an easy way. The New York Times offers a treasure trove of data about their articles that is easily accessible and available for free! We'll now get set up with API keys so that we can make some API calls to the NYT servers.\n",
    "\n",
    "**Before** proceeding with this lesson, you need an API key."
   ]
  },
  {
   "cell_type": "markdown",
   "id": "48b45597",
   "metadata": {},
   "source": [
    "## Getting API Access\n",
    "\n",
    "For most APIs, a key or other user credentials are required for any database querying.  Generally, this requires that you register with the organization. Go to the [NYT Developer Page](http://developer.nytimes.com/) and create an account:\n",
    "\n",
    "![](../img/nytimes_start.png)\n",
    "\n",
    "Most APIs are set up for developers, so you'll likely be asked to register an \"application\".  All this really entails is coming up with a name for your project, and providing your real name, organization, and email.  Note that some more popular APIs (e.g. Twitter, Facebook) will require additional information, such as a web address or mobile number.\n",
    "\n",
    "## Getting your API Keys\n",
    "\n",
    "Once you've successfully registered, you will be assigned one or more keys, tokens, or other credentials that must be supplied to the server as part of any API call you make.  To make sure that users aren't abusing their data access privileges (e.g. by making many rapid queries), each set of keys will be given several **rate limits** governing the total number of calls that can be made over certain intervals of time.  For the NYT Article API, we have relatively generous rate limits: 10 calls per minute and 4,000 calls per day.\n",
    "\n",
    "1. Login with your new username and password.\n",
    "\n",
    "2. Click on your email in the top right corner and you'll see a dropdown menu that says **Apps**\n",
    "\n",
    "3. Click on **Apps** and then click on the **+ New App** button.\n",
    "\n",
    "4. You'll see the page where you'll be prompted to add a name for your App. You can call it anything. Then click enable on the APIs that are enabled in the screenshot. You can enable them all but make sure you at least enable the ones on the screenshot. \n",
    "\n",
    "![](../img/nytimes_app.png)\n",
    "\n",
    "5. You'll see an API key next to your App ID. Have that key ready to copy into the first notebook.\n",
    "\n",
    "![](../img/nytimes_key.png)"
   ]
  },
  {
   "cell_type": "markdown",
   "id": "a639eb32-15e0-48fc-9cb5-3bd804fae0f9",
   "metadata": {},
   "source": [
    "## Handling API Keys"
   ]
  },
  {
   "cell_type": "markdown",
   "id": "da084101-19bc-46c1-9722-317d0514da5e",
   "metadata": {},
   "source": [
    "API keys are sensitive data! You **do not** want to accidentally check them into a publically shared GitHub repo.\n",
    "\n",
    "The following cell will:\n",
    "\n",
    "1. first try to obtain previously saved credentials by loading with `configparser`;\n",
    "2. if not found, use `getpass` to request the credentials from the user (which works in notebooks as an input prompt);\n",
    "3. then save those user-inputted credentials using configparser to `~/.notebook-api-keys` which is outside of the .git controlled directory so it doesn't accidentally get added and checked in.\n",
    "\n",
    "Run the following cell and add the API Key you just created when prompted."
   ]
  },
  {
   "cell_type": "code",
   "execution_count": 1,
   "id": "17a9823a-4e85-41ff-b321-4f9821359821",
   "metadata": {
    "tags": []
   },
   "outputs": [
    {
     "name": "stdout",
     "output_type": "stream",
     "text": [
      "NYT API key retrieved successfully.\n"
     ]
    }
   ],
   "source": [
    "import configparser\n",
    "import os\n",
    "from getpass import getpass\n",
    "\n",
    "def get_api_key(api_name):\n",
    "    config_file_path = os.path.expanduser(\"~/.notebook-api-keys\")\n",
    "    config = configparser.ConfigParser(interpolation=None)  # Disable interpolation to avoid issues with special characters\n",
    "    \n",
    "    # Try reading the existing config file\n",
    "    if os.path.exists(config_file_path):\n",
    "        config.read(config_file_path)\n",
    "    \n",
    "    # Check if API key is present\n",
    "    if config.has_option(\"API_KEYS\", api_name):\n",
    "        # Ask if the user wants to update the key\n",
    "        update_key = input(f\"An API key for {api_name} already exists. Do you want to update it? (y/n): \").lower()\n",
    "        if update_key == 'n':\n",
    "            return config.get(\"API_KEYS\", api_name)\n",
    "    \n",
    "    # If no key exists or user opts to update, prompt for the new key\n",
    "    api_key = getpass(f\"Enter your {api_name} API key: \")\n",
    "\n",
    "    # Save the API key in the config file\n",
    "    if not config.has_section(\"API_KEYS\"):\n",
    "        config.add_section(\"API_KEYS\")\n",
    "    config.set(\"API_KEYS\", api_name, api_key)\n",
    "    \n",
    "    with open(config_file_path, \"w\") as f:\n",
    "        config.write(f)\n",
    "    \n",
    "    return api_key\n",
    "\n",
    "# Example usage to retrieve the NYT API key\n",
    "api_key = get_api_key(\"NYT\") #PLEASE DONT PRINT THE API KEY\n",
    "\n",
    "print(\"NYT API key retrieved successfully.\")\n"
   ]
  },
  {
   "cell_type": "markdown",
   "id": "fae52a0a-8e33-4f78-b181-e254fa81eabe",
   "metadata": {},
   "source": [
    "💡 **Tip**: Another way to keep your credentials secure and provide convenient access is through the [JupyterLab Credential Store\n",
    "](https://towardsdatascience.com/the-jupyterlab-credential-store-9cc3a0b9356). If you are using JupyterLab, this is a great general solution for handling API keys!"
   ]
  },
  {
   "cell_type": "markdown",
   "id": "5f5b395a-443f-4e40-91f7-8fcb5c33bbbe",
   "metadata": {},
   "source": [
    "## Using `pynytimes`\n",
    "\n",
    "To access the NYTimes' databases, we'll be using a third-party library called [pynytimes](https://github.com/michadenheijer/pynytimes). This package provides an easy to use tool for accessing the wealth of data hosted by the Times.\n",
    "\n",
    "To install the library, follow the instructions taken from their [Github repo](https://github.com/michadenheijer/pynytimes).\n",
    "\n",
    "There are multiple options to install `pynytimes`, but the easiest is by just installing it using `pip` in the Jupyter notebook itself, using a magic command:"
   ]
  },
  {
   "cell_type": "code",
   "execution_count": 2,
   "id": "d1d80b96-2285-43ab-bbd6-090fd4a9c2d7",
   "metadata": {
    "tags": []
   },
   "outputs": [
    {
     "name": "stdout",
     "output_type": "stream",
     "text": [
      "Collecting pynytimes\n",
      "  Downloading pynytimes-0.10.0-py3-none-any.whl.metadata (8.2 kB)\n",
      "Requirement already satisfied: requests<3.0.0,>=2.10.0 in /Users/ahyeoncho/Downloads/miniconda3/envs/dighum101/lib/python3.12/site-packages (from pynytimes) (2.32.3)\n",
      "Requirement already satisfied: urllib3 in /Users/ahyeoncho/Downloads/miniconda3/envs/dighum101/lib/python3.12/site-packages (from pynytimes) (2.4.0)\n",
      "Requirement already satisfied: charset_normalizer<4,>=2 in /Users/ahyeoncho/Downloads/miniconda3/envs/dighum101/lib/python3.12/site-packages (from requests<3.0.0,>=2.10.0->pynytimes) (3.4.2)\n",
      "Requirement already satisfied: idna<4,>=2.5 in /Users/ahyeoncho/Downloads/miniconda3/envs/dighum101/lib/python3.12/site-packages (from requests<3.0.0,>=2.10.0->pynytimes) (3.10)\n",
      "Requirement already satisfied: certifi>=2017.4.17 in /Users/ahyeoncho/Downloads/miniconda3/envs/dighum101/lib/python3.12/site-packages (from requests<3.0.0,>=2.10.0->pynytimes) (2025.4.26)\n",
      "Downloading pynytimes-0.10.0-py3-none-any.whl (20 kB)\n",
      "Installing collected packages: pynytimes\n",
      "Successfully installed pynytimes-0.10.0\n",
      "Note: you may need to restart the kernel to use updated packages.\n"
     ]
    }
   ],
   "source": [
    "%pip install pynytimes"
   ]
  },
  {
   "cell_type": "markdown",
   "id": "254a91bf-8626-46f8-acfc-163da0b862f2",
   "metadata": {},
   "source": [
    "You can also install it via the command line - whichever you're more comfortable with."
   ]
  },
  {
   "cell_type": "markdown",
   "id": "dc6d8416-3a3b-4641-954e-85519ca613ad",
   "metadata": {},
   "source": [
    "Once the package installed, let's go ahead import the library and initialize a connection to their servers using our api keys."
   ]
  },
  {
   "cell_type": "code",
   "execution_count": 3,
   "id": "dce57534-fe5d-45a4-bb97-f2df8dc3d9d6",
   "metadata": {
    "tags": []
   },
   "outputs": [],
   "source": [
    "# Import the NYTAPI object which we'll use to access the API\n",
    "from pynytimes import NYTAPI"
   ]
  },
  {
   "cell_type": "code",
   "execution_count": 4,
   "id": "018a6dfa-9343-42b1-9014-165ae7507b0c",
   "metadata": {
    "tags": []
   },
   "outputs": [],
   "source": [
    "# Intialize the NYT API class into an object using your API key\n",
    "nyt = NYTAPI(api_key, parse_dates=True)"
   ]
  },
  {
   "cell_type": "markdown",
   "id": "e13137c6-c776-4da0-b1a2-195726244be5",
   "metadata": {},
   "source": [
    "Ta-da! We are now ready to make some API calls!"
   ]
  },
  {
   "cell_type": "markdown",
   "id": "2a4a288c-8d6d-4774-bc84-822c9fedfaf0",
   "metadata": {},
   "source": [
    "## Making API Calls\n",
    "\n",
    " Now that we've established a connection to New York Times' rich database, let's go over what kind of data and privileges we have access to."
   ]
  },
  {
   "cell_type": "markdown",
   "id": "deedf92b-e0bb-4d6a-996c-3c3b4078a7cf",
   "metadata": {},
   "source": [
    "### APIs\n",
    "\n",
    "[Here is the collection of the APIs the NYT gives us:](https://developer.nytimes.com/apis)\n",
    "\n",
    "- [Top stories](https://developer.nytimes.com/docs/top-stories-product/1/overview): Returns an array of articles currently on the specified section \n",
    "- [Most viewed/shared articles](https://developer.nytimes.com/docs/most-popular-product/1/overview): Provides services for getting the most popular articles on NYTimes.com based on emails, shares, or views.\n",
    "- [Article search](https://developer.nytimes.com/docs/articlesearch-product/1/overview): Look up articles by keyword. You can refine your search using filters and facets.\n",
    "- [Books](https://developer.nytimes.com/docs/books-product/1/overview): Provides information about book reviews and The New York Times Best Sellers lists.\n",
    "- [Movie reviews](https://developer.nytimes.com/docs/movie-reviews-api/1/overview): Search movie reviews by keyword and opening date and filter by Critics' Picks.\n",
    "- [Times Wire](https://developer.nytimes.com/docs/timeswire-product/1/overview): Get links and metadata for Times' articles as soon as they are published on NYTimes.com. The Times Newswire API provides an up-to-the-minute stream of published articles.\n",
    "- [Tag query (TimesTags)](https://developer.nytimes.com/docs/timestags-product/1/overview): Provide a string of characters and the service returns a ranked list of suggested terms.\n",
    "- [Archive metadata](https://developer.nytimes.com/docs/archive-product/1/overview): Returns an array of NYT articles for a given month, going back to 1851."
   ]
  },
  {
   "cell_type": "markdown",
   "id": "44a18eac-436d-43ef-8151-6bfc85a74a8d",
   "metadata": {},
   "source": [
    "<a id='top'></a>\n",
    "\n",
    "# Top Stories API\n",
    "\n",
    "Let's look at the top stories of the day. All we have to do is call a single method on the `nyt` object:"
   ]
  },
  {
   "cell_type": "code",
   "execution_count": 5,
   "id": "c6d14b2a-67f3-42b6-b383-1eb78962a05a",
   "metadata": {},
   "outputs": [
    {
     "name": "stdout",
     "output_type": "stream",
     "text": [
      "top_stories is a list of length 23\n"
     ]
    }
   ],
   "source": [
    "# Get all the top stories from the home page\n",
    "top_stories = nyt.top_stories()\n",
    "\n",
    "print(f\"top_stories is a list of length {len(top_stories)}\")"
   ]
  },
  {
   "cell_type": "markdown",
   "id": "8eded794-5f47-4848-9c59-9ba325efecaf",
   "metadata": {},
   "source": [
    "The `top_stories` method has a single paramater called `section` parameter defaults to \"home\"."
   ]
  },
  {
   "cell_type": "code",
   "execution_count": 6,
   "id": "b582b805-46fb-48f4-8b0c-fc5585b7b898",
   "metadata": {},
   "outputs": [
    {
     "data": {
      "text/plain": [
       "[{'section': 'world',\n",
       "  'subsection': 'middleeast',\n",
       "  'title': 'How Tough Is Iran? A String of Military Losses Raises Questions.',\n",
       "  'abstract': 'Iran is often portrayed as one of the world’s most dangerous actors, but with its attacks on Iranian defenses, nuclear sites and proxy militias, Israel has exposed a compromised and weakened adversary.',\n",
       "  'url': 'https://www.nytimes.com/2025/06/16/world/middleeast/iran-military-defense.html',\n",
       "  'uri': 'nyt://article/45e5f07b-2c53-5f6b-af1f-b401b00dbcde',\n",
       "  'byline': 'By Vivian Yee',\n",
       "  'item_type': 'Article',\n",
       "  'updated_date': datetime.datetime(2025, 6, 16, 15, 47, 55, tzinfo=datetime.timezone(datetime.timedelta(days=-1, seconds=72000))),\n",
       "  'created_date': datetime.datetime(2025, 6, 16, 11, 13, 28, tzinfo=datetime.timezone(datetime.timedelta(days=-1, seconds=72000))),\n",
       "  'published_date': datetime.datetime(2025, 6, 16, 11, 13, 28, tzinfo=datetime.timezone(datetime.timedelta(days=-1, seconds=72000))),\n",
       "  'material_type_facet': '',\n",
       "  'kicker': '',\n",
       "  'des_facet': ['War and Armed Conflicts',\n",
       "   'Iran-Israel Proxy Conflict',\n",
       "   'Israel-Gaza War (2023- )',\n",
       "   'International Relations'],\n",
       "  'org_facet': ['Hezbollah'],\n",
       "  'per_facet': [],\n",
       "  'geo_facet': ['Iran', 'Israel'],\n",
       "  'multimedia': [{'url': 'https://static01.nyt.com/images/2025/06/16/multimedia/16vid-iran-israel-update--kcql/16vid-iran-israel-update--kcql-superJumbo.jpg',\n",
       "    'format': 'Super Jumbo',\n",
       "    'height': 1365,\n",
       "    'width': 2048,\n",
       "    'type': 'image',\n",
       "    'subtype': 'photo',\n",
       "    'caption': '',\n",
       "    'copyright': 'Getty Images/Getty Images'},\n",
       "   {'url': 'https://static01.nyt.com/images/2025/06/16/multimedia/16vid-iran-israel-update--kcql/16vid-iran-israel-update--kcql-threeByTwoSmallAt2X.jpg',\n",
       "    'format': 'threeByTwoSmallAt2X',\n",
       "    'height': 400,\n",
       "    'width': 600,\n",
       "    'type': 'image',\n",
       "    'subtype': 'photo',\n",
       "    'caption': '',\n",
       "    'copyright': 'Getty Images/Getty Images'},\n",
       "   {'url': 'https://static01.nyt.com/images/2025/06/16/multimedia/16vid-iran-israel-update--kcql/16vid-iran-israel-update--kcql-thumbLarge.jpg',\n",
       "    'format': 'Large Thumbnail',\n",
       "    'height': 150,\n",
       "    'width': 150,\n",
       "    'type': 'image',\n",
       "    'subtype': 'photo',\n",
       "    'caption': '',\n",
       "    'copyright': 'Getty Images/Getty Images'}],\n",
       "  'short_url': ''},\n",
       " {'section': 'world',\n",
       "  'subsection': 'middleeast',\n",
       "  'title': 'Israel attacks Iran’s state television, live on the air.',\n",
       "  'abstract': '',\n",
       "  'url': 'https://www.nytimes.com/live/2025/06/16/world/iran-israel-news/israel-iran-state-tv',\n",
       "  'uri': 'nyt://article/dbd8827b-e460-59f2-8406-0a72da7cd970',\n",
       "  'byline': 'By Aaron Boxerman, Farnaz Fassihi, Aric Toler and Sanjana Varghese',\n",
       "  'item_type': 'Article',\n",
       "  'updated_date': datetime.datetime(2025, 6, 16, 15, 44, 3, tzinfo=datetime.timezone(datetime.timedelta(days=-1, seconds=72000))),\n",
       "  'created_date': datetime.datetime(2025, 6, 16, 13, 0, 15, tzinfo=datetime.timezone(datetime.timedelta(days=-1, seconds=72000))),\n",
       "  'published_date': datetime.datetime(2025, 6, 16, 13, 0, 15, tzinfo=datetime.timezone(datetime.timedelta(days=-1, seconds=72000))),\n",
       "  'material_type_facet': '',\n",
       "  'kicker': '',\n",
       "  'des_facet': [],\n",
       "  'org_facet': [],\n",
       "  'per_facet': [],\n",
       "  'geo_facet': [],\n",
       "  'multimedia': [{'url': 'https://static01.nyt.com/images/2025/06/16/16vid-Iran-state-tv-anchor-47767-cover/16vid-Iran-state-tv-anchor-47767-cover-superJumbo.jpg',\n",
       "    'format': 'Super Jumbo',\n",
       "    'height': 1080,\n",
       "    'width': 1620,\n",
       "    'type': 'image',\n",
       "    'subtype': 'photo',\n",
       "    'caption': '',\n",
       "    'copyright': 'Iranian State TV, via IRIB'},\n",
       "   {'url': 'https://static01.nyt.com/images/2025/06/16/16vid-Iran-state-tv-anchor-47767-cover/16vid-Iran-state-tv-anchor-47767-cover-threeByTwoSmallAt2X.jpg',\n",
       "    'format': 'threeByTwoSmallAt2X',\n",
       "    'height': 400,\n",
       "    'width': 600,\n",
       "    'type': 'image',\n",
       "    'subtype': 'photo',\n",
       "    'caption': '',\n",
       "    'copyright': 'Iranian State TV, via IRIB'},\n",
       "   {'url': 'https://static01.nyt.com/images/2025/06/16/16vid-Iran-state-tv-anchor-47767-cover/16vid-Iran-state-tv-anchor-47767-cover-thumbLarge.jpg',\n",
       "    'format': 'Large Thumbnail',\n",
       "    'height': 150,\n",
       "    'width': 150,\n",
       "    'type': 'image',\n",
       "    'subtype': 'photo',\n",
       "    'caption': '',\n",
       "    'copyright': 'Iranian State TV, via IRIB'}],\n",
       "  'short_url': ''}]"
      ]
     },
     "execution_count": 6,
     "metadata": {},
     "output_type": "execute_result"
    }
   ],
   "source": [
    "# Preview the results\n",
    "top_stories[:2]"
   ]
  },
  {
   "cell_type": "markdown",
   "id": "5724e114-fe34-4471-9ffe-310f9d921a7e",
   "metadata": {},
   "source": [
    "This is pretty typical output for data pulled from an API. We are looking at a list of nested JSON dictionaries."
   ]
  },
  {
   "cell_type": "markdown",
   "id": "38b034d1-32f9-4a41-93c3-e76c90ebaa81",
   "metadata": {},
   "source": [
    "When working with a new API, a good way to establish an understanding of the data is to inspect a single object in the collection. Let's grab the first story in the array and inspect its attributes and data:"
   ]
  },
  {
   "cell_type": "code",
   "execution_count": 7,
   "id": "f744cb9e-d991-4c2e-97bd-d12aa5912119",
   "metadata": {},
   "outputs": [
    {
     "data": {
      "text/plain": [
       "{'section': 'world',\n",
       " 'subsection': 'middleeast',\n",
       " 'title': 'How Tough Is Iran? A String of Military Losses Raises Questions.',\n",
       " 'abstract': 'Iran is often portrayed as one of the world’s most dangerous actors, but with its attacks on Iranian defenses, nuclear sites and proxy militias, Israel has exposed a compromised and weakened adversary.',\n",
       " 'url': 'https://www.nytimes.com/2025/06/16/world/middleeast/iran-military-defense.html',\n",
       " 'uri': 'nyt://article/45e5f07b-2c53-5f6b-af1f-b401b00dbcde',\n",
       " 'byline': 'By Vivian Yee',\n",
       " 'item_type': 'Article',\n",
       " 'updated_date': datetime.datetime(2025, 6, 16, 15, 47, 55, tzinfo=datetime.timezone(datetime.timedelta(days=-1, seconds=72000))),\n",
       " 'created_date': datetime.datetime(2025, 6, 16, 11, 13, 28, tzinfo=datetime.timezone(datetime.timedelta(days=-1, seconds=72000))),\n",
       " 'published_date': datetime.datetime(2025, 6, 16, 11, 13, 28, tzinfo=datetime.timezone(datetime.timedelta(days=-1, seconds=72000))),\n",
       " 'material_type_facet': '',\n",
       " 'kicker': '',\n",
       " 'des_facet': ['War and Armed Conflicts',\n",
       "  'Iran-Israel Proxy Conflict',\n",
       "  'Israel-Gaza War (2023- )',\n",
       "  'International Relations'],\n",
       " 'org_facet': ['Hezbollah'],\n",
       " 'per_facet': [],\n",
       " 'geo_facet': ['Iran', 'Israel'],\n",
       " 'multimedia': [{'url': 'https://static01.nyt.com/images/2025/06/16/multimedia/16vid-iran-israel-update--kcql/16vid-iran-israel-update--kcql-superJumbo.jpg',\n",
       "   'format': 'Super Jumbo',\n",
       "   'height': 1365,\n",
       "   'width': 2048,\n",
       "   'type': 'image',\n",
       "   'subtype': 'photo',\n",
       "   'caption': '',\n",
       "   'copyright': 'Getty Images/Getty Images'},\n",
       "  {'url': 'https://static01.nyt.com/images/2025/06/16/multimedia/16vid-iran-israel-update--kcql/16vid-iran-israel-update--kcql-threeByTwoSmallAt2X.jpg',\n",
       "   'format': 'threeByTwoSmallAt2X',\n",
       "   'height': 400,\n",
       "   'width': 600,\n",
       "   'type': 'image',\n",
       "   'subtype': 'photo',\n",
       "   'caption': '',\n",
       "   'copyright': 'Getty Images/Getty Images'},\n",
       "  {'url': 'https://static01.nyt.com/images/2025/06/16/multimedia/16vid-iran-israel-update--kcql/16vid-iran-israel-update--kcql-thumbLarge.jpg',\n",
       "   'format': 'Large Thumbnail',\n",
       "   'height': 150,\n",
       "   'width': 150,\n",
       "   'type': 'image',\n",
       "   'subtype': 'photo',\n",
       "   'caption': '',\n",
       "   'copyright': 'Getty Images/Getty Images'}],\n",
       " 'short_url': ''}"
      ]
     },
     "execution_count": 7,
     "metadata": {},
     "output_type": "execute_result"
    }
   ],
   "source": [
    "top_story = top_stories[0]\n",
    "top_story"
   ]
  },
  {
   "cell_type": "markdown",
   "id": "08a0fa06-969c-4e20-b392-3e4adb298a7d",
   "metadata": {},
   "source": [
    "We are provided a diverse collection of data for the article ranging from the expected (title, author, section) and to NLP-derived information such as named entities. Notice that the full article itself is not included - the API does not provide that to us."
   ]
  },
  {
   "cell_type": "markdown",
   "id": "6169914c-9e61-459d-acad-67d579cb153d",
   "metadata": {},
   "source": [
    "💡 **Tip**: If we are interested in a specific section, we can pass in one of the following tags into the `section` parameter:\n",
    "\n",
    "\n",
    "```arts```, ```automobiles```, ```books```, ```business```, ```fashion```, ```food```, ```health```, ```home```, ```insider```, ```magazine```, ```movies```, ```national```, ```nyregion```, ```obituaries```, ```opinion```, ```politics```, ```realestate```, ```science```, ```sports```, ```sundayreview```, ```technology```, ```theater```, ```tmagazine```, ```travel```, ```upshot```, and ```world```.\n"
   ]
  },
  {
   "cell_type": "markdown",
   "id": "5ab83c58",
   "metadata": {},
   "source": [
    "NYT and other API provides can and do change their API tags and other aspects of their API usage. It is always a good idea to check out their documentation and see what they suggest.\n",
    "\n",
    "This [link](https://developer.nytimes.com/docs/timeswire-product/1/routes/content/section-list.json/get) shows you how we can get all the section names. You can run it on the browser or with the code below.\n",
    "\n",
    "![](../img/nyt_section_list.png)\n"
   ]
  },
  {
   "cell_type": "code",
   "execution_count": 8,
   "id": "cc3e040c",
   "metadata": {},
   "outputs": [
    {
     "data": {
      "text/plain": [
       "{'status': 'OK',\n",
       " 'copyright': 'Copyright (c) 2025 The New York Times Company. All Rights Reserved.',\n",
       " 'num_results': 50,\n",
       " 'results': [{'section': 'admin', 'display_name': 'Admin'},\n",
       "  {'section': 'arts', 'display_name': 'Arts'},\n",
       "  {'section': 'automobiles', 'display_name': 'Automobiles'},\n",
       "  {'section': 'books', 'display_name': 'Books'},\n",
       "  {'section': 'briefing', 'display_name': 'Briefing'},\n",
       "  {'section': 'business', 'display_name': 'Business'},\n",
       "  {'section': 'climate', 'display_name': 'Climate'},\n",
       "  {'section': 'corrections', 'display_name': 'Corrections'},\n",
       "  {'section': 'education', 'display_name': 'Education'},\n",
       "  {'section': 'en español', 'display_name': 'En español'},\n",
       "  {'section': 'fashion', 'display_name': 'Fashion'},\n",
       "  {'section': 'food', 'display_name': 'Food'},\n",
       "  {'section': 'gameplay', 'display_name': 'Gameplay'},\n",
       "  {'section': 'guide', 'display_name': 'Guide'},\n",
       "  {'section': 'health', 'display_name': 'Health'},\n",
       "  {'section': 'home & garden', 'display_name': 'Home & Garden'},\n",
       "  {'section': 'home page', 'display_name': 'Home Page'},\n",
       "  {'section': 'job market', 'display_name': 'Job Market'},\n",
       "  {'section': 'the learning network', 'display_name': 'The Learning Network'},\n",
       "  {'section': 'lens', 'display_name': 'Lens'},\n",
       "  {'section': 'magazine', 'display_name': 'Magazine'},\n",
       "  {'section': 'movies', 'display_name': 'Movies'},\n",
       "  {'section': 'multimedia/photos', 'display_name': 'Multimedia/Photos'},\n",
       "  {'section': 'new york', 'display_name': 'New York'},\n",
       "  {'section': 'obituaries', 'display_name': 'Obituaries'},\n",
       "  {'section': 'opinion', 'display_name': 'Opinion'},\n",
       "  {'section': 'parenting', 'display_name': 'Parenting'},\n",
       "  {'section': 'podcasts', 'display_name': 'Podcasts'},\n",
       "  {'section': 'reader center', 'display_name': 'Reader Center'},\n",
       "  {'section': 'real estate', 'display_name': 'Real Estate'},\n",
       "  {'section': 'smarter living', 'display_name': 'Smarter Living'},\n",
       "  {'section': 'science', 'display_name': 'Science'},\n",
       "  {'section': 'sports', 'display_name': 'Sports'},\n",
       "  {'section': 'style', 'display_name': 'Style'},\n",
       "  {'section': 'sunday review', 'display_name': 'Sunday Review'},\n",
       "  {'section': 't brand', 'display_name': 'T Brand'},\n",
       "  {'section': 't magazine', 'display_name': 'T Magazine'},\n",
       "  {'section': 'technology', 'display_name': 'Technology'},\n",
       "  {'section': 'theater', 'display_name': 'Theater'},\n",
       "  {'section': 'times insider', 'display_name': 'Times Insider'},\n",
       "  {'section': 'today’s paper', 'display_name': 'Today’s Paper'},\n",
       "  {'section': 'travel', 'display_name': 'Travel'},\n",
       "  {'section': 'u.s.', 'display_name': 'U.S.'},\n",
       "  {'section': 'universal', 'display_name': 'Universal'},\n",
       "  {'section': 'the upshot', 'display_name': 'The Upshot'},\n",
       "  {'section': 'video', 'display_name': 'Video'},\n",
       "  {'section': 'the weekly', 'display_name': 'The Weekly'},\n",
       "  {'section': 'well', 'display_name': 'Well'},\n",
       "  {'section': 'world', 'display_name': 'World'},\n",
       "  {'section': 'your money', 'display_name': 'Your Money'}]}"
      ]
     },
     "execution_count": 8,
     "metadata": {},
     "output_type": "execute_result"
    }
   ],
   "source": [
    "import requests\n",
    "\n",
    "url = \"https://api.nytimes.com/svc/news/v3/content/section-list.json\"\n",
    "params = {\"api-key\": api_key}\n",
    "response = requests.get(url, params=params)\n",
    "sections_data = response.json()\n",
    "sections_data"
   ]
  },
  {
   "cell_type": "code",
   "execution_count": 9,
   "id": "df012cca-1573-4347-9e91-41e7c6178fcd",
   "metadata": {},
   "outputs": [
    {
     "name": "stdout",
     "output_type": "stream",
     "text": [
      "arts\n"
     ]
    },
    {
     "data": {
      "text/plain": [
       "{'section': 'arts',\n",
       " 'subsection': 'design',\n",
       " 'title': 'Crowning New York’s Top ‘Pigeon’',\n",
       " 'abstract': 'Thousands of people gathered on the High Line on Saturday for Pigeon Fest, inspired by an artist’s sculpture and an appreciation for the city’s most resilient birds.',\n",
       " 'url': 'https://www.nytimes.com/2025/06/16/arts/design/pigeon-fest-high-line.html',\n",
       " 'uri': 'nyt://article/eb52bf89-c5b8-5d5a-a44a-fe5f329f25b7',\n",
       " 'byline': 'By Melena Ryzik',\n",
       " 'item_type': 'Article',\n",
       " 'updated_date': datetime.datetime(2025, 6, 16, 15, 20, 15, tzinfo=datetime.timezone(datetime.timedelta(days=-1, seconds=72000))),\n",
       " 'created_date': datetime.datetime(2025, 6, 16, 5, 2, 17, tzinfo=datetime.timezone(datetime.timedelta(days=-1, seconds=72000))),\n",
       " 'published_date': datetime.datetime(2025, 6, 16, 5, 2, 17, tzinfo=datetime.timezone(datetime.timedelta(days=-1, seconds=72000))),\n",
       " 'material_type_facet': '',\n",
       " 'kicker': '',\n",
       " 'des_facet': ['Festivals',\n",
       "  'Pigeons',\n",
       "  'Art',\n",
       "  'Parks and Other Recreation Areas',\n",
       "  'Contests and Prizes'],\n",
       " 'org_facet': ['Friends of the High Line'],\n",
       " 'per_facet': ['Argote, Ivan', 'Machine Dazzle (Costume Designer)'],\n",
       " 'geo_facet': ['High Line (Manhattan, NY)'],\n",
       " 'multimedia': [{'url': 'https://static01.nyt.com/images/2025/06/16/multimedia/PIGEONS-PROMO-bpzj/PIGEONS-PROMO-bpzj-superJumbo.jpg',\n",
       "   'format': 'Super Jumbo',\n",
       "   'height': 2048,\n",
       "   'width': 1366,\n",
       "   'type': 'image',\n",
       "   'subtype': 'photo',\n",
       "   'caption': '',\n",
       "   'copyright': 'Lucia Buricelli for The New York Times'},\n",
       "  {'url': 'https://static01.nyt.com/images/2025/06/16/multimedia/PIGEONS-PROMO-bpzj/PIGEONS-PROMO-bpzj-threeByTwoSmallAt2X.jpg',\n",
       "   'format': 'threeByTwoSmallAt2X',\n",
       "   'height': 400,\n",
       "   'width': 600,\n",
       "   'type': 'image',\n",
       "   'subtype': 'photo',\n",
       "   'caption': '',\n",
       "   'copyright': 'Lucia Buricelli for The New York Times'},\n",
       "  {'url': 'https://static01.nyt.com/images/2025/06/16/multimedia/PIGEONS-PROMO-bpzj/PIGEONS-PROMO-bpzj-thumbLarge.jpg',\n",
       "   'format': 'Large Thumbnail',\n",
       "   'height': 150,\n",
       "   'width': 150,\n",
       "   'type': 'image',\n",
       "   'subtype': 'photo',\n",
       "   'caption': '',\n",
       "   'copyright': 'Lucia Buricelli for The New York Times'}],\n",
       " 'short_url': ''}"
      ]
     },
     "execution_count": 9,
     "metadata": {},
     "output_type": "execute_result"
    }
   ],
   "source": [
    "top_arts_stories = nyt.top_stories(section='arts')\n",
    "print(top_arts_stories[0]['section'])\n",
    "top_arts_stories[0]"
   ]
  },
  {
   "cell_type": "markdown",
   "id": "cc28bc7d-d3dd-48ff-99d8-20b9db7046b0",
   "metadata": {},
   "source": [
    "## 🥊 Challenge: Find the top stories for a section\n",
    "\n",
    "- Choose a section. Grab the top stories and store it in a list.\n",
    "- How many stories are in the section?\n",
    "- What is the title of the first story?"
   ]
  },
  {
   "cell_type": "code",
   "execution_count": 27,
   "id": "76c5a1a4",
   "metadata": {},
   "outputs": [
    {
     "name": "stdout",
     "output_type": "stream",
     "text": [
      "There are 36 world stories.\n"
     ]
    }
   ],
   "source": [
    "top_world_stories = nyt.top_stories(section=\"world\")\n",
    "print(f\"There are {len(top_world_stories)} {\"world\"} stories.\")"
   ]
  },
  {
   "cell_type": "code",
   "execution_count": 28,
   "id": "12c920bc-bf8c-48a4-a34e-d10e4a23476d",
   "metadata": {},
   "outputs": [
    {
     "name": "stdout",
     "output_type": "stream",
     "text": [
      "There are 38 education stories.\n"
     ]
    }
   ],
   "source": [
    "# Education\n",
    "section = \"education\"\n",
    "top_education_stories = nyt.top_stories(section=section)\n",
    "print(f\"There are {len(top_education_stories)} {section} stories.\")"
   ]
  },
  {
   "cell_type": "code",
   "execution_count": 29,
   "id": "fb3e2e6d",
   "metadata": {},
   "outputs": [
    {
     "data": {
      "text/plain": [
       "{'section': 'us',\n",
       " 'subsection': '',\n",
       " 'title': 'Hispanic-Serving College Program Is Discriminatory, Lawsuit Argues',\n",
       " 'abstract': 'A group behind the Supreme Court case that ended affirmative action is now targeting a federal support for schools that enroll large numbers of Hispanic students.',\n",
       " 'url': 'https://www.nytimes.com/2025/06/11/us/hispanic-serving-institutions-lawsuit.html',\n",
       " 'uri': 'nyt://article/213c3b9e-5107-526f-9b6f-b2b7daac26e9',\n",
       " 'byline': 'By Anemona Hartocollis',\n",
       " 'item_type': 'Article',\n",
       " 'updated_date': datetime.datetime(2025, 6, 12, 11, 41, 54, tzinfo=datetime.timezone(datetime.timedelta(days=-1, seconds=72000))),\n",
       " 'created_date': datetime.datetime(2025, 6, 11, 16, 30, 35, tzinfo=datetime.timezone(datetime.timedelta(days=-1, seconds=72000))),\n",
       " 'published_date': datetime.datetime(2025, 6, 11, 16, 30, 35, tzinfo=datetime.timezone(datetime.timedelta(days=-1, seconds=72000))),\n",
       " 'material_type_facet': '',\n",
       " 'kicker': '',\n",
       " 'des_facet': ['Hispanic-Americans',\n",
       "  'Federal Aid (US)',\n",
       "  'Colleges and Universities',\n",
       "  'Suits and Litigation (Civil)',\n",
       "  'Race and Ethnicity',\n",
       "  'Discrimination',\n",
       "  'Federal-State Relations (US)'],\n",
       " 'org_facet': ['Students for Fair Admissions', 'Education Department (US)'],\n",
       " 'per_facet': ['Blum, Edward J'],\n",
       " 'geo_facet': ['Tennessee'],\n",
       " 'multimedia': [{'url': 'https://static01.nyt.com/images/2025/06/11/multimedia/11nat-hsi-fwlv/11nat-hsi-fwlv-superJumbo.jpg',\n",
       "   'format': 'Super Jumbo',\n",
       "   'height': 1513,\n",
       "   'width': 2048,\n",
       "   'type': 'image',\n",
       "   'subtype': 'photo',\n",
       "   'caption': 'Arizona State University in Tempe is part of the Hispanic-serving institutions program.',\n",
       "   'copyright': 'Matt York/Associated Press'},\n",
       "  {'url': 'https://static01.nyt.com/images/2025/06/11/multimedia/11nat-hsi-fwlv/11nat-hsi-fwlv-threeByTwoSmallAt2X.jpg',\n",
       "   'format': 'threeByTwoSmallAt2X',\n",
       "   'height': 400,\n",
       "   'width': 600,\n",
       "   'type': 'image',\n",
       "   'subtype': 'photo',\n",
       "   'caption': 'Arizona State University in Tempe is part of the Hispanic-serving institutions program.',\n",
       "   'copyright': 'Matt York/Associated Press'},\n",
       "  {'url': 'https://static01.nyt.com/images/2025/06/11/multimedia/11nat-hsi-fwlv/11nat-hsi-fwlv-thumbLarge.jpg',\n",
       "   'format': 'Large Thumbnail',\n",
       "   'height': 150,\n",
       "   'width': 150,\n",
       "   'type': 'image',\n",
       "   'subtype': 'photo',\n",
       "   'caption': 'Arizona State University in Tempe is part of the Hispanic-serving institutions program.',\n",
       "   'copyright': 'Matt York/Associated Press'}],\n",
       " 'short_url': ''}"
      ]
     },
     "execution_count": 29,
     "metadata": {},
     "output_type": "execute_result"
    }
   ],
   "source": [
    "# Grab first story\n",
    "top_education_story = top_education_stories[0]\n",
    "top_education_story"
   ]
  },
  {
   "cell_type": "code",
   "execution_count": 30,
   "id": "f3500bfa",
   "metadata": {},
   "outputs": [
    {
     "data": {
      "text/plain": [
       "'Hispanic-Serving College Program Is Discriminatory, Lawsuit Argues'"
      ]
     },
     "execution_count": 30,
     "metadata": {},
     "output_type": "execute_result"
    }
   ],
   "source": [
    "# Get the title of the top education story\n",
    "top_education_story_title = top_education_story[\"title\"]\n",
    "top_education_story_title"
   ]
  },
  {
   "cell_type": "markdown",
   "id": "73610bbb-e547-4dac-9d55-be815fba4009",
   "metadata": {},
   "source": [
    "## Organizing the API Results into a `pandas` DataFrame\n",
    "\n",
    "In order to conduct subsequent data analysis, we need to convert the list of JSON data to a `pandas` DataFrame. `pandas` allows us to simply pass in the JSON list and produce a clean table in one line of code. "
   ]
  },
  {
   "cell_type": "markdown",
   "id": "cab0d546-3798-4ed9-bb8c-15bfd6ad5333",
   "metadata": {},
   "source": [
    "First, let's see what happens when we pass in `top_stories` to `pd.json_normalize`:"
   ]
  },
  {
   "cell_type": "code",
   "execution_count": 33,
   "id": "176bb5a8-53db-4244-a525-bd836b902ede",
   "metadata": {},
   "outputs": [
    {
     "data": {
      "application/vnd.microsoft.datawrangler.viewer.v0+json": {
       "columns": [
        {
         "name": "index",
         "rawType": "int64",
         "type": "integer"
        },
        {
         "name": "section",
         "rawType": "object",
         "type": "string"
        },
        {
         "name": "subsection",
         "rawType": "object",
         "type": "string"
        },
        {
         "name": "title",
         "rawType": "object",
         "type": "string"
        },
        {
         "name": "abstract",
         "rawType": "object",
         "type": "string"
        },
        {
         "name": "url",
         "rawType": "object",
         "type": "string"
        },
        {
         "name": "uri",
         "rawType": "object",
         "type": "string"
        },
        {
         "name": "byline",
         "rawType": "object",
         "type": "string"
        },
        {
         "name": "item_type",
         "rawType": "object",
         "type": "string"
        },
        {
         "name": "updated_date",
         "rawType": "datetime64[ns, UTC-04:00]",
         "type": "unknown"
        },
        {
         "name": "created_date",
         "rawType": "datetime64[ns, UTC-04:00]",
         "type": "unknown"
        },
        {
         "name": "published_date",
         "rawType": "datetime64[ns, UTC-04:00]",
         "type": "unknown"
        },
        {
         "name": "material_type_facet",
         "rawType": "object",
         "type": "string"
        },
        {
         "name": "kicker",
         "rawType": "object",
         "type": "string"
        },
        {
         "name": "des_facet",
         "rawType": "object",
         "type": "unknown"
        },
        {
         "name": "org_facet",
         "rawType": "object",
         "type": "unknown"
        },
        {
         "name": "per_facet",
         "rawType": "object",
         "type": "unknown"
        },
        {
         "name": "geo_facet",
         "rawType": "object",
         "type": "unknown"
        },
        {
         "name": "multimedia",
         "rawType": "object",
         "type": "unknown"
        },
        {
         "name": "short_url",
         "rawType": "object",
         "type": "string"
        }
       ],
       "ref": "6bbf8668-e720-460b-986e-2c8395f9dd08",
       "rows": [
        [
         "0",
         "world",
         "middleeast",
         "How Tough Is Iran? A String of Military Losses Raises Questions.",
         "Iran is often portrayed as one of the world’s most dangerous actors, but with its attacks on Iranian defenses, nuclear sites and proxy militias, Israel has exposed a compromised and weakened adversary.",
         "https://www.nytimes.com/2025/06/16/world/middleeast/iran-military-defense.html",
         "nyt://article/45e5f07b-2c53-5f6b-af1f-b401b00dbcde",
         "By Vivian Yee",
         "Article",
         "2025-06-16 15:47:55-04:00",
         "2025-06-16 11:13:28-04:00",
         "2025-06-16 11:13:28-04:00",
         "",
         "",
         "['War and Armed Conflicts', 'Iran-Israel Proxy Conflict', 'Israel-Gaza War (2023- )', 'International Relations']",
         "['Hezbollah']",
         "[]",
         "['Iran', 'Israel']",
         "[{'url': 'https://static01.nyt.com/images/2025/06/16/multimedia/16vid-iran-israel-update--kcql/16vid-iran-israel-update--kcql-superJumbo.jpg', 'format': 'Super Jumbo', 'height': 1365, 'width': 2048, 'type': 'image', 'subtype': 'photo', 'caption': '', 'copyright': 'Getty Images/Getty Images'}, {'url': 'https://static01.nyt.com/images/2025/06/16/multimedia/16vid-iran-israel-update--kcql/16vid-iran-israel-update--kcql-threeByTwoSmallAt2X.jpg', 'format': 'threeByTwoSmallAt2X', 'height': 400, 'width': 600, 'type': 'image', 'subtype': 'photo', 'caption': '', 'copyright': 'Getty Images/Getty Images'}, {'url': 'https://static01.nyt.com/images/2025/06/16/multimedia/16vid-iran-israel-update--kcql/16vid-iran-israel-update--kcql-thumbLarge.jpg', 'format': 'Large Thumbnail', 'height': 150, 'width': 150, 'type': 'image', 'subtype': 'photo', 'caption': '', 'copyright': 'Getty Images/Getty Images'}]",
         ""
        ],
        [
         "1",
         "world",
         "middleeast",
         "Israel attacks Iran’s state television, live on the air.",
         "",
         "https://www.nytimes.com/live/2025/06/16/world/iran-israel-news/israel-iran-state-tv",
         "nyt://article/dbd8827b-e460-59f2-8406-0a72da7cd970",
         "By Aaron Boxerman, Farnaz Fassihi, Aric Toler and Sanjana Varghese",
         "Article",
         "2025-06-16 15:44:03-04:00",
         "2025-06-16 13:00:15-04:00",
         "2025-06-16 13:00:15-04:00",
         "",
         "",
         "[]",
         "[]",
         "[]",
         "[]",
         "[{'url': 'https://static01.nyt.com/images/2025/06/16/16vid-Iran-state-tv-anchor-47767-cover/16vid-Iran-state-tv-anchor-47767-cover-superJumbo.jpg', 'format': 'Super Jumbo', 'height': 1080, 'width': 1620, 'type': 'image', 'subtype': 'photo', 'caption': '', 'copyright': 'Iranian State TV, via IRIB'}, {'url': 'https://static01.nyt.com/images/2025/06/16/16vid-Iran-state-tv-anchor-47767-cover/16vid-Iran-state-tv-anchor-47767-cover-threeByTwoSmallAt2X.jpg', 'format': 'threeByTwoSmallAt2X', 'height': 400, 'width': 600, 'type': 'image', 'subtype': 'photo', 'caption': '', 'copyright': 'Iranian State TV, via IRIB'}, {'url': 'https://static01.nyt.com/images/2025/06/16/16vid-Iran-state-tv-anchor-47767-cover/16vid-Iran-state-tv-anchor-47767-cover-thumbLarge.jpg', 'format': 'Large Thumbnail', 'height': 150, 'width': 150, 'type': 'image', 'subtype': 'photo', 'caption': '', 'copyright': 'Iranian State TV, via IRIB'}]",
         ""
        ],
        [
         "2",
         "us",
         "",
         "How the Minnesota Shootings Suspect Was Caught",
         "A two-day manhunt ended Sunday night as police captured the suspect, Vance Boelter, in a field. No force was used.",
         "https://www.nytimes.com/2025/06/16/us/minnesota-shooting-suspect-caught-how.html",
         "nyt://article/19c09471-4e34-5eb2-ae55-e2919a495f88",
         "By Nicholas Bogel-Burroughs, Mitch Smith, Jeff Ernst and Jenny Gross",
         "Article",
         "2025-06-16 16:00:46-04:00",
         "2025-06-16 08:44:58-04:00",
         "2025-06-16 08:44:58-04:00",
         "",
         "",
         "['Shootings of Minnesota Legislators (2025)', 'Police']",
         "[]",
         "['Boelter, Vance L']",
         "[]",
         "[{'url': 'https://static01.nyt.com/images/2025/06/16/multimedia/16minn-shooting-capture-jvwp/16minn-shooting-capture-jvwp-superJumbo.jpg', 'format': 'Super Jumbo', 'height': 1366, 'width': 2048, 'type': 'image', 'subtype': 'photo', 'caption': 'Law enforcement officers on the property of the suspect, Vance Boelter, in Green Isle, Minn., on Sunday.', 'copyright': 'Tim Gruber for The New York Times'}, {'url': 'https://static01.nyt.com/images/2025/06/16/multimedia/16minn-shooting-capture-jvwp/16minn-shooting-capture-jvwp-threeByTwoSmallAt2X.jpg', 'format': 'threeByTwoSmallAt2X', 'height': 400, 'width': 600, 'type': 'image', 'subtype': 'photo', 'caption': 'Law enforcement officers on the property of the suspect, Vance Boelter, in Green Isle, Minn., on Sunday.', 'copyright': 'Tim Gruber for The New York Times'}, {'url': 'https://static01.nyt.com/images/2025/06/16/multimedia/16minn-shooting-capture-jvwp/16minn-shooting-capture-jvwp-thumbLarge.jpg', 'format': 'Large Thumbnail', 'height': 150, 'width': 150, 'type': 'image', 'subtype': 'photo', 'caption': 'Law enforcement officers on the property of the suspect, Vance Boelter, in Green Isle, Minn., on Sunday.', 'copyright': 'Tim Gruber for The New York Times'}]",
         ""
        ],
        [
         "3",
         "us",
         "",
         "How the Shootings of the Minnesota Lawmakers Unfolded",
         "A manhunt ended after a man suspected in the killing on Saturday of a state lawmaker and her husband was arrested on Sunday. Here is how the events unfolded.",
         "https://www.nytimes.com/2025/06/15/us/minnesota-shooting-timeline.html",
         "nyt://article/5514380b-7303-5529-a90f-26d85d8a0e4a",
         "By Leo Dominguez and Ashley Cai",
         "Article",
         "2025-06-16 15:42:45-04:00",
         "2025-06-15 22:10:53-04:00",
         "2025-06-15 22:10:53-04:00",
         "",
         "",
         "['Shootings of Minnesota Legislators (2025)']",
         "[]",
         "['Boelter, Vance L', 'Hortman, Melissa (1970-2025)', 'Hortman, Mark (1966-2025)', 'Hoffman, Yvette (1965- )', 'Hoffman, John A (1965- )']",
         "['Brooklyn Park (Minn)', 'Champlin (Minn)']",
         "[{'url': 'https://static01.nyt.com/images/2025/06/16/us/minn-detained-map/minn-detained-map-superJumbo.png', 'format': 'Super Jumbo', 'height': 848, 'width': 1202, 'type': 'image', 'subtype': 'photo', 'caption': '', 'copyright': '.'}, {'url': 'https://static01.nyt.com/images/2025/06/16/us/minn-detained-map/minn-detained-map-threeByTwoSmallAt2X.png', 'format': 'threeByTwoSmallAt2X', 'height': 400, 'width': 600, 'type': 'image', 'subtype': 'photo', 'caption': '', 'copyright': '.'}, {'url': 'https://static01.nyt.com/images/2025/06/16/us/minn-detained-map/minn-detained-map-thumbLarge.png', 'format': 'Large Thumbnail', 'height': 150, 'width': 150, 'type': 'image', 'subtype': 'photo', 'caption': '', 'copyright': '.'}]",
         ""
        ],
        [
         "4",
         "us",
         "politics",
         "Mike Lee Draws Outrage for Posts Blaming Assassination on the Far Left",
         "The Republican senator from Utah suggested in social media posts that the killings were the work of “Marxists,” and mocked Minnesota’s Democratic governor. He later issued a more sober condemnation of the violence.",
         "https://www.nytimes.com/2025/06/16/us/politics/mike-lee-minnesota-assassination-democrats.html",
         "nyt://article/2669488d-d9cb-55f4-ab80-4cd4fe298ecd",
         "By Annie Karni",
         "Article",
         "2025-06-16 16:46:57-04:00",
         "2025-06-16 15:51:21-04:00",
         "2025-06-16 15:51:21-04:00",
         "",
         "",
         "['United States Politics and Government', 'Assassinations and Attempted Assassinations', 'Shootings of Minnesota Legislators (2025)', 'Governors (US)', 'Social Media', 'Conservatism (US Politics)']",
         "[]",
         "['Hortman, Melissa (1970-2025)', 'Hoffman, John A (1965- )', 'Lee, Michael S (1971- )']",
         "['Minnesota', 'Utah']",
         "[{'url': 'https://static01.nyt.com/images/2025/06/16/multimedia/16minn-shooting-lee1-ghmw/16minn-shooting-lee1-ghmw-superJumbo.jpg', 'format': 'Super Jumbo', 'height': 1365, 'width': 2048, 'type': 'image', 'subtype': 'photo', 'caption': 'Senator Mike Lee of Utah at the Senate Judiciary Committee confirmation hearing at the Capitol in Washington earlier this year.', 'copyright': 'Haiyun Jiang for The New York Times'}, {'url': 'https://static01.nyt.com/images/2025/06/16/multimedia/16minn-shooting-lee1-ghmw/16minn-shooting-lee1-ghmw-threeByTwoSmallAt2X.jpg', 'format': 'threeByTwoSmallAt2X', 'height': 400, 'width': 600, 'type': 'image', 'subtype': 'photo', 'caption': 'Senator Mike Lee of Utah at the Senate Judiciary Committee confirmation hearing at the Capitol in Washington earlier this year.', 'copyright': 'Haiyun Jiang for The New York Times'}, {'url': 'https://static01.nyt.com/images/2025/06/16/multimedia/16minn-shooting-lee1-ghmw/16minn-shooting-lee1-ghmw-thumbLarge.jpg', 'format': 'Large Thumbnail', 'height': 150, 'width': 150, 'type': 'image', 'subtype': 'photo', 'caption': 'Senator Mike Lee of Utah at the Senate Judiciary Committee confirmation hearing at the Capitol in Washington earlier this year.', 'copyright': 'Haiyun Jiang for The New York Times'}]",
         ""
        ]
       ],
       "shape": {
        "columns": 19,
        "rows": 5
       }
      },
      "text/html": [
       "<div>\n",
       "<style scoped>\n",
       "    .dataframe tbody tr th:only-of-type {\n",
       "        vertical-align: middle;\n",
       "    }\n",
       "\n",
       "    .dataframe tbody tr th {\n",
       "        vertical-align: top;\n",
       "    }\n",
       "\n",
       "    .dataframe thead th {\n",
       "        text-align: right;\n",
       "    }\n",
       "</style>\n",
       "<table border=\"1\" class=\"dataframe\">\n",
       "  <thead>\n",
       "    <tr style=\"text-align: right;\">\n",
       "      <th></th>\n",
       "      <th>section</th>\n",
       "      <th>subsection</th>\n",
       "      <th>title</th>\n",
       "      <th>abstract</th>\n",
       "      <th>url</th>\n",
       "      <th>uri</th>\n",
       "      <th>byline</th>\n",
       "      <th>item_type</th>\n",
       "      <th>updated_date</th>\n",
       "      <th>created_date</th>\n",
       "      <th>published_date</th>\n",
       "      <th>material_type_facet</th>\n",
       "      <th>kicker</th>\n",
       "      <th>des_facet</th>\n",
       "      <th>org_facet</th>\n",
       "      <th>per_facet</th>\n",
       "      <th>geo_facet</th>\n",
       "      <th>multimedia</th>\n",
       "      <th>short_url</th>\n",
       "    </tr>\n",
       "  </thead>\n",
       "  <tbody>\n",
       "    <tr>\n",
       "      <th>0</th>\n",
       "      <td>world</td>\n",
       "      <td>middleeast</td>\n",
       "      <td>How Tough Is Iran? A String of Military Losses...</td>\n",
       "      <td>Iran is often portrayed as one of the world’s ...</td>\n",
       "      <td>https://www.nytimes.com/2025/06/16/world/middl...</td>\n",
       "      <td>nyt://article/45e5f07b-2c53-5f6b-af1f-b401b00d...</td>\n",
       "      <td>By Vivian Yee</td>\n",
       "      <td>Article</td>\n",
       "      <td>2025-06-16 15:47:55-04:00</td>\n",
       "      <td>2025-06-16 11:13:28-04:00</td>\n",
       "      <td>2025-06-16 11:13:28-04:00</td>\n",
       "      <td></td>\n",
       "      <td></td>\n",
       "      <td>[War and Armed Conflicts, Iran-Israel Proxy Co...</td>\n",
       "      <td>[Hezbollah]</td>\n",
       "      <td>[]</td>\n",
       "      <td>[Iran, Israel]</td>\n",
       "      <td>[{'url': 'https://static01.nyt.com/images/2025...</td>\n",
       "      <td></td>\n",
       "    </tr>\n",
       "    <tr>\n",
       "      <th>1</th>\n",
       "      <td>world</td>\n",
       "      <td>middleeast</td>\n",
       "      <td>Israel attacks Iran’s state television, live o...</td>\n",
       "      <td></td>\n",
       "      <td>https://www.nytimes.com/live/2025/06/16/world/...</td>\n",
       "      <td>nyt://article/dbd8827b-e460-59f2-8406-0a72da7c...</td>\n",
       "      <td>By Aaron Boxerman, Farnaz Fassihi, Aric Toler ...</td>\n",
       "      <td>Article</td>\n",
       "      <td>2025-06-16 15:44:03-04:00</td>\n",
       "      <td>2025-06-16 13:00:15-04:00</td>\n",
       "      <td>2025-06-16 13:00:15-04:00</td>\n",
       "      <td></td>\n",
       "      <td></td>\n",
       "      <td>[]</td>\n",
       "      <td>[]</td>\n",
       "      <td>[]</td>\n",
       "      <td>[]</td>\n",
       "      <td>[{'url': 'https://static01.nyt.com/images/2025...</td>\n",
       "      <td></td>\n",
       "    </tr>\n",
       "    <tr>\n",
       "      <th>2</th>\n",
       "      <td>us</td>\n",
       "      <td></td>\n",
       "      <td>How the Minnesota Shootings Suspect Was Caught</td>\n",
       "      <td>A two-day manhunt ended Sunday night as police...</td>\n",
       "      <td>https://www.nytimes.com/2025/06/16/us/minnesot...</td>\n",
       "      <td>nyt://article/19c09471-4e34-5eb2-ae55-e2919a49...</td>\n",
       "      <td>By Nicholas Bogel-Burroughs, Mitch Smith, Jeff...</td>\n",
       "      <td>Article</td>\n",
       "      <td>2025-06-16 16:00:46-04:00</td>\n",
       "      <td>2025-06-16 08:44:58-04:00</td>\n",
       "      <td>2025-06-16 08:44:58-04:00</td>\n",
       "      <td></td>\n",
       "      <td></td>\n",
       "      <td>[Shootings of Minnesota Legislators (2025), Po...</td>\n",
       "      <td>[]</td>\n",
       "      <td>[Boelter, Vance L]</td>\n",
       "      <td>[]</td>\n",
       "      <td>[{'url': 'https://static01.nyt.com/images/2025...</td>\n",
       "      <td></td>\n",
       "    </tr>\n",
       "    <tr>\n",
       "      <th>3</th>\n",
       "      <td>us</td>\n",
       "      <td></td>\n",
       "      <td>How the Shootings of the Minnesota Lawmakers U...</td>\n",
       "      <td>A manhunt ended after a man suspected in the k...</td>\n",
       "      <td>https://www.nytimes.com/2025/06/15/us/minnesot...</td>\n",
       "      <td>nyt://article/5514380b-7303-5529-a90f-26d85d8a...</td>\n",
       "      <td>By Leo Dominguez and Ashley Cai</td>\n",
       "      <td>Article</td>\n",
       "      <td>2025-06-16 15:42:45-04:00</td>\n",
       "      <td>2025-06-15 22:10:53-04:00</td>\n",
       "      <td>2025-06-15 22:10:53-04:00</td>\n",
       "      <td></td>\n",
       "      <td></td>\n",
       "      <td>[Shootings of Minnesota Legislators (2025)]</td>\n",
       "      <td>[]</td>\n",
       "      <td>[Boelter, Vance L, Hortman, Melissa (1970-2025...</td>\n",
       "      <td>[Brooklyn Park (Minn), Champlin (Minn)]</td>\n",
       "      <td>[{'url': 'https://static01.nyt.com/images/2025...</td>\n",
       "      <td></td>\n",
       "    </tr>\n",
       "    <tr>\n",
       "      <th>4</th>\n",
       "      <td>us</td>\n",
       "      <td>politics</td>\n",
       "      <td>Mike Lee Draws Outrage for Posts Blaming Assas...</td>\n",
       "      <td>The Republican senator from Utah suggested in ...</td>\n",
       "      <td>https://www.nytimes.com/2025/06/16/us/politics...</td>\n",
       "      <td>nyt://article/2669488d-d9cb-55f4-ab80-4cd4fe29...</td>\n",
       "      <td>By Annie Karni</td>\n",
       "      <td>Article</td>\n",
       "      <td>2025-06-16 16:46:57-04:00</td>\n",
       "      <td>2025-06-16 15:51:21-04:00</td>\n",
       "      <td>2025-06-16 15:51:21-04:00</td>\n",
       "      <td></td>\n",
       "      <td></td>\n",
       "      <td>[United States Politics and Government, Assass...</td>\n",
       "      <td>[]</td>\n",
       "      <td>[Hortman, Melissa (1970-2025), Hoffman, John A...</td>\n",
       "      <td>[Minnesota, Utah]</td>\n",
       "      <td>[{'url': 'https://static01.nyt.com/images/2025...</td>\n",
       "      <td></td>\n",
       "    </tr>\n",
       "  </tbody>\n",
       "</table>\n",
       "</div>"
      ],
      "text/plain": [
       "  section  subsection                                              title  \\\n",
       "0   world  middleeast  How Tough Is Iran? A String of Military Losses...   \n",
       "1   world  middleeast  Israel attacks Iran’s state television, live o...   \n",
       "2      us                 How the Minnesota Shootings Suspect Was Caught   \n",
       "3      us              How the Shootings of the Minnesota Lawmakers U...   \n",
       "4      us    politics  Mike Lee Draws Outrage for Posts Blaming Assas...   \n",
       "\n",
       "                                            abstract  \\\n",
       "0  Iran is often portrayed as one of the world’s ...   \n",
       "1                                                      \n",
       "2  A two-day manhunt ended Sunday night as police...   \n",
       "3  A manhunt ended after a man suspected in the k...   \n",
       "4  The Republican senator from Utah suggested in ...   \n",
       "\n",
       "                                                 url  \\\n",
       "0  https://www.nytimes.com/2025/06/16/world/middl...   \n",
       "1  https://www.nytimes.com/live/2025/06/16/world/...   \n",
       "2  https://www.nytimes.com/2025/06/16/us/minnesot...   \n",
       "3  https://www.nytimes.com/2025/06/15/us/minnesot...   \n",
       "4  https://www.nytimes.com/2025/06/16/us/politics...   \n",
       "\n",
       "                                                 uri  \\\n",
       "0  nyt://article/45e5f07b-2c53-5f6b-af1f-b401b00d...   \n",
       "1  nyt://article/dbd8827b-e460-59f2-8406-0a72da7c...   \n",
       "2  nyt://article/19c09471-4e34-5eb2-ae55-e2919a49...   \n",
       "3  nyt://article/5514380b-7303-5529-a90f-26d85d8a...   \n",
       "4  nyt://article/2669488d-d9cb-55f4-ab80-4cd4fe29...   \n",
       "\n",
       "                                              byline item_type  \\\n",
       "0                                      By Vivian Yee   Article   \n",
       "1  By Aaron Boxerman, Farnaz Fassihi, Aric Toler ...   Article   \n",
       "2  By Nicholas Bogel-Burroughs, Mitch Smith, Jeff...   Article   \n",
       "3                    By Leo Dominguez and Ashley Cai   Article   \n",
       "4                                     By Annie Karni   Article   \n",
       "\n",
       "               updated_date              created_date  \\\n",
       "0 2025-06-16 15:47:55-04:00 2025-06-16 11:13:28-04:00   \n",
       "1 2025-06-16 15:44:03-04:00 2025-06-16 13:00:15-04:00   \n",
       "2 2025-06-16 16:00:46-04:00 2025-06-16 08:44:58-04:00   \n",
       "3 2025-06-16 15:42:45-04:00 2025-06-15 22:10:53-04:00   \n",
       "4 2025-06-16 16:46:57-04:00 2025-06-16 15:51:21-04:00   \n",
       "\n",
       "             published_date material_type_facet kicker  \\\n",
       "0 2025-06-16 11:13:28-04:00                              \n",
       "1 2025-06-16 13:00:15-04:00                              \n",
       "2 2025-06-16 08:44:58-04:00                              \n",
       "3 2025-06-15 22:10:53-04:00                              \n",
       "4 2025-06-16 15:51:21-04:00                              \n",
       "\n",
       "                                           des_facet    org_facet  \\\n",
       "0  [War and Armed Conflicts, Iran-Israel Proxy Co...  [Hezbollah]   \n",
       "1                                                 []           []   \n",
       "2  [Shootings of Minnesota Legislators (2025), Po...           []   \n",
       "3        [Shootings of Minnesota Legislators (2025)]           []   \n",
       "4  [United States Politics and Government, Assass...           []   \n",
       "\n",
       "                                           per_facet  \\\n",
       "0                                                 []   \n",
       "1                                                 []   \n",
       "2                                 [Boelter, Vance L]   \n",
       "3  [Boelter, Vance L, Hortman, Melissa (1970-2025...   \n",
       "4  [Hortman, Melissa (1970-2025), Hoffman, John A...   \n",
       "\n",
       "                                 geo_facet  \\\n",
       "0                           [Iran, Israel]   \n",
       "1                                       []   \n",
       "2                                       []   \n",
       "3  [Brooklyn Park (Minn), Champlin (Minn)]   \n",
       "4                        [Minnesota, Utah]   \n",
       "\n",
       "                                          multimedia short_url  \n",
       "0  [{'url': 'https://static01.nyt.com/images/2025...            \n",
       "1  [{'url': 'https://static01.nyt.com/images/2025...            \n",
       "2  [{'url': 'https://static01.nyt.com/images/2025...            \n",
       "3  [{'url': 'https://static01.nyt.com/images/2025...            \n",
       "4  [{'url': 'https://static01.nyt.com/images/2025...            "
      ]
     },
     "execution_count": 33,
     "metadata": {},
     "output_type": "execute_result"
    }
   ],
   "source": [
    "# Convert to DataFrmae\n",
    "df = pd.json_normalize(top_stories)\n",
    "# View the first 5 rows\n",
    "df.head()"
   ]
  },
  {
   "cell_type": "code",
   "execution_count": 34,
   "id": "fa8e6202-f3f8-4d43-9601-c0fb0404ba85",
   "metadata": {},
   "outputs": [
    {
     "name": "stdout",
     "output_type": "stream",
     "text": [
      "<class 'pandas.core.frame.DataFrame'>\n",
      "RangeIndex: 23 entries, 0 to 22\n",
      "Data columns (total 19 columns):\n",
      " #   Column               Non-Null Count  Dtype                    \n",
      "---  ------               --------------  -----                    \n",
      " 0   section              23 non-null     object                   \n",
      " 1   subsection           23 non-null     object                   \n",
      " 2   title                23 non-null     object                   \n",
      " 3   abstract             23 non-null     object                   \n",
      " 4   url                  23 non-null     object                   \n",
      " 5   uri                  23 non-null     object                   \n",
      " 6   byline               23 non-null     object                   \n",
      " 7   item_type            23 non-null     object                   \n",
      " 8   updated_date         23 non-null     datetime64[ns, UTC-04:00]\n",
      " 9   created_date         23 non-null     datetime64[ns, UTC-04:00]\n",
      " 10  published_date       23 non-null     datetime64[ns, UTC-04:00]\n",
      " 11  material_type_facet  23 non-null     object                   \n",
      " 12  kicker               23 non-null     object                   \n",
      " 13  des_facet            23 non-null     object                   \n",
      " 14  org_facet            23 non-null     object                   \n",
      " 15  per_facet            23 non-null     object                   \n",
      " 16  geo_facet            23 non-null     object                   \n",
      " 17  multimedia           23 non-null     object                   \n",
      " 18  short_url            23 non-null     object                   \n",
      "dtypes: datetime64[ns, UTC-04:00](3), object(16)\n",
      "memory usage: 3.5+ KB\n"
     ]
    }
   ],
   "source": [
    "# Inspect the metadata\n",
    "df.info()"
   ]
  },
  {
   "cell_type": "markdown",
   "id": "a241d131-f695-4aaa-bcef-104f57761099",
   "metadata": {},
   "source": [
    "For the most part, `pandas` does a good job of producing a table where:\n",
    "\n",
    "- The columns correspond with the JSON dictionary keys from our API call.\n",
    "- The number of rows matches the number of articles.\n",
    "- Each cell holds the corresponding value found under that article's dictionary key."
   ]
  },
  {
   "cell_type": "markdown",
   "id": "741048f9-1f01-434a-b5e8-fc51583c8d8e",
   "metadata": {},
   "source": [
    "<a id='most'></a>\n",
    "\n",
    "# Most Viewed and Most Shared APIs"
   ]
  },
  {
   "cell_type": "markdown",
   "id": "4e8b137d-4365-4994-beee-04b8e06cc9cf",
   "metadata": {},
   "source": [
    "Retrieving the most viewed and shared articles is also quite simple. The `days` parameter returns the most popular articles based on the last $N$ days. Keep in mind, however, that `days` can only take on one of three values: 1, 7, or 30."
   ]
  },
  {
   "cell_type": "code",
   "execution_count": 35,
   "id": "959dc92b-c33f-41b5-b271-15eb17a5a669",
   "metadata": {},
   "outputs": [
    {
     "name": "stdout",
     "output_type": "stream",
     "text": [
      "Title: Takeaways From Trump’s Military Parade in Washington\n",
      "Section: U.S.\n"
     ]
    },
    {
     "data": {
      "text/plain": [
       "{'uri': 'nyt://article/da7c3b3d-a55c-54d4-bec5-f12c066d0aee',\n",
       " 'url': 'https://www.nytimes.com/2025/06/14/us/politics/trump-military-parade-takeaways.html',\n",
       " 'id': 100000010212934,\n",
       " 'asset_id': 100000010212934,\n",
       " 'source': 'New York Times',\n",
       " 'published_date': datetime.date(2025, 6, 14),\n",
       " 'updated': datetime.datetime(2025, 6, 15, 16, 11, 3),\n",
       " 'section': 'U.S.',\n",
       " 'subsection': 'Politics',\n",
       " 'nytdsection': 'u.s.',\n",
       " 'adx_keywords': 'United States Politics and Government;United States Defense and Military Forces;Parades;Trump, Donald J;United States Army;Washington (DC)',\n",
       " 'column': None,\n",
       " 'byline': 'By Zach Montague',\n",
       " 'type': 'Article',\n",
       " 'title': 'Takeaways From Trump’s Military Parade in Washington',\n",
       " 'abstract': 'The events in the capital were overshadowed by an assassination in Minnesota and turmoil in the Middle East.',\n",
       " 'des_facet': ['United States Politics and Government',\n",
       "  'United States Defense and Military Forces',\n",
       "  'Parades'],\n",
       " 'org_facet': ['United States Army'],\n",
       " 'per_facet': ['Trump, Donald J'],\n",
       " 'geo_facet': ['Washington (DC)'],\n",
       " 'media': [{'type': 'image',\n",
       "   'subtype': 'photo',\n",
       "   'caption': '',\n",
       "   'copyright': 'Kenny Holston/The New York Times',\n",
       "   'approved_for_syndication': 1,\n",
       "   'media-metadata': [{'url': 'https://static01.nyt.com/images/2025/06/14/multimedia/14trump-parade-takeaways-top1-bwlk/14trump-parade-takeaways-top1-bwlk-thumbStandard-v3.jpg',\n",
       "     'format': 'Standard Thumbnail',\n",
       "     'height': 75,\n",
       "     'width': 75},\n",
       "    {'url': 'https://static01.nyt.com/images/2025/06/14/multimedia/14trump-parade-takeaways-top1-bwlk/14trump-parade-takeaways-top1-bwlk-mediumThreeByTwo210-v2.jpg',\n",
       "     'format': 'mediumThreeByTwo210',\n",
       "     'height': 140,\n",
       "     'width': 210},\n",
       "    {'url': 'https://static01.nyt.com/images/2025/06/14/multimedia/14trump-parade-takeaways-top1-bwlk/14trump-parade-takeaways-top1-bwlk-mediumThreeByTwo440-v2.jpg',\n",
       "     'format': 'mediumThreeByTwo440',\n",
       "     'height': 293,\n",
       "     'width': 440}]}],\n",
       " 'eta_id': 0}"
      ]
     },
     "execution_count": 35,
     "metadata": {},
     "output_type": "execute_result"
    }
   ],
   "source": [
    "# Retrieve the most viewed articles for today.\n",
    "# The days parameter defaults to 1\n",
    "most_viewed_today = nyt.most_viewed()\n",
    "print(f\"Title: {most_viewed_today[0]['title']}\")\n",
    "print(f\"Section: {most_viewed_today[0]['section']}\")\n",
    "most_viewed_today[0]"
   ]
  },
  {
   "cell_type": "markdown",
   "id": "3681696d-752e-4d11-8f67-af5ae03bb73b",
   "metadata": {},
   "source": [
    "🔔 **Question**:  How many stories are provided to us via this function call?"
   ]
  },
  {
   "cell_type": "code",
   "execution_count": 36,
   "id": "358187a6-420d-4317-9429-5a021edb1e6f",
   "metadata": {},
   "outputs": [
    {
     "data": {
      "text/plain": [
       "20"
      ]
     },
     "execution_count": 36,
     "metadata": {},
     "output_type": "execute_result"
    }
   ],
   "source": [
    "len(most_viewed_today)"
   ]
  },
  {
   "cell_type": "markdown",
   "id": "684faea3-9fab-499c-8869-b99747b04d86",
   "metadata": {},
   "source": [
    "For this piece of data, we can consult a guide or what's known as a schema to understand the information at our finger tips.\n",
    "\n",
    "The [Most Viewed Schema](https://developer.nytimes.com/docs/most-popular-product/1/types/ViewedArticle) can answer any questions we may have about this article's data:"
   ]
  },
  {
   "cell_type": "markdown",
   "id": "210bc5f1-037d-4c49-85e1-186bfbc946b1",
   "metadata": {},
   "source": [
    "| Attribute      | Data Type | Definition      |\n",
    "| ----------- | ----------- | ----------- |\n",
    "| url      | string       | Article's URL.       |\n",
    "| adx_keywords   | string        | Semicolon separated list of keywords.        |\n",
    "| column   | string        | Deprecated. Set to null.        |\n",
    "| section   | string        | Article's section (e.g. Sports).        |\n",
    "| byline   | string        | Article's byline (e.g. By Thomas L. Friedman).        |\n",
    "| type   | string        | Asset type (e.g. Article, Interactive, ...).        |\n",
    "| title   | string        | Article's headline (e.g. When the Cellos Play, the Cows Come Home).        |\n",
    "| abstract   | string        | Brief summary of the article.|\n",
    "| published_date   | string        | When the article was published on the web (e.g. 2021-04-19).        |\n",
    "| source   | string        | Publisher (e.g. New York Times).        |\n",
    "| id   | integer        | Asset ID number (e.g. 100000007772696).        |\n",
    "| asset_id   | integer        | Asset ID number (e.g. 100000007772696).        |\n",
    "| des_facet   | array        | Array of description facets (e.g. Quarantine (Life and Culture)).        |\n",
    "| org_facet   | array        | Array of organization facets (e.g. Sullivan Street Bakery).        |\n",
    "| per_facet   | array        | Array of person facets (e.g. Bittman, Mark).        |\n",
    "| geo_facet   | array        | Array of geographic facets (e.g. Canada).        |\n",
    "| media   | array        | Array of images.        |\n",
    "| media.type   | string        | Asset type (e.g. image).        |\n",
    "| media.subtype   | string        | Asset subtype (e.g. photo).        |\n",
    "| media.caption   | string        | Media caption        |\n",
    "| media.copyright   | string        | Media credit        |\n",
    "| media.approved_for_syndication   | boolean        | Whether media is approved for syndication.        |\n",
    "| media.media-metadata   | array        | Media metadata (url, width, height, ...).        |\n",
    "| media.media-metadata.url   | string        | Image's URL.        |\n",
    "| media.media-metadata.format   | string        | Image's crop name     |\n",
    "| media.media-metadata.height   | integer        | Image's height |\n",
    "| media.media-metadata.width   | integer        | Image's width      |"
   ]
  },
  {
   "cell_type": "markdown",
   "id": "fc33ce38-daf3-494a-9f0f-12d089321297",
   "metadata": {},
   "source": [
    "To pull most popular articles for the past weekend and month, we pass the numbers 7 or 30 into `days`"
   ]
  },
  {
   "cell_type": "code",
   "execution_count": 37,
   "id": "cf701a93-68c4-4c0c-ab6d-30487b4da504",
   "metadata": {},
   "outputs": [],
   "source": [
    "most_viewed_week = nyt.most_viewed(days=7)"
   ]
  },
  {
   "cell_type": "markdown",
   "id": "64a14916-a9fc-4826-a459-787780e26a41",
   "metadata": {},
   "source": [
    "🔔 **Question**: What is the most viewed article of the last week?"
   ]
  },
  {
   "cell_type": "code",
   "execution_count": 38,
   "id": "e3e2f679-4660-4c03-84b8-5f9257473165",
   "metadata": {},
   "outputs": [
    {
     "data": {
      "text/plain": [
       "'How the Man in Seat 11A Became a Plane Crash’s Sole Survivor'"
      ]
     },
     "execution_count": 38,
     "metadata": {},
     "output_type": "execute_result"
    }
   ],
   "source": [
    "most_viewed_week[0]['title']"
   ]
  },
  {
   "cell_type": "markdown",
   "id": "d60086e2-a79b-47f3-a480-e58339194f3f",
   "metadata": {},
   "source": [
    "<a id='search'></a>\n",
    "\n",
    "# Article Search API\n",
    "\n",
    "Let's take it up a notch and use the search API to retrieve a set of articles about a particular topic in a chosen period of time.\n",
    "\n",
    "We'll use the `article_search` function. Two relevant parameters include:\n",
    "\n",
    "- `query`: The search query\n",
    "- `results`: Number of articles returned. The default is 10.\n",
    "\n",
    "Let's try pulling the most recent articles about Berkeley:"
   ]
  },
  {
   "cell_type": "code",
   "execution_count": 39,
   "id": "b15ff11f-7049-488f-9d96-f689c430a576",
   "metadata": {},
   "outputs": [],
   "source": [
    "articles = nyt.article_search(query=\"Berkeley\")"
   ]
  },
  {
   "cell_type": "markdown",
   "id": "b4c2f903-afb6-4f74-a542-711c5e3d149e",
   "metadata": {},
   "source": [
    "Let's look at the main headlines of these articles:"
   ]
  },
  {
   "cell_type": "code",
   "execution_count": 40,
   "id": "d25dd533-b471-44fa-8739-0e7e0c756255",
   "metadata": {},
   "outputs": [
    {
     "data": {
      "text/plain": [
       "['Liberal Berkeley’s Toughened Stance on Homeless Camps Is a Bellwether',\n",
       " 'As Kamala Harris Claims Oakland, Berkeley Forgives',\n",
       " 'Four Generations of Quilts Come Out of the Family ‘Treasure Chest’',\n",
       " 'Why Amy Tan Decided Not to Shred Her Archive',\n",
       " 'Energy Dept. Unveils Supercomputer That Merges With A.I.',\n",
       " 'Why on Earth Should Air Traffic Controllers Be Pro-Trump?',\n",
       " 'In Berkeley Public Schools, a War Gives Rise to Unusual Tensions',\n",
       " 'A Toxic Pit Could Be a Gold Mine for Rare-Earth Elements',\n",
       " '$800,000 Homes in California',\n",
       " 'My Journey Deep in the Heart of Trump Country']"
      ]
     },
     "execution_count": 40,
     "metadata": {},
     "output_type": "execute_result"
    }
   ],
   "source": [
    "headlines = [article['headline']['main'] for article in articles]\n",
    "headlines"
   ]
  },
  {
   "cell_type": "markdown",
   "id": "6cd24cf5-67c1-49fb-95fc-69aaddcc2702",
   "metadata": {},
   "source": [
    "We can also take a peek at the first article provided. We're going to remove the `multimedia` key in order to make it more easy to view:"
   ]
  },
  {
   "cell_type": "code",
   "execution_count": 41,
   "id": "0b780566-16a3-4a30-b016-a317cc213280",
   "metadata": {},
   "outputs": [
    {
     "data": {
      "text/plain": [
       "{'abstract': 'The progressive stronghold in California plans to target large encampments, relying on a Supreme Court decision handed down by a conservative majority.',\n",
       " 'byline': {'original': 'By Shawn Hubler'},\n",
       " 'document_type': 'article',\n",
       " 'headline': {'main': 'Liberal Berkeley’s Toughened Stance on Homeless Camps Is a Bellwether',\n",
       "  'kicker': '',\n",
       "  'print_headline': 'Berkeley Stiffens Homeless Rules as Camps Test Empathy’s Limits'},\n",
       " '_id': 'nyt://article/9429aa02-c3c4-5140-ae49-9279cb9565d3',\n",
       " 'keywords': [{'name': 'Location', 'value': 'Berkeley (Calif)', 'rank': 1},\n",
       "  {'name': 'Subject', 'value': 'Homeless Persons', 'rank': 2},\n",
       "  {'name': 'Subject', 'value': 'Local Government', 'rank': 3},\n",
       "  {'name': 'Subject', 'value': 'Law and Legislation', 'rank': 4},\n",
       "  {'name': 'Subject', 'value': 'Liberalism (US Politics)', 'rank': 5},\n",
       "  {'name': 'Person', 'value': 'Newsom, Gavin', 'rank': 6},\n",
       "  {'name': 'Location', 'value': 'California', 'rank': 7},\n",
       "  {'name': 'Organization', 'value': 'Supreme Court (US)', 'rank': 8}],\n",
       " 'news_desk': 'National',\n",
       " 'print_page': '1',\n",
       " 'print_section': 'A',\n",
       " 'pub_date': datetime.datetime(2024, 11, 16, 10, 0, 20, tzinfo=datetime.timezone.utc),\n",
       " 'section_name': 'U.S.',\n",
       " 'snippet': 'The progressive stronghold in California plans to target large encampments, relying on a Supreme Court decision handed down by a conservative majority.',\n",
       " 'source': 'The New York Times',\n",
       " 'subsection_name': '',\n",
       " 'type_of_material': 'News',\n",
       " 'uri': 'nyt://article/9429aa02-c3c4-5140-ae49-9279cb9565d3',\n",
       " 'web_url': 'https://www.nytimes.com/2024/11/16/us/homeless-berkeley-california-enforcement.html',\n",
       " 'word_count': 1683}"
      ]
     },
     "execution_count": 41,
     "metadata": {},
     "output_type": "execute_result"
    }
   ],
   "source": [
    "del articles[0]['multimedia']\n",
    "articles[0]"
   ]
  },
  {
   "cell_type": "markdown",
   "id": "34559fc2-0f44-4444-a19a-28817b103628",
   "metadata": {},
   "source": [
    "Notice that not all article data comes in the same format. Data from the search API is presented differently from that of the Most Viewed and Top Stories APIs.\n",
    "\n",
    "There are schemas for the above data. \n",
    "\n",
    "- [Article Schema](https://developer.nytimes.com/docs/articlesearch-product/1/types/Article)\n",
    "- [Byline](https://developer.nytimes.com/docs/articlesearch-product/1/types/Byline)\n",
    "- [Headline](https://developer.nytimes.com/docs/articlesearch-product/1/types/Headline)\n",
    "- [Keyword](https://developer.nytimes.com/docs/articlesearch-product/1/types/Keyword)\n",
    "- [Multimedia](https://developer.nytimes.com/docs/articlesearch-product/1/types/Multimedia)\n",
    "- [Person](https://developer.nytimes.com/docs/articlesearch-product/1/types/Person)"
   ]
  },
  {
   "cell_type": "markdown",
   "id": "cb7fb990-96de-49dd-9611-4b798884321a",
   "metadata": {},
   "source": [
    "Let's search for some articles again, but within a specific time period. \n",
    "\n",
    "For example, how would we retrieve all the articles about the first two months of the George Floyd protests?\n",
    "\n",
    "We need to pass a dictionary to the `dates` argument which contains keys named \"begin\" and \"end\". Those two keys point to `datetime` objects that we'll use as time markers. We're also going to use the `options` argument to filter and sort our results."
   ]
  },
  {
   "cell_type": "code",
   "execution_count": 42,
   "id": "5b86f60e-480f-4635-ba84-3dff7addfe17",
   "metadata": {},
   "outputs": [
    {
     "name": "stderr",
     "output_type": "stream",
     "text": [
      "/Users/ahyeoncho/Downloads/miniconda3/envs/dighum101/lib/python3.12/site-packages/pynytimes/helpers/article_search.py:33: UserWarning: Asking for a lot of results, because of rate limits it can take a while.\n",
      "  warnings.warn(\n"
     ]
    }
   ],
   "source": [
    "# Set up start and end date objects\n",
    "begin = datetime(2020, 5, 23) # May 23, 2020\n",
    "end = datetime(2020, 7, 23) # July 23, 2020\n",
    "\n",
    "# Create a dictionary containing the datetime objects\n",
    "date_dict = {\"begin\": begin, \"end\": end}\n",
    "\n",
    "articles = nyt.article_search(\n",
    "    query=\"George Floyd protests\",\n",
    "    results=100,\n",
    "    dates=date_dict,\n",
    "    )"
   ]
  },
  {
   "cell_type": "code",
   "execution_count": 43,
   "id": "8c39a319-9185-4740-99c0-f34c437b6e47",
   "metadata": {
    "scrolled": true
   },
   "outputs": [
    {
     "data": {
      "text/plain": [
       "{'abstract': 'From Minneapolis to Buffalo, Homeland Security officials dispatched drones, helicopters and airplanes to monitor Black Lives Matter protests.',\n",
       " 'byline': {'original': 'By Zolan Kanno-Youngs'},\n",
       " 'document_type': 'article',\n",
       " 'headline': {'main': 'U.S. Watched George Floyd Protests in 15 Cities Using Aerial Surveillance',\n",
       "  'kicker': '',\n",
       "  'print_headline': 'Surveillance Aircraft Hovered  As Marchers Filled the Streets'},\n",
       " '_id': 'nyt://article/079d4446-d165-53bb-941d-6747c32bfc9b',\n",
       " 'keywords': [{'name': 'Subject',\n",
       "   'value': 'Drones (Pilotless Planes)',\n",
       "   'rank': 1},\n",
       "  {'name': 'Subject', 'value': 'Military Aircraft', 'rank': 2},\n",
       "  {'name': 'Subject', 'value': 'George Floyd Protests (2020)', 'rank': 3},\n",
       "  {'name': 'Subject', 'value': 'Black Lives Matter Movement', 'rank': 4},\n",
       "  {'name': 'Subject', 'value': 'Privacy', 'rank': 5},\n",
       "  {'name': 'Subject',\n",
       "   'value': 'Surveillance of Citizens by Government',\n",
       "   'rank': 6},\n",
       "  {'name': 'Organization',\n",
       "   'value': 'Customs and Border Protection (US)',\n",
       "   'rank': 7},\n",
       "  {'name': 'Organization', 'value': 'Homeland Security Department', 'rank': 8},\n",
       "  {'name': 'Subject',\n",
       "   'value': 'United States Politics and Government',\n",
       "   'rank': 9},\n",
       "  {'name': 'Organization', 'value': 'Democratic Party', 'rank': 10},\n",
       "  {'name': 'Organization', 'value': 'House of Representatives', 'rank': 11}],\n",
       " 'news_desk': 'Washington',\n",
       " 'print_page': '1',\n",
       " 'print_section': 'A',\n",
       " 'pub_date': datetime.datetime(2020, 6, 19, 21, 6, 3, tzinfo=datetime.timezone.utc),\n",
       " 'section_name': 'U.S.',\n",
       " 'snippet': 'From Minneapolis to Buffalo, Homeland Security officials dispatched drones, helicopters and airplanes to monitor Black Lives Matter protests.',\n",
       " 'source': 'The New York Times',\n",
       " 'subsection_name': 'Politics',\n",
       " 'type_of_material': 'News',\n",
       " 'uri': 'nyt://article/079d4446-d165-53bb-941d-6747c32bfc9b',\n",
       " 'web_url': 'https://www.nytimes.com/2020/06/19/us/politics/george-floyd-protests-surveillance.html',\n",
       " 'word_count': 1360}"
      ]
     },
     "execution_count": 43,
     "metadata": {},
     "output_type": "execute_result"
    }
   ],
   "source": [
    "# Grab first article and drop the multimedia key to reduce clutter\n",
    "article = articles[0]\n",
    "del article[\"multimedia\"]\n",
    "\n",
    "# Check out results\n",
    "article"
   ]
  },
  {
   "cell_type": "code",
   "execution_count": 44,
   "id": "7368bb31",
   "metadata": {},
   "outputs": [
    {
     "data": {
      "text/plain": [
       "10"
      ]
     },
     "execution_count": 44,
     "metadata": {},
     "output_type": "execute_result"
    }
   ],
   "source": [
    "len(articles)"
   ]
  },
  {
   "cell_type": "markdown",
   "id": "eecfb834",
   "metadata": {},
   "source": [
    "### We wanted 100 articles but we only got 10?\n",
    "\n",
    "This is because we are using `article_search` function from the Python package `pynytimes` This package is amazing and very useful because it is a wrapper over the NYT API, which makes dealing with the API more smooth.\n",
    "\n",
    "But there has been an update to the API itself and that update has not been reflected in the `pynytimes` code. When you are using Python packages, first thing to check when something does not work as expected is the [Issues tab on the repository](https://github.com/michadenheijer/pynytimes/issues). Often, someone else will have noticed it before you.\n",
    "\n",
    "![](../img/pynytimes_issue.png)\n"
   ]
  },
  {
   "cell_type": "markdown",
   "id": "da2dd366",
   "metadata": {},
   "source": [
    "Do not despair! We can fix this :D\n",
    "\n",
    "First let's check out [the link](https://developer.nytimes.com/docs/timeswire-product/1/routes/content/%7Bsource%7D/%7Bsection%7D.json/get) shared in the GitHub issue.\n",
    "\n",
    "![](../img/nyt_solution1.png)"
   ]
  },
  {
   "cell_type": "markdown",
   "id": "93a4aa43",
   "metadata": {},
   "source": [
    "Now we know, the key difference is **limits**.\n",
    "\n",
    "Let's see what is not working:"
   ]
  },
  {
   "cell_type": "code",
   "execution_count": 45,
   "id": "6c5523c9",
   "metadata": {},
   "outputs": [
    {
     "name": "stdout",
     "output_type": "stream",
     "text": [
      "Help on method article_search in module pynytimes.api:\n",
      "\n",
      "article_search(query: 'Optional[str]' = None, dates: \"Optional[dict[Literal['begin', 'end'], DateType]]\" = None, options: 'Optional[ArticleSearchOptions]' = None, results: 'int' = 10) -> 'list[dict[str, Any]]' method of pynytimes.api.NYTAPI instance\n",
      "    Search New York Times articles\n",
      "\n",
      "    Args:\n",
      "        query (Optional[str], optional): Search query. Defaults to None.\n",
      "        dates (Optional[dict[Literal[\"begin\", \"end\"], DateType]],\n",
      "        optional): Dictionary with \"begin\" and \"end\" of search range.\n",
      "        Defaults to None.\n",
      "        options (Optional[ArticleSearchOptions], optional): Options for the\n",
      "        search results.\n",
      "        Defaults to None.\n",
      "        results (int, optional): Load at most this many articles. Defaults to 10.\n",
      "\n",
      "    Returns:\n",
      "        list[dict[str, Any]]: Article metadata\n",
      "\n"
     ]
    }
   ],
   "source": [
    "help(nyt.article_search)"
   ]
  },
  {
   "cell_type": "markdown",
   "id": "acd90614",
   "metadata": {},
   "source": [
    "Let's investigate further. How do we get the *results* \n",
    "> results (int, optional): Load at most this many articles. Defaults to 10."
   ]
  },
  {
   "cell_type": "markdown",
   "id": "a896d067",
   "metadata": {},
   "source": [
    "This is the code from the [pynytimes](https://github.com/michadenheijer/pynytimes/blob/bd3d47f74f347f1beaf5b9fe517d3e2cd4630423/pynytimes/api.py#L548C1-L549C1)\n",
    "\n",
    "```python\n",
    "def tag_query(\n",
    "        self,\n",
    "        query: str,\n",
    "        filter_option: Optional[dict[str, Any]] = None,\n",
    "        filter_options: Optional[str] = None,\n",
    "        max_results: Optional[int] = None,\n",
    "    ) -> list[str]:\n",
    "        \"\"\"Load Times Tags\n",
    "\n",
    "        Args:\n",
    "            query (str): Search query to find a tag\n",
    "            filter_option (Optional[dict[str, Any]], optional): Filter the tags.\n",
    "            Defaults to None.\n",
    "            filter_options (Optional[str], optional): Filter options. Defaults\n",
    "            to None.\n",
    "            max_results (Optional[int], optional): Maximum number of results.\n",
    "            None means no limit. Defaults to None.\n",
    "\n",
    "        Returns:\n",
    "            list[str]: List of tags\n",
    "        \"\"\"\n",
    "        # Raise error for TypeError\n",
    "        tag_query_check_types(query, max_results)\n",
    "\n",
    "        _filter_options = (\n",
    "            tag_query_get_filter_options(filter_options) or filter_option\n",
    "        )\n",
    "\n",
    "        # Add options to request params\n",
    "        options = {\"query\": query, \"filter\": _filter_options}\n",
    "\n",
    "        # Define amount of results wanted\n",
    "        if max_results is not None:\n",
    "            options[\"max\"] = str(max_results)\n",
    "\n",
    "        # Set URL, load and return data\n",
    "        # FIXME what is this, why is this?\n",
    "        return self.__load_data(url=BASE_TAGS, options=options, location=[])[\n",
    "            1\n",
    "        ]  # type:ignore\n",
    "```"
   ]
  },
  {
   "cell_type": "markdown",
   "id": "cdc51b58",
   "metadata": {},
   "source": [
    "And this is where the number of results is being determined:\n",
    "\n",
    "```python\n",
    "# Define amount of results wanted\n",
    "if max_results is not None:\n",
    "    options[\"max\"] = str(max_results)\n",
    "```\n",
    "\n",
    "It seems that this code is searching for an option in the NYT API called max to communicate the maximum number of results. \n",
    "\n",
    "Unfortunately, that is no longer a valid query parameter. Instead we have **limit** parameter.\n",
    "\n",
    "![](../img/nyt_solution2.png)\n"
   ]
  },
  {
   "cell_type": "markdown",
   "id": "41562464",
   "metadata": {},
   "source": [
    "### Can we fix this code?\n",
    "\n",
    "No, unless we download a copy of this repo and edit it and use it, we can't really fix the repo. Also, this might not be a super easy fix. As you see above, the search maximum is now 500 articles. In this repo elsewhere it is ca. 2000 articles. There are many other details about this code that we do not know.\n",
    "\n",
    "But we can write our own code that does what we want it to do."
   ]
  },
  {
   "cell_type": "markdown",
   "id": "c33ad4d2-d283-466b-a395-b56fd9817a3a",
   "metadata": {},
   "source": [
    "## 🥊 Challenge: Article Searching Updated\n",
    "\n",
    "- Let's create the correct function for article search.\n",
    "- Retrieve a set of articles for a query of your choice.\n",
    "- Use a relevant time interval in constructing your `dates` dictionary"
   ]
  },
  {
   "cell_type": "markdown",
   "id": "e2da880b",
   "metadata": {},
   "source": [
    "Let's take a look at the relevant [NYT Article Search API](https://developer.nytimes.com/docs/articlesearch-product/1/overview)"
   ]
  },
  {
   "cell_type": "code",
   "execution_count": 46,
   "id": "5dce99e3-4cf1-475e-a7a2-7f545f06d6e3",
   "metadata": {},
   "outputs": [
    {
     "name": "stdout",
     "output_type": "stream",
     "text": [
      "Fetched page 1 with 10 articles.\n",
      "Fetched page 2 with 10 articles.\n",
      "Fetched page 3 with 10 articles.\n",
      "Fetched page 4 with 10 articles.\n",
      "Fetched page 5 with 10 articles.\n",
      "Request failed on page 5: {\"fault\":{\"faultstring\":\"Rate limit quota violation. Quota limit  exceeded. Identifier : 626daee0-bbf2-4251-a867-f19748e32b39\",\"detail\":{\"errorcode\":\"policies.ratelimit.QuotaViolation\"}}}\n",
      "\n",
      "Total articles fetched: 50\n",
      "1. House Votes to Remove Confederate Statues From U.S. Capitol\n",
      "   https://www.nytimes.com/2020/07/22/us/politics/confederate-statues-us-capitol.html\n",
      "\n",
      "2. Painting Bleak Portrait of Urban Crime, Trump Sends More Agents to Chicago and Other Cities\n",
      "   https://www.nytimes.com/2020/07/22/us/politics/trump-federal-agents-cities.html\n",
      "\n",
      "3. To Battle a Militarized Foe, Portland Protesters Use Umbrellas, Pool Noodles and Fire\n",
      "   https://www.nytimes.com/2020/07/22/us/portland-protest-tactics.html\n",
      "\n",
      "4. ‘Occupy City Hall’ Encampment Taken Down in Pre-Dawn Raid by N.Y.P.D.\n",
      "   https://www.nytimes.com/2020/07/22/nyregion/occupy-city-hall-protest-nypd.html\n",
      "\n",
      "5. ‘Blue Lives Matter’ and ‘Defund the Police’ Clash in the Streets\n",
      "   https://www.nytimes.com/2020/07/22/nyregion/ny-back-the-blue-lives-matter-rallies.html\n",
      "\n"
     ]
    }
   ],
   "source": [
    "import requests\n",
    "import datetime\n",
    "import time\n",
    "\n",
    "BASE_URL = \"https://api.nytimes.com/svc/search/v2/articlesearch.json\"\n",
    "#QUERY = \"\\\"George Floyd protests\\\"\" # \"...\" is used for exact phrase matching\n",
    "QUERY = \"George Floyd protests\"  # No quotes for general keyword search\n",
    "\n",
    "begin = datetime.datetime(2020, 5, 23)\n",
    "end = datetime.datetime(2020, 7, 23)\n",
    "\n",
    "begin_str = begin.strftime(\"%Y%m%d\")\n",
    "end_str = end.strftime(\"%Y%m%d\")\n",
    "\n",
    "articles = []\n",
    "page = 0\n",
    "max_pages = 10  # 10 pages * 10 articles per page = 100 articles max\n",
    "\n",
    "while page < max_pages:\n",
    "    params = {\n",
    "        \"q\": QUERY,\n",
    "        \"begin_date\": begin_str,\n",
    "        \"end_date\": end_str,\n",
    "        \"api-key\": api_key, # we got this earlier and we can still use it, even without the pynytimes package\n",
    "        \"page\": page,\n",
    "        \"sort\": \"newest\"\n",
    "    }\n",
    "\n",
    "    response = requests.get(BASE_URL, params=params)\n",
    "    if response.status_code != 200:\n",
    "        print(f\"Request failed on page {page}: {response.text}\")\n",
    "        break\n",
    "\n",
    "    data = response.json()\n",
    "    docs = data.get(\"response\", {}).get(\"docs\", [])\n",
    "    if not docs:\n",
    "        break\n",
    "\n",
    "    articles.extend(docs)\n",
    "    print(f\"Fetched page {page + 1} with {len(docs)} articles.\")\n",
    "    page += 1\n",
    "    time.sleep(5)  # NYT recommends spacing requests to avoid throttling\n",
    "\n",
    "print(f\"\\nTotal articles fetched: {len(articles)}\")\n",
    "\n",
    "# Example: Print headline and URL\n",
    "for i, article in enumerate(articles[:5]):  # just previewing 5\n",
    "    print(f\"{i+1}. {article['headline']['main']}\")\n",
    "    print(f\"   {article['web_url']}\\n\")\n",
    "\n",
    "\n"
   ]
  },
  {
   "cell_type": "markdown",
   "id": "49f4b3b3-2b4a-4a20-9a79-ca90d90262f8",
   "metadata": {},
   "source": [
    "<a id='analysis'></a>\n",
    "\n",
    "# Data Analysis\n",
    "\n",
    "Now, we'll perform a data analysis on many articles about the 2020 presidential election."
   ]
  },
  {
   "cell_type": "markdown",
   "id": "84d24acd-e050-424c-af03-67e708db4737",
   "metadata": {},
   "source": [
    "We are working with previously queried set of articles because making the API call will take too much time. The code used to queried the articles we'll analyze can be found in the following cell:"
   ]
  },
  {
   "cell_type": "markdown",
   "id": "9d1d5e83-a645-4b35-9084-fca5dd408363",
   "metadata": {},
   "source": [
    "## Query Using the Article Search API"
   ]
  },
  {
   "cell_type": "code",
   "execution_count": null,
   "id": "3a4a7832-3186-45c6-8b43-e52c99486526",
   "metadata": {},
   "outputs": [],
   "source": [
    "# Change this variable if you'd like to run the query yourself\n",
    "run_query = False\n",
    "\n",
    "# Only run this code if you're able to wait for the query to finish\n",
    "if run_query:\n",
    "    # Create datetime objects\n",
    "    begin = datetime(2020, 9, 7) # September 7, 2020\n",
    "    end = datetime(2020, 11, 7) # November 7, 2020\n",
    "    date_dict = {\"begin\": begin, \"end\": end}\n",
    "\n",
    "    options_dict = {\n",
    "        \"sort\": \"oldest\",\n",
    "        \"sources\": [\"New York Times\",],\n",
    "        \"type_of_material\": [\"News Analysis\", \"News\", \"Article\", \"Editorial\"]\n",
    "    }\n",
    "\n",
    "    # To get the dataset we use, set n_results to 2000\n",
    "    n_results = 2000\n",
    "    # n_results = 10\n",
    "\n",
    "    # Perform article search query\n",
    "    articles = nyt.article_search(\n",
    "         query=\"presidential election\",\n",
    "         results=n_results,\n",
    "         dates=date_dict,\n",
    "         options=options_dict)\n",
    "\n",
    "    # Create DataFrame \n",
    "    df = pd.json_normalize(articles)\n",
    "    \n",
    "    # Ensure 'lead_paragraph' column has no NaN \n",
    "    df['lead_paragraph'] = df['lead_paragraph'].fillna('')\n",
    "    \n",
    "    # Save DataFrame\n",
    "    df.to_csv(\"../data/election2020_articles.csv\")"
   ]
  },
  {
   "cell_type": "markdown",
   "id": "4561fe76-6d07-46c5-bda7-9973e7631ed7",
   "metadata": {},
   "source": [
    "Let's load in the previously saved data:"
   ]
  },
  {
   "cell_type": "code",
   "execution_count": null,
   "id": "cb310d22-895a-4dff-8442-247aa8b02b42",
   "metadata": {
    "tags": []
   },
   "outputs": [],
   "source": [
    "df = pd.read_csv(\"../data/election2020_articles.csv\")\n",
    "df.head()"
   ]
  },
  {
   "cell_type": "code",
   "execution_count": null,
   "id": "65e4aa87-5f4b-42c6-8f6a-c252e91cdc60",
   "metadata": {
    "scrolled": true
   },
   "outputs": [],
   "source": [
    "# Inspect metadata\n",
    "df.info()"
   ]
  },
  {
   "cell_type": "markdown",
   "id": "3e46337e-600b-45a6-bf77-6a858efc1383",
   "metadata": {},
   "source": [
    "## Perform Sentiment Analysis\n",
    "\n",
    "Sentiment analysis is a common task when working with text data. Let's track the sentiment of articles about the election over the two month time period. We'll use the `vadersentiment` package to evaluate the sentiment of each article.\n",
    "\n",
    "According to the [VADER Github Repo](https://github.com/cjhutto/vaderSentiment), \"VADER (Valence Aware Dictionary and sEntiment Reasoner) is a lexicon and rule-based sentiment analysis tool that is *specifically attuned to sentiments expressed in social media*.\"\n",
    "\n",
    "We'll start by installing the `vadersentiment` library."
   ]
  },
  {
   "cell_type": "code",
   "execution_count": null,
   "id": "b440d3fb-2ad2-4587-b395-2c862c5009aa",
   "metadata": {},
   "outputs": [],
   "source": [
    "# Install the vadersentiment library\n",
    "%pip install vadersentiment"
   ]
  },
  {
   "cell_type": "code",
   "execution_count": null,
   "id": "3477c354-ce11-478c-9f99-1a24c0fbc549",
   "metadata": {},
   "outputs": [],
   "source": [
    "# Import the SentimentIntensityAnalyzer object\n",
    "from vaderSentiment.vaderSentiment import SentimentIntensityAnalyzer"
   ]
  },
  {
   "cell_type": "code",
   "execution_count": null,
   "id": "0a12840c-372b-4b5d-96cc-c8f33c6116ed",
   "metadata": {},
   "outputs": [],
   "source": [
    "# Initialize analyzer object\n",
    "analyzer = SentimentIntensityAnalyzer()\n",
    "# Calculate the polarity scores of the lead paragraph \n",
    "df[\"sentiment\"] = df[\"lead_paragraph\"].apply(lambda x: analyzer.polarity_scores(x) if isinstance(x, str) else np.nan)"
   ]
  },
  {
   "cell_type": "code",
   "execution_count": null,
   "id": "f005cb19-9a18-4c99-9835-ec2801cb5519",
   "metadata": {},
   "outputs": [],
   "source": [
    "# Inspect the sentiment column\n",
    "df.sentiment.head()"
   ]
  },
  {
   "cell_type": "code",
   "execution_count": null,
   "id": "3bcf1b6c-b87d-40e6-a1ba-26ca80056ef8",
   "metadata": {},
   "outputs": [],
   "source": [
    "# View single row\n",
    "df.sentiment.iloc[0]"
   ]
  },
  {
   "cell_type": "markdown",
   "id": "3b774a12-732b-46a4-aabc-b4c29c8fdb3e",
   "metadata": {},
   "source": [
    "The `compound` score is computed by summing the valence scores of each word in the lexicon, adjusted according to the rules, and then normalized to be between -1 (most negative) and +1 (most positive). This is the most useful metric if you want a single unidimensional measure of sentiment for a given sentence. We can think of this score as a normalized, weighted composite score. It is also useful for researchers who would like to set standardized thresholds for classifying sentences as either positive, neutral, or negative. \n",
    "\n",
    "Typical threshold values are:\n",
    "\n",
    "1. **Positive Sentiment**: compound score $\\geq 0.05$\n",
    " \n",
    "2. **Neutral  Sentiment**: $-0.05 <$ compound score $< 0.05$\n",
    " \n",
    "3. **Negative Sentiment**: compound score $\\leq -0.05$"
   ]
  },
  {
   "cell_type": "code",
   "execution_count": null,
   "id": "6a4f20a8-96bc-4009-8424-d427e2b16755",
   "metadata": {},
   "outputs": [],
   "source": [
    "# Re-assign sentiment as the compound score\n",
    "df[\"sentiment\"] = df[\"sentiment\"].apply(lambda x: x[\"compound\"] if isinstance(x, dict) else np.nan)"
   ]
  },
  {
   "cell_type": "markdown",
   "id": "574114c9-7261-4b7e-8494-8f7e962ac6c2",
   "metadata": {},
   "source": [
    "Let's get a sense of the distribution of scores by calculating some summary statistics and plotting a histogram:"
   ]
  },
  {
   "cell_type": "code",
   "execution_count": null,
   "id": "dd45dbca-af6f-41fa-a70d-abd008b4ebbb",
   "metadata": {},
   "outputs": [],
   "source": [
    "# Summary statistics\n",
    "df.sentiment.describe()"
   ]
  },
  {
   "cell_type": "code",
   "execution_count": null,
   "id": "debbce8d-5e49-4b11-add9-0532b8cb2ee0",
   "metadata": {},
   "outputs": [],
   "source": [
    "bins = np.linspace(-1, 1, 17)\n",
    "df.sentiment.hist(bins=bins, figsize= (9, 7))\n",
    "plt.xlabel(\"Sentiment Score\")\n",
    "plt.ylabel(\"Frequency\")\n",
    "plt.xlim([-1.0, 1.0])"
   ]
  },
  {
   "cell_type": "markdown",
   "id": "65a407db-1bbf-4ae4-ad07-7a10bdaf2ae9",
   "metadata": {},
   "source": [
    "## 🥊 Challenge: Most Positive, Most Negative\n",
    "\n",
    "What are the top 3 most positive and negative texts? Tip: try using the `sort_values()` method on the \"sentiment\" column in your df!"
   ]
  },
  {
   "cell_type": "code",
   "execution_count": null,
   "id": "e7a2ebef-41a7-4cc1-a553-a4fc33a3cc57",
   "metadata": {},
   "outputs": [],
   "source": [
    "import pandas as pd\n",
    "from vaderSentiment.vaderSentiment import SentimentIntensityAnalyzer\n",
    "import numpy as np \n",
    "\n",
    "df = pd.read_csv(\"../data/election2020_articles.csv\")\n",
    "# Initialize analyzer object\n",
    "analyzer = SentimentIntensityAnalyzer()\n",
    "# Calculate the polarity scores of the lead paragraph and save it in df\n",
    "df[\"sentiment\"] = df[\"lead_paragraph\"].apply(lambda x: analyzer.polarity_scores(x) if isinstance(x, str) else np.nan)\n",
    "df[\"sentiment\"] = df[\"sentiment\"].apply(lambda x: x[\"compound\"] if isinstance(x, dict) else np.nan)"
   ]
  },
  {
   "cell_type": "code",
   "execution_count": null,
   "id": "cb0b4b7d",
   "metadata": {},
   "outputs": [],
   "source": [
    "# Most positive texts\n",
    "df.sort_values(\"sentiment\", ascending = False)[\"headline.main\"].iloc[:3].tolist()"
   ]
  },
  {
   "cell_type": "code",
   "execution_count": null,
   "id": "e2b6a11e",
   "metadata": {},
   "outputs": [],
   "source": [
    "# Most negative texts\n",
    "df.sort_values(\"sentiment\", ascending = True)[\"headline.main\"].iloc[:3].tolist()"
   ]
  },
  {
   "cell_type": "markdown",
   "id": "f889b643-e6b1-406c-b320-eaafa278a3c0",
   "metadata": {},
   "source": [
    "Finally, using the VADER thresholds for positive, neutral, and negative, we can see how many articles qualify for each of those labels:"
   ]
  },
  {
   "cell_type": "code",
   "execution_count": null,
   "id": "3bac1185-a853-4f2f-8fd5-eb36d8af1821",
   "metadata": {},
   "outputs": [],
   "source": [
    "# Proportion of positive, negative, and neutral texts\n",
    "def bin_func(x):\n",
    "    if x > 0.05:\n",
    "        return \"positive\"\n",
    "    elif x < -.05:\n",
    "        return \"negative\"\n",
    "    else:\n",
    "        return \"neutral\"\n",
    "# Calculate counts\n",
    "df.sentiment.apply(bin_func).value_counts()"
   ]
  },
  {
   "cell_type": "markdown",
   "id": "0fc1297f-70a1-48cf-bdac-5e251ee697c2",
   "metadata": {},
   "source": [
    "## Sentiment Over the Course of the Campaign"
   ]
  },
  {
   "cell_type": "markdown",
   "id": "db927bc2-514b-4990-8b06-94e9a8650fd7",
   "metadata": {},
   "source": [
    "Let's examine how the compound score evolved over the course of the campaign. Do you have expectations on how this quantity might behave as the election nears? \n",
    "\n",
    "First, let's create a new `pandas` series which tracks the sentiment over time:"
   ]
  },
  {
   "cell_type": "code",
   "execution_count": null,
   "id": "d16393da-bd5b-4042-b07c-568b659015b7",
   "metadata": {},
   "outputs": [],
   "source": [
    "# change pub_date to DatetimeIndex format\n",
    "df[\"pub_date\"] = pd.to_datetime(df[\"pub_date\"])"
   ]
  },
  {
   "cell_type": "code",
   "execution_count": null,
   "id": "cdbdbe85-27c1-40a2-9693-48955352623d",
   "metadata": {},
   "outputs": [],
   "source": [
    "# Create a time series with publication date as the index and sentiment score as the value\n",
    "sentiment_ts = pd.Series(index= df.pub_date.tolist(),\n",
    "                         data = df.sentiment.tolist())"
   ]
  },
  {
   "cell_type": "markdown",
   "id": "f25e495e-dc35-447c-b903-d1b4dfde1288",
   "metadata": {},
   "source": [
    "Next, we'll calculate daily and weekly averages:"
   ]
  },
  {
   "cell_type": "code",
   "execution_count": null,
   "id": "8d6f9cb9-6c8d-4c6e-9596-2e7e0e2313ce",
   "metadata": {},
   "outputs": [],
   "source": [
    "# Resample the data with daily averages and weekly averages\n",
    "daily = sentiment_ts.resample(\"d\").mean()\n",
    "weekly = sentiment_ts.resample(\"w\").mean()"
   ]
  },
  {
   "cell_type": "markdown",
   "id": "568bd7c7-1bf1-4c43-9f2b-294f7943cfb9",
   "metadata": {},
   "source": [
    "🔔 **Question**: We can plot the results below. Do you notice any patterns?"
   ]
  },
  {
   "cell_type": "code",
   "execution_count": null,
   "id": "8d4394c7-ea1d-4583-8a59-8284022ad2fb",
   "metadata": {},
   "outputs": [],
   "source": [
    "# Daily average sentiment of articles.\n",
    "daily.plot(figsize = (11, 7))\n",
    "plt.xlabel(\"Dates\")\n",
    "plt.ylabel(\"Sentiment Score\");"
   ]
  },
  {
   "cell_type": "code",
   "execution_count": null,
   "id": "c7a741f8-d9a9-47a5-bbef-9c1e629b530f",
   "metadata": {},
   "outputs": [],
   "source": [
    "# Weekly average sentiment of articles.\n",
    "weekly.plot(figsize = (11, 7))\n",
    "plt.xlabel(\"Dates\")\n",
    "plt.ylabel(\"Sentiment Score\");"
   ]
  },
  {
   "cell_type": "markdown",
   "id": "e1da9002-dfeb-4c44-bc7b-c358221ba931",
   "metadata": {},
   "source": [
    "# 🎬 Demo: Handling Nested Arrays of Keywords"
   ]
  },
  {
   "cell_type": "markdown",
   "id": "e66e600e-927b-41c4-a39a-1cd7decb8df0",
   "metadata": {},
   "source": [
    "The Times has done us a favor in providing the named entities in the articles, thus relieving us of having to do the tagging ourselves. However, the data structure that it comes in can be tricky to handle. Here, we provide a short tutorial showing one way to cleanly extract keyword data."
   ]
  },
  {
   "cell_type": "code",
   "execution_count": null,
   "id": "3c743c86-6522-41fa-a4ca-50109b9c1b98",
   "metadata": {},
   "outputs": [],
   "source": [
    "# Refer to a sample article's set of keywords\n",
    "df.keywords.iloc[1]"
   ]
  },
  {
   "cell_type": "markdown",
   "id": "ada82a2d-ab47-40e5-9425-d86342a5df10",
   "metadata": {},
   "source": [
    "We see a number of things here:\n",
    "- Each article's keywords are laid out in a list of dictionaries.\n",
    "- A dictionary tell us the name, type, ranking, and major of the keyword.\n",
    "- The five types of keywords are: `subject`, `persons`, `glocations`, `organizations`, and `creative_works`.\n",
    "- The ordering of the list corresponds to the ranking.\n",
    "- All articles do not all have the same number of rankings."
   ]
  },
  {
   "cell_type": "markdown",
   "id": "4f8534e5-9097-427d-ba9b-1e04ce668064",
   "metadata": {},
   "source": [
    "We've created a function to extract keyword data based on the ranking. This function will be applied over the pandas series of keyword data."
   ]
  },
  {
   "cell_type": "code",
   "execution_count": null,
   "id": "08391288-be34-4e06-9195-f5db61c37f15",
   "metadata": {},
   "outputs": [],
   "source": [
    "import ast\n",
    "\n",
    "# Convert the string representation of the list into actual lists of dictionaries\n",
    "df['keywords'] = df['keywords'].apply(lambda x: ast.literal_eval(x) if isinstance(x, str) else x)"
   ]
  },
  {
   "cell_type": "code",
   "execution_count": null,
   "id": "c5fee0d3-11a4-4cf6-99da-cf7067630c74",
   "metadata": {},
   "outputs": [],
   "source": [
    "df[\"keywords\"].head()"
   ]
  },
  {
   "cell_type": "code",
   "execution_count": null,
   "id": "04b1fede-fd8c-432c-b1e1-2a805a1e9b87",
   "metadata": {},
   "outputs": [],
   "source": [
    "def rank_extractor(data, rank):\n",
    "    \"\"\"Extracts keyword data based on the 'rank' field.\"\"\"\n",
    "    if isinstance(data, list):\n",
    "        for keyword in data:\n",
    "            if isinstance(keyword, dict) and keyword.get(\"rank\") == rank:\n",
    "                return {\"name\": keyword.get(\"name\"), \"value\": keyword.get(\"value\")}\n",
    "    return None"
   ]
  },
  {
   "cell_type": "code",
   "execution_count": null,
   "id": "d701072e-8d36-4cab-9ee5-f58e8aed62b6",
   "metadata": {
    "scrolled": true
   },
   "outputs": [],
   "source": [
    "# Extract the first, second, and third keywords\n",
    "rank1 = df.keywords.apply(lambda x: rank_extractor(x, 1))\n",
    "rank2 = df.keywords.apply(lambda x: rank_extractor(x, 2))\n",
    "rank3 = df.keywords.apply(lambda x: rank_extractor(x, 3))"
   ]
  },
  {
   "cell_type": "code",
   "execution_count": null,
   "id": "e3f18704-1d57-4c70-9170-04f644b915dc",
   "metadata": {},
   "outputs": [],
   "source": [
    "# View results\n",
    "rank1.head()"
   ]
  },
  {
   "cell_type": "markdown",
   "id": "b7ec099e-b5d5-4e2c-b617-78043b28be1e",
   "metadata": {},
   "source": [
    "Let's convert these dictionaries into `pandas` Series:"
   ]
  },
  {
   "cell_type": "code",
   "execution_count": null,
   "id": "762ed380-57f2-4dec-8f31-210567a5057b",
   "metadata": {},
   "outputs": [],
   "source": [
    "rank1 = rank1.apply(pd.Series)\n",
    "rank2 = rank2.apply(pd.Series)\n",
    "rank3 = rank3.apply(pd.Series)\n",
    "rank1.head()"
   ]
  },
  {
   "cell_type": "markdown",
   "id": "49e9b4ab-7113-4321-8e3e-82b86effeb6c",
   "metadata": {},
   "source": [
    "Voila! A nice clean format. Now can we conduct some light analysis:"
   ]
  },
  {
   "cell_type": "code",
   "execution_count": null,
   "id": "311b066f-ce49-4aa4-889c-d79c919a3811",
   "metadata": {},
   "outputs": [],
   "source": [
    "# Most frequent type of keyword in ranking #1\n",
    "rank1.name.value_counts()"
   ]
  },
  {
   "cell_type": "code",
   "execution_count": null,
   "id": "131a13f9-d941-4787-aa24-2caa650eae96",
   "metadata": {},
   "outputs": [],
   "source": [
    "# The most common keywords in ranking #1:\n",
    "rank1.value.value_counts()"
   ]
  },
  {
   "cell_type": "markdown",
   "id": "4ebed890-3232-4399-ac6d-ebefc948f6d8",
   "metadata": {},
   "source": [
    "<div class=\"alert alert-success\">\n",
    "\n",
    "## ❗ Key Points\n",
    "\n",
    "* APIs allow structured web interactions, often using URLs to query databases and retrieve data.\n",
    "* API keys authenticate users, enabling access to APIs while monitoring and limiting the number of requests.\n",
    "* The NYT API allows users to do things like retrieve top stories, find most shared stories, and search for stories.\n",
    "* Text data acquired through APIs can be analyzed using natural language processing tools such as sentiment analysis.\n",
    "  \n",
    "</div>"
   ]
  }
 ],
 "metadata": {
  "kernelspec": {
   "display_name": "dighum101",
   "language": "python",
   "name": "python3"
  },
  "language_info": {
   "codemirror_mode": {
    "name": "ipython",
    "version": 3
   },
   "file_extension": ".py",
   "mimetype": "text/x-python",
   "name": "python",
   "nbconvert_exporter": "python",
   "pygments_lexer": "ipython3",
   "version": "3.12.10"
  }
 },
 "nbformat": 4,
 "nbformat_minor": 5
}
