{
 "cells": [
  {
   "cell_type": "markdown",
   "metadata": {},
   "source": [
    "## Challenge 1: More data structures - Array\n",
    "\n",
    "Lists are called arrays when they contain data of the same type, and may be preferred to lists when handling large amounts of data because they are computationally more efficient. Use your numpy library to create a \"numpy array\":"
   ]
  },
  {
   "cell_type": "code",
   "execution_count": 1,
   "metadata": {},
   "outputs": [],
   "source": [
    "import numpy as np"
   ]
  },
  {
   "cell_type": "code",
   "execution_count": 2,
   "metadata": {},
   "outputs": [
    {
     "name": "stdout",
     "output_type": "stream",
     "text": [
      "[ 4  5  6 10]\n",
      "<class 'numpy.ndarray'>\n"
     ]
    }
   ],
   "source": [
    "# Define a numpy array\n",
    "my_array = np.array([4, 5, 6, 10])\n",
    "\n",
    "print(my_array)\n",
    "print(type(my_array))"
   ]
  },
  {
   "cell_type": "markdown",
   "metadata": {},
   "source": [
    "Like lists, we can change an individual value by reassigning its index:"
   ]
  },
  {
   "cell_type": "code",
   "execution_count": 3,
   "metadata": {},
   "outputs": [
    {
     "name": "stdout",
     "output_type": "stream",
     "text": [
      "[42  5  6 10]\n"
     ]
    }
   ],
   "source": [
    "my_array[0] = 42\n",
    "print(my_array)"
   ]
  },
  {
   "cell_type": "markdown",
   "metadata": {},
   "source": [
    "Define an array based on a range of numbers:"
   ]
  },
  {
   "cell_type": "code",
   "execution_count": 4,
   "metadata": {},
   "outputs": [
    {
     "name": "stdout",
     "output_type": "stream",
     "text": [
      "[14 15 16 17 18 19 20 21 22 23 24 25 26 27 28]\n"
     ]
    }
   ],
   "source": [
    "number_range = np.arange(14,29)\n",
    "print(number_range)\n",
    "\n"
   ]
  },
  {
   "cell_type": "markdown",
   "metadata": {},
   "source": [
    "What if I want just the third, fourth and fifth elements of \"number_range\""
   ]
  },
  {
   "cell_type": "code",
   "execution_count": 5,
   "metadata": {},
   "outputs": [
    {
     "data": {
      "text/plain": [
       "array([16, 17, 18])"
      ]
     },
     "execution_count": 5,
     "metadata": {},
     "output_type": "execute_result"
    }
   ],
   "source": [
    "number_range[2:5]\n"
   ]
  },
  {
   "cell_type": "markdown",
   "metadata": {},
   "source": [
    "## Challenge 2: More data structures - Tuple\n",
    "\n",
    "Tuples are similar to lists and arrays, but they are unchangeable (\"immutable\"). \n",
    "\n",
    "For example, we cannot change the output of 10 (the dividend) divided by 3 (the divisor) - by definition the quotient is 3 and the remainder is 1 this cannot be changed. \n",
    "\n",
    "> Although they appear similar to lists, note that tuples use round parentheses `()` to store information instead of square brackets."
   ]
  },
  {
   "cell_type": "code",
   "execution_count": 6,
   "metadata": {},
   "outputs": [
    {
     "name": "stdout",
     "output_type": "stream",
     "text": [
      "(3, 1)\n",
      "<class 'tuple'>\n"
     ]
    }
   ],
   "source": [
    "div = divmod(10,3)\n",
    "print(div)\n",
    "print(type(div))"
   ]
  },
  {
   "cell_type": "markdown",
   "metadata": {},
   "source": [
    "Figure out another way to define any tuple below:"
   ]
  },
  {
   "cell_type": "code",
   "execution_count": 7,
   "metadata": {},
   "outputs": [
    {
     "name": "stdout",
     "output_type": "stream",
     "text": [
      "()\n",
      "<class 'tuple'>\n"
     ]
    }
   ],
   "source": [
    "# Empty tuple\n",
    "tuple_empty = ()\n",
    "print(tuple_empty)\n",
    "print(type(tuple_empty))"
   ]
  },
  {
   "cell_type": "code",
   "execution_count": 8,
   "metadata": {},
   "outputs": [
    {
     "name": "stdout",
     "output_type": "stream",
     "text": [
      "(1.12, 2.23, 3.14)\n",
      "<class 'tuple'>\n"
     ]
    }
   ],
   "source": [
    "# Tuple with floats\n",
    "tuple_float = (1.12, 2.23, 3.14)\n",
    "print(tuple_float)\n",
    "print(type(tuple_float))"
   ]
  },
  {
   "cell_type": "code",
   "execution_count": 9,
   "metadata": {},
   "outputs": [
    {
     "name": "stdout",
     "output_type": "stream",
     "text": [
      "([1, 3, 12], True, 'hello!', (3.14, 3.14, 3.15))\n",
      "<class 'tuple'>\n"
     ]
    }
   ],
   "source": [
    "# Complex tuple\n",
    "tuple_complex = ([1, 3, 12], True, \"hello!\", (3.14, 3.14, 3.15))\n",
    "print(tuple_complex)\n",
    "print(type(tuple_complex))"
   ]
  },
  {
   "cell_type": "markdown",
   "metadata": {},
   "source": [
    "How do you think you index or slice a tuple? HINT: You are already familiar with this! Provide one example below."
   ]
  },
  {
   "cell_type": "code",
   "execution_count": 10,
   "metadata": {},
   "outputs": [
    {
     "name": "stdout",
     "output_type": "stream",
     "text": [
      "True\n",
      "3.15\n"
     ]
    }
   ],
   "source": [
    "print(tuple_complex[1])\n",
    "\n",
    "# or\n",
    "\n",
    "print(tuple_complex[3][2])"
   ]
  },
  {
   "cell_type": "markdown",
   "metadata": {},
   "source": [
    "## Challenge 3: More data structures - Series\n",
    "\n",
    "Series are the pandas version of arrays - one dimensional data storage, preferably of the same type."
   ]
  },
  {
   "cell_type": "code",
   "execution_count": 14,
   "metadata": {},
   "outputs": [
    {
     "name": "stdout",
     "output_type": "stream",
     "text": [
      "Object `pd.series` not found.\n"
     ]
    }
   ],
   "source": [
    "pd.series?"
   ]
  },
  {
   "cell_type": "markdown",
   "metadata": {},
   "source": [
    "What must you do before you can call the help files for `pd.Series`?"
   ]
  },
  {
   "cell_type": "code",
   "execution_count": 15,
   "metadata": {},
   "outputs": [],
   "source": [
    "import pandas as pd"
   ]
  },
  {
   "cell_type": "code",
   "execution_count": 16,
   "metadata": {},
   "outputs": [
    {
     "name": "stdout",
     "output_type": "stream",
     "text": [
      "\u001b[31mInit signature:\u001b[39m\n",
      "pd.Series(\n",
      "    data=\u001b[38;5;28;01mNone\u001b[39;00m,\n",
      "    index=\u001b[38;5;28;01mNone\u001b[39;00m,\n",
      "    dtype: \u001b[33m'Dtype | None'\u001b[39m = \u001b[38;5;28;01mNone\u001b[39;00m,\n",
      "    name=\u001b[38;5;28;01mNone\u001b[39;00m,\n",
      "    copy: \u001b[33m'bool | None'\u001b[39m = \u001b[38;5;28;01mNone\u001b[39;00m,\n",
      "    fastpath: \u001b[33m'bool | lib.NoDefault'\u001b[39m = <no_default>,\n",
      ") -> \u001b[33m'None'\u001b[39m\n",
      "\u001b[31mDocstring:\u001b[39m     \n",
      "One-dimensional ndarray with axis labels (including time series).\n",
      "\n",
      "Labels need not be unique but must be a hashable type. The object\n",
      "supports both integer- and label-based indexing and provides a host of\n",
      "methods for performing operations involving the index. Statistical\n",
      "methods from ndarray have been overridden to automatically exclude\n",
      "missing data (currently represented as NaN).\n",
      "\n",
      "Operations between Series (+, -, /, \\*, \\*\\*) align values based on their\n",
      "associated index values-- they need not be the same length. The result\n",
      "index will be the sorted union of the two indexes.\n",
      "\n",
      "Parameters\n",
      "----------\n",
      "data : array-like, Iterable, dict, or scalar value\n",
      "    Contains data stored in Series. If data is a dict, argument order is\n",
      "    maintained.\n",
      "index : array-like or Index (1d)\n",
      "    Values must be hashable and have the same length as `data`.\n",
      "    Non-unique index values are allowed. Will default to\n",
      "    RangeIndex (0, 1, 2, ..., n) if not provided. If data is dict-like\n",
      "    and index is None, then the keys in the data are used as the index. If the\n",
      "    index is not None, the resulting Series is reindexed with the index values.\n",
      "dtype : str, numpy.dtype, or ExtensionDtype, optional\n",
      "    Data type for the output Series. If not specified, this will be\n",
      "    inferred from `data`.\n",
      "    See the :ref:`user guide <basics.dtypes>` for more usages.\n",
      "name : Hashable, default None\n",
      "    The name to give to the Series.\n",
      "copy : bool, default False\n",
      "    Copy input data. Only affects Series or 1d ndarray input. See examples.\n",
      "\n",
      "Notes\n",
      "-----\n",
      "Please reference the :ref:`User Guide <basics.series>` for more information.\n",
      "\n",
      "Examples\n",
      "--------\n",
      "Constructing Series from a dictionary with an Index specified\n",
      "\n",
      ">>> d = {'a': 1, 'b': 2, 'c': 3}\n",
      ">>> ser = pd.Series(data=d, index=['a', 'b', 'c'])\n",
      ">>> ser\n",
      "a   1\n",
      "b   2\n",
      "c   3\n",
      "dtype: int64\n",
      "\n",
      "The keys of the dictionary match with the Index values, hence the Index\n",
      "values have no effect.\n",
      "\n",
      ">>> d = {'a': 1, 'b': 2, 'c': 3}\n",
      ">>> ser = pd.Series(data=d, index=['x', 'y', 'z'])\n",
      ">>> ser\n",
      "x   NaN\n",
      "y   NaN\n",
      "z   NaN\n",
      "dtype: float64\n",
      "\n",
      "Note that the Index is first build with the keys from the dictionary.\n",
      "After this the Series is reindexed with the given Index values, hence we\n",
      "get all NaN as a result.\n",
      "\n",
      "Constructing Series from a list with `copy=False`.\n",
      "\n",
      ">>> r = [1, 2]\n",
      ">>> ser = pd.Series(r, copy=False)\n",
      ">>> ser.iloc[0] = 999\n",
      ">>> r\n",
      "[1, 2]\n",
      ">>> ser\n",
      "0    999\n",
      "1      2\n",
      "dtype: int64\n",
      "\n",
      "Due to input data type the Series has a `copy` of\n",
      "the original data even though `copy=False`, so\n",
      "the data is unchanged.\n",
      "\n",
      "Constructing Series from a 1d ndarray with `copy=False`.\n",
      "\n",
      ">>> r = np.array([1, 2])\n",
      ">>> ser = pd.Series(r, copy=False)\n",
      ">>> ser.iloc[0] = 999\n",
      ">>> r\n",
      "array([999,   2])\n",
      ">>> ser\n",
      "0    999\n",
      "1      2\n",
      "dtype: int64\n",
      "\n",
      "Due to input data type the Series has a `view` on\n",
      "the original data, so\n",
      "the data is changed as well.\n",
      "\u001b[31mFile:\u001b[39m           ~/Downloads/miniconda3/envs/dighum101/lib/python3.12/site-packages/pandas/core/series.py\n",
      "\u001b[31mType:\u001b[39m           type\n",
      "\u001b[31mSubclasses:\u001b[39m     SubclassedSeries"
     ]
    }
   ],
   "source": [
    "pd.Series?"
   ]
  },
  {
   "cell_type": "markdown",
   "metadata": {},
   "source": [
    "What are the two arguments in the `pd.Series` code below?"
   ]
  },
  {
   "cell_type": "code",
   "execution_count": 17,
   "metadata": {
    "scrolled": false
   },
   "outputs": [
    {
     "name": "stdout",
     "output_type": "stream",
     "text": [
      "a    1\n",
      "b    2\n",
      "c    3\n",
      "D    4\n",
      "E    5\n",
      "dtype: int64\n",
      "<class 'pandas.core.series.Series'>\n"
     ]
    }
   ],
   "source": [
    "pd_series = pd.Series([1, 2, 3, 4, 5], \n",
    "                      index = [\"a\", \"b\", \"c\", \"D\", \"E\"])\n",
    "print(pd_series)\n",
    "print(type(pd_series))"
   ]
  },
  {
   "cell_type": "markdown",
   "metadata": {},
   "source": [
    "## Reminder: Pandas Dataframe and zip()\n",
    "\n",
    "A pandas DataFrame is an ordered group of equal-length series/arrays. This ensures that data are of the same type within each column, but that data can be of different types across rows (think like an MS Excel spreadsheet!)\n",
    "\n",
    "> Pandas was a large part of our course in Week 2. This is just a little refresher!"
   ]
  },
  {
   "cell_type": "code",
   "execution_count": 18,
   "metadata": {},
   "outputs": [
    {
     "name": "stdout",
     "output_type": "stream",
     "text": [
      "Empty DataFrame\n",
      "Columns: []\n",
      "Index: []\n"
     ]
    }
   ],
   "source": [
    "# Create a DataFrame using lists\n",
    "\n",
    "# Define two lists\n",
    "heroes = [\"Superman\", \"Black Panther\", \"Wonder Woman\", \"Batman\", \"Storm\"]\n",
    "hometown = [\"Krypton\", \"Wakanda\", \"Themyscira\", \"Gotham\", \"Harlem\"]\n",
    "age = [23, 25, 41, 52, 22]\n",
    "\n",
    "# Create an empty DataFrame\n",
    "comics = pd.DataFrame()\n",
    "print(comics)"
   ]
  },
  {
   "cell_type": "code",
   "execution_count": 19,
   "metadata": {},
   "outputs": [
    {
     "data": {
      "application/vnd.microsoft.datawrangler.viewer.v0+json": {
       "columns": [
        {
         "name": "index",
         "rawType": "int64",
         "type": "integer"
        },
        {
         "name": "Name",
         "rawType": "object",
         "type": "string"
        },
        {
         "name": "Home",
         "rawType": "object",
         "type": "string"
        },
        {
         "name": "Age",
         "rawType": "int64",
         "type": "integer"
        }
       ],
       "ref": "bdf4ea31-a0c0-4e69-9ede-bd89cdcba6dc",
       "rows": [
        [
         "0",
         "Superman",
         "Krypton",
         "23"
        ],
        [
         "1",
         "Black Panther",
         "Wakanda",
         "25"
        ],
        [
         "2",
         "Wonder Woman",
         "Themyscira",
         "41"
        ],
        [
         "3",
         "Batman",
         "Gotham",
         "52"
        ],
        [
         "4",
         "Storm",
         "Harlem",
         "22"
        ]
       ],
       "shape": {
        "columns": 3,
        "rows": 5
       }
      },
      "text/html": [
       "<div>\n",
       "<style scoped>\n",
       "    .dataframe tbody tr th:only-of-type {\n",
       "        vertical-align: middle;\n",
       "    }\n",
       "\n",
       "    .dataframe tbody tr th {\n",
       "        vertical-align: top;\n",
       "    }\n",
       "\n",
       "    .dataframe thead th {\n",
       "        text-align: right;\n",
       "    }\n",
       "</style>\n",
       "<table border=\"1\" class=\"dataframe\">\n",
       "  <thead>\n",
       "    <tr style=\"text-align: right;\">\n",
       "      <th></th>\n",
       "      <th>Name</th>\n",
       "      <th>Home</th>\n",
       "      <th>Age</th>\n",
       "    </tr>\n",
       "  </thead>\n",
       "  <tbody>\n",
       "    <tr>\n",
       "      <th>0</th>\n",
       "      <td>Superman</td>\n",
       "      <td>Krypton</td>\n",
       "      <td>23</td>\n",
       "    </tr>\n",
       "    <tr>\n",
       "      <th>1</th>\n",
       "      <td>Black Panther</td>\n",
       "      <td>Wakanda</td>\n",
       "      <td>25</td>\n",
       "    </tr>\n",
       "    <tr>\n",
       "      <th>2</th>\n",
       "      <td>Wonder Woman</td>\n",
       "      <td>Themyscira</td>\n",
       "      <td>41</td>\n",
       "    </tr>\n",
       "    <tr>\n",
       "      <th>3</th>\n",
       "      <td>Batman</td>\n",
       "      <td>Gotham</td>\n",
       "      <td>52</td>\n",
       "    </tr>\n",
       "    <tr>\n",
       "      <th>4</th>\n",
       "      <td>Storm</td>\n",
       "      <td>Harlem</td>\n",
       "      <td>22</td>\n",
       "    </tr>\n",
       "  </tbody>\n",
       "</table>\n",
       "</div>"
      ],
      "text/plain": [
       "            Name        Home  Age\n",
       "0       Superman     Krypton   23\n",
       "1  Black Panther     Wakanda   25\n",
       "2   Wonder Woman  Themyscira   41\n",
       "3         Batman      Gotham   52\n",
       "4          Storm      Harlem   22"
      ]
     },
     "execution_count": 19,
     "metadata": {},
     "output_type": "execute_result"
    }
   ],
   "source": [
    "# Use the lists to define the columns\n",
    "comics[\"Name\"] = heroes\n",
    "comics[\"Home\"] = hometown\n",
    "comics[\"Age\"] = age\n",
    "\n",
    "# View the data frame\n",
    "comics"
   ]
  },
  {
   "cell_type": "markdown",
   "metadata": {},
   "source": [
    "### `zip()`\n",
    "\n",
    "The `zip()` function is a handy way to define data frames using tuples. "
   ]
  },
  {
   "cell_type": "code",
   "execution_count": 20,
   "metadata": {},
   "outputs": [
    {
     "name": "stdout",
     "output_type": "stream",
     "text": [
      "\u001b[31mInit signature:\u001b[39m zip(self, /, *args, **kwargs)\n",
      "\u001b[31mDocstring:\u001b[39m     \n",
      "zip(*iterables, strict=False) --> Yield tuples until an input is exhausted.\n",
      "\n",
      "   >>> list(zip('abcdefg', range(3), range(4)))\n",
      "   [('a', 0, 0), ('b', 1, 1), ('c', 2, 2)]\n",
      "\n",
      "The zip object yields n-length tuples, where n is the number of iterables\n",
      "passed as positional arguments to zip().  The i-th element in every tuple\n",
      "comes from the i-th iterable argument to zip().  This continues until the\n",
      "shortest argument is exhausted.\n",
      "\n",
      "If strict is true and one of the arguments is exhausted before the others,\n",
      "raise a ValueError.\n",
      "\u001b[31mType:\u001b[39m           type\n",
      "\u001b[31mSubclasses:\u001b[39m     "
     ]
    }
   ],
   "source": [
    "zip?"
   ]
  },
  {
   "cell_type": "code",
   "execution_count": null,
   "metadata": {
    "scrolled": true
   },
   "outputs": [],
   "source": [
    "# Using zip()\n",
    "\n",
    "# Define lists to be the columns in our data frame\n",
    "day = [\"Monday\", \"Tuesday\", \"Friday\"]\n",
    "temp = [88, 91, 67]\n",
    "\n",
    "# Convert our two separate lists into a list of tuples\n",
    "tuples = list(zip(day, temp))\n",
    "tuples\n",
    "\n",
    "# Create the data frame \n",
    "pd.DataFrame(tuples, columns=[\"Day\", \"Temp\"])"
   ]
  },
  {
   "cell_type": "markdown",
   "metadata": {},
   "source": [
    "Create a small data frame like the ones above from scratch. Be creative! "
   ]
  },
  {
   "cell_type": "code",
   "execution_count": 21,
   "metadata": {},
   "outputs": [
    {
     "data": {
      "application/vnd.microsoft.datawrangler.viewer.v0+json": {
       "columns": [
        {
         "name": "index",
         "rawType": "object",
         "type": "string"
        },
        {
         "name": "Reading",
         "rawType": "int64",
         "type": "integer"
        },
        {
         "name": "Math",
         "rawType": "int64",
         "type": "integer"
        },
        {
         "name": "Science",
         "rawType": "int64",
         "type": "integer"
        },
        {
         "name": "Art",
         "rawType": "int64",
         "type": "integer"
        }
       ],
       "ref": "9950bf3a-5c79-4092-987c-1fce86c171fb",
       "rows": [
        [
         "Student A",
         "88",
         "99",
         "92",
         "78"
        ],
        [
         "Student B",
         "100",
         "95",
         "77",
         "99"
        ],
        [
         "Student C",
         "78",
         "88",
         "85",
         "80"
        ],
        [
         "Student D",
         "68",
         "88",
         "90",
         "100"
        ]
       ],
       "shape": {
        "columns": 4,
        "rows": 4
       }
      },
      "text/html": [
       "<div>\n",
       "<style scoped>\n",
       "    .dataframe tbody tr th:only-of-type {\n",
       "        vertical-align: middle;\n",
       "    }\n",
       "\n",
       "    .dataframe tbody tr th {\n",
       "        vertical-align: top;\n",
       "    }\n",
       "\n",
       "    .dataframe thead th {\n",
       "        text-align: right;\n",
       "    }\n",
       "</style>\n",
       "<table border=\"1\" class=\"dataframe\">\n",
       "  <thead>\n",
       "    <tr style=\"text-align: right;\">\n",
       "      <th></th>\n",
       "      <th>Reading</th>\n",
       "      <th>Math</th>\n",
       "      <th>Science</th>\n",
       "      <th>Art</th>\n",
       "    </tr>\n",
       "  </thead>\n",
       "  <tbody>\n",
       "    <tr>\n",
       "      <th>Student A</th>\n",
       "      <td>88</td>\n",
       "      <td>99</td>\n",
       "      <td>92</td>\n",
       "      <td>78</td>\n",
       "    </tr>\n",
       "    <tr>\n",
       "      <th>Student B</th>\n",
       "      <td>100</td>\n",
       "      <td>95</td>\n",
       "      <td>77</td>\n",
       "      <td>99</td>\n",
       "    </tr>\n",
       "    <tr>\n",
       "      <th>Student C</th>\n",
       "      <td>78</td>\n",
       "      <td>88</td>\n",
       "      <td>85</td>\n",
       "      <td>80</td>\n",
       "    </tr>\n",
       "    <tr>\n",
       "      <th>Student D</th>\n",
       "      <td>68</td>\n",
       "      <td>88</td>\n",
       "      <td>90</td>\n",
       "      <td>100</td>\n",
       "    </tr>\n",
       "  </tbody>\n",
       "</table>\n",
       "</div>"
      ],
      "text/plain": [
       "           Reading  Math  Science  Art\n",
       "Student A       88    99       92   78\n",
       "Student B      100    95       77   99\n",
       "Student C       78    88       85   80\n",
       "Student D       68    88       90  100"
      ]
     },
     "execution_count": 21,
     "metadata": {},
     "output_type": "execute_result"
    }
   ],
   "source": [
    "Name = [\"Student A\", \"Student B\", \"Student C\", \"Student D\"]\n",
    "Reading = [88, 99, 92, 78]\n",
    "Math = [100, 95, 77, 99]\n",
    "Science = [78, 88, 85, 80]\n",
    "Art = [68, 88, 90, 100]\n",
    "\n",
    "students = pd.DataFrame([Reading, Math, Science, Art],  \n",
    "                        index = Name,\n",
    "                        columns = [\"Reading\", \"Math\", \"Science\", \"Art\"])\n",
    "students\n",
    "\n"
   ]
  },
  {
   "cell_type": "markdown",
   "metadata": {},
   "source": [
    "In `pd.DataFrame`, what does index and columns do?"
   ]
  },
  {
   "cell_type": "markdown",
   "metadata": {},
   "source": [
    "## Challenge 5: XML\n",
    "\n",
    ".csv files are nice when we know the structure of the data (rows and columns) that we can quickly perform operations on. However, we are limited to this format, which can be difficult to incorporate into nested, hierarchical data structures. \n",
    "\n",
    "[Extensible Markup Language (.xml)](https://www.sitepoint.com/really-good-introduction-xml/) is good for representing data that have a hierarchical structure. Large, web-based datasets might be stored this way, and we can use their human readable format to select tags that we want to extract for analysis. However, these data are larger than .csv files because of the opening and closing \"tags\". \n",
    "\n",
    "There are a few libraries in Python that will parse XML for you, but we'll stick to the standard `xml` library in this course. Let's start out with a simple example. Suppose we want to store the metadata for the books in our library in an XML file. It might look something like this:"
   ]
  },
  {
   "cell_type": "code",
   "execution_count": 22,
   "metadata": {},
   "outputs": [
    {
     "data": {
      "text/plain": [
       "'/Users/ahyeoncho/Desktop/DIGHUM101-2025/Week 3'"
      ]
     },
     "execution_count": 22,
     "metadata": {},
     "output_type": "execute_result"
    }
   ],
   "source": [
    "%pwd"
   ]
  },
  {
   "cell_type": "code",
   "execution_count": 23,
   "metadata": {},
   "outputs": [],
   "source": [
    "import os\n",
    "os.chdir(\"../Data\")"
   ]
  },
  {
   "cell_type": "code",
   "execution_count": 24,
   "metadata": {},
   "outputs": [
    {
     "data": {
      "text/plain": [
       "'/Users/ahyeoncho/Desktop/DIGHUM101-2025/Data'"
      ]
     },
     "execution_count": 24,
     "metadata": {},
     "output_type": "execute_result"
    }
   ],
   "source": [
    "os.getcwd()"
   ]
  },
  {
   "cell_type": "code",
   "execution_count": 25,
   "metadata": {},
   "outputs": [
    {
     "name": "stdout",
     "output_type": "stream",
     "text": [
      "\u001b[30m\u001b[47m2014wesp_country_classification.pdf\u001b[m\u001b[m  \u001b[30m\u001b[47mexample.xml\u001b[m\u001b[m\n",
      "\u001b[34mGeo\u001b[m\u001b[m/                                 \u001b[30m\u001b[47mfeminism.json\u001b[m\u001b[m\n",
      "\u001b[30m\u001b[47mObama_tweets.csv\u001b[m\u001b[m                     \u001b[30m\u001b[47mfeminism.xml\u001b[m\u001b[m\n",
      "\u001b[34mUSA\u001b[m\u001b[m/                                 \u001b[30m\u001b[47mfrankenstein.txt\u001b[m\u001b[m\n",
      "\u001b[30m\u001b[47mUSA_adm.zip\u001b[m\u001b[m                          \u001b[30m\u001b[47mgapminder-FiveYearData.csv\u001b[m\u001b[m\n",
      "\u001b[30m\u001b[47mbaldwin_search.csv\u001b[m\u001b[m                   \u001b[30m\u001b[47mgapminder.csv\u001b[m\u001b[m\n",
      "\u001b[30m\u001b[47mbillnye tweets.csv\u001b[m\u001b[m                   gapminder.tsv\n",
      "\u001b[30m\u001b[47mblm reddit.csv\u001b[m\u001b[m                       \u001b[30m\u001b[47mgapminder_gni.csv\u001b[m\u001b[m\n",
      "\u001b[30m\u001b[47mbooks_search.csv\u001b[m\u001b[m                     \u001b[34mhuman-rights\u001b[m\u001b[m/\n",
      "\u001b[30m\u001b[47mchildrens_lit.csv\u001b[m\u001b[m                    \u001b[30m\u001b[47mhuman_rights.csv\u001b[m\u001b[m\n",
      "\u001b[34mchis_data\u001b[m\u001b[m/                           \u001b[30m\u001b[47miris.csv\u001b[m\u001b[m\n",
      "\u001b[30m\u001b[47mcitations.csv\u001b[m\u001b[m                        \u001b[34mmontagu\u001b[m\u001b[m/\n",
      "\u001b[30m\u001b[47mcompound_figure.pdf\u001b[m\u001b[m                  \u001b[30m\u001b[47mmusic_reviews.csv\u001b[m\u001b[m\n",
      "\u001b[30m\u001b[47mcorrespondence-data-1585.csv\u001b[m\u001b[m         \u001b[30m\u001b[47mpuppies_search.csv\u001b[m\u001b[m\n",
      "\u001b[30m\u001b[47mcovid_search.csv\u001b[m\u001b[m                     \u001b[30m\u001b[47mr_conspiracy.csv\u001b[m\u001b[m\n",
      "\u001b[30m\u001b[47mdracula.txt\u001b[m\u001b[m                          \u001b[30m\u001b[47mus_racism_search.csv\u001b[m\u001b[m\n",
      "\u001b[30m\u001b[47mexample.json\u001b[m\u001b[m\n"
     ]
    }
   ],
   "source": [
    "%ls"
   ]
  },
  {
   "cell_type": "code",
   "execution_count": 26,
   "metadata": {},
   "outputs": [
    {
     "name": "stdout",
     "output_type": "stream",
     "text": [
      "<my-library>\n",
      "    <book>\n",
      "        <title>The Lion, the Witch and the Wardrobe</title>\n",
      "        <author>C. S. Lewis</author>\n",
      "        <date>1950</date>\n",
      "        <publisher>Geoffrey Bles</publisher>\n",
      "    </book>\n",
      "    <book>\n",
      "        <title>The Hobbit</title>\n",
      "        <author>J. R. R. Tolkien</author>\n",
      "        <date>1937</date>\n",
      "        <publisher>George Allen and Unwin</publisher>\n",
      "    </book>\n",
      "    <book>\n",
      "        <title>To Kill A Mockingbird</title>\n",
      "        <author>Harper Lee</author>\n",
      "        <date>1960</date>\n",
      "        <publisher>J. B. Lippincott and Co.</publisher>\n",
      "    </book>\n",
      "</my-library>"
     ]
    }
   ],
   "source": [
    "!cat example.xml"
   ]
  },
  {
   "cell_type": "markdown",
   "metadata": {},
   "source": [
    "To parse this in Python, we'll need to import the `xml` library and then build the tree. From the `tree` object, we can get the root of the tree, and then traverse the tree like we would our filesystem paths."
   ]
  },
  {
   "cell_type": "code",
   "execution_count": 27,
   "metadata": {},
   "outputs": [
    {
     "name": "stdout",
     "output_type": "stream",
     "text": [
      "b'<my-library>\\n    <book>\\n        <title>The Lion, the Witch and the Wardrobe</title>\\n        <author>C. S. Lewis</author>\\n        <date>1950</date>\\n        <publisher>Geoffrey Bles</publisher>\\n    </book>\\n    <book>\\n        <title>The Hobbit</title>\\n        <author>J. R. R. Tolkien</author>\\n        <date>1937</date>\\n        <publisher>George Allen and Unwin</publisher>\\n    </book>\\n    <book>\\n        <title>To Kill A Mockingbird</title>\\n        <author>Harper Lee</author>\\n        <date>1960</date>\\n        <publisher>J. B. Lippincott and Co.</publisher>\\n    </book>\\n</my-library>'\n"
     ]
    }
   ],
   "source": [
    "import xml.etree.ElementTree as ET # loads functions from `xml` library under the name `ET`\n",
    "\n",
    "tree = ET.parse(\"example.xml\")\n",
    "root = tree.getroot()\n",
    "print(ET.tostring(root))"
   ]
  },
  {
   "cell_type": "markdown",
   "metadata": {},
   "source": [
    "This is how it would look if we typed it out:"
   ]
  },
  {
   "cell_type": "code",
   "execution_count": null,
   "metadata": {},
   "outputs": [],
   "source": [
    "xml_string = '''\n",
    "<my-library>\n",
    "    <book>\n",
    "        <title>The Lion, the Witch and the Wardrobe</title>\n",
    "        <author>C. S. Lewis</author>\n",
    "        <date>1950</date>\n",
    "        <publisher>Geoffrey Bles</publisher>\n",
    "    </book>\n",
    "    <book>\n",
    "        <title>The Hobbit</title>\n",
    "        <author>J. R. R. Tolkien</author>\n",
    "        <date>1937</date>\n",
    "        <publisher>George Allen and Unwin</publisher>\n",
    "    </book>\n",
    "    <book>\n",
    "        <title>To Kill A Mockingbird</title>\n",
    "        <author>Harper Lee</author>\n",
    "        <date>1960</date>\n",
    "        <publisher>J. B. Lippincott and Co.</publisher>\n",
    "    </book>\n",
    "</my-library>\n",
    "'''"
   ]
  },
  {
   "cell_type": "code",
   "execution_count": 29,
   "metadata": {},
   "outputs": [
    {
     "name": "stdout",
     "output_type": "stream",
     "text": [
      "b'<my-library>\\n    <book>\\n        <title>The Lion, the Witch and the Wardrobe</title>\\n        <author>C. S. Lewis</author>\\n        <date>1950</date>\\n        <publisher>Geoffrey Bles</publisher>\\n    </book>\\n    <book>\\n        <title>The Hobbit</title>\\n        <author>J. R. R. Tolkien</author>\\n        <date>1937</date>\\n        <publisher>George Allen and Unwin</publisher>\\n    </book>\\n    <book>\\n        <title>To Kill A Mockingbird</title>\\n        <author>Harper Lee</author>\\n        <date>1960</date>\\n        <publisher>J. B. Lippincott and Co.</publisher>\\n    </book>\\n</my-library>'\n"
     ]
    }
   ],
   "source": [
    "root = ET.fromstring(xml_string)\n",
    "print(ET.tostring(root))"
   ]
  },
  {
   "cell_type": "markdown",
   "metadata": {},
   "source": [
    "We can get the direct children of the root with the `getchildren()` method:"
   ]
  },
  {
   "cell_type": "code",
   "execution_count": 30,
   "metadata": {},
   "outputs": [
    {
     "ename": "AttributeError",
     "evalue": "'xml.etree.ElementTree.Element' object has no attribute 'getchildren'",
     "output_type": "error",
     "traceback": [
      "\u001b[31m---------------------------------------------------------------------------\u001b[39m",
      "\u001b[31mAttributeError\u001b[39m                            Traceback (most recent call last)",
      "\u001b[36mCell\u001b[39m\u001b[36m \u001b[39m\u001b[32mIn[30]\u001b[39m\u001b[32m, line 1\u001b[39m\n\u001b[32m----> \u001b[39m\u001b[32m1\u001b[39m \u001b[43mroot\u001b[49m\u001b[43m.\u001b[49m\u001b[43mgetchildren\u001b[49m()\n",
      "\u001b[31mAttributeError\u001b[39m: 'xml.etree.ElementTree.Element' object has no attribute 'getchildren'"
     ]
    }
   ],
   "source": [
    "root.getchildren()"
   ]
  },
  {
   "cell_type": "markdown",
   "metadata": {},
   "source": [
    "`getchildren()` will always yield the elements subordinate to the parent element in a hierarchy. If we look at the XML string above, we can get the children of a `book` elements as well:"
   ]
  },
  {
   "cell_type": "code",
   "execution_count": null,
   "metadata": {},
   "outputs": [],
   "source": [
    "first_book = root.getchildren()[0]\n",
    "first_book.getchildren()"
   ]
  },
  {
   "cell_type": "markdown",
   "metadata": {},
   "source": [
    "We can also use the `find` to quickly find an element. We'll use a for-loop to print the author for each book, which we get with the `find` method for each of the elements in the children above, and we get the text with the `text` property:"
   ]
  },
  {
   "cell_type": "code",
   "execution_count": null,
   "metadata": {},
   "outputs": [],
   "source": [
    "\n",
    "for book in root:\n",
    "    print(book.find('author').text)"
   ]
  },
  {
   "cell_type": "markdown",
   "metadata": {},
   "source": [
    "Remember that in XML you can have elements which are usually between the two `< >` signs and can be found using the `find` or `getchildren` methods. To get the actual information, or text, from that element you can use the `.text` property."
   ]
  },
  {
   "cell_type": "markdown",
   "metadata": {},
   "source": [
    "## Challenge 6: XML Wikipedia data\n",
    "\n",
    "Let's work with a real-world dataset. We're going to work with the revision history of a Wikipedia page. You can get this through Wikipedia's [API](https://www.mediawiki.org/wiki/API:Revisions) or [download](https://en.wikipedia.org/wiki/Wikipedia:Database_download) data directly. We'll look at the API more in a later module, so we've downloaded a page of revisions and saved it to the XML file in `../data/WIKIPEDIA/feminism.xml`"
   ]
  },
  {
   "cell_type": "code",
   "execution_count": 31,
   "metadata": {},
   "outputs": [
    {
     "name": "stdout",
     "output_type": "stream",
     "text": [
      "<?xml version=\"1.0\" ?>\n",
      "<api>\n",
      "\t<continue continue=\"||\" rvcontinue=\"20141129143034|635898159\"/>\n",
      "\t<query>\n",
      "\t\t<pages>\n",
      "\t\t\t<page _idx=\"11185\" ns=\"0\" pageid=\"11185\" title=\"Feminism\">\n",
      "\t\t\t\t<revisions>\n",
      "\t\t\t\t\t<rev comment=\"Undid revision 788682640 by [[Special:Contributions/N0n3up|N0n3up]] ([[User talk:N0n3up|talk]]) sigh\" parsedcomment=\"Undid revision 788682640 by &lt;a href=&quot;/wiki/Special:Contributions/N0n3up&quot; title=&quot;Special:Contributions/N0n3up&quot;&gt;N0n3up&lt;/a&gt; (&lt;a href=&quot;/wiki/User_talk:N0n3up&quot; title=&quot;User talk:N0n3up&quot;&gt;talk&lt;/a&gt;) sigh\" size=\"138368\" timestamp=\"2017-07-02T21:35:12Z\" user=\"N0n3up\">\n",
      "\t\t\t\t\t\t<tags/>\n",
      "\t\t\t\t\t</rev>\n"
     ]
    }
   ],
   "source": [
    "!head feminism.xml"
   ]
  },
  {
   "cell_type": "markdown",
   "metadata": {},
   "source": [
    "We can start off by parsing it like we did above with our books:"
   ]
  },
  {
   "cell_type": "code",
   "execution_count": 32,
   "metadata": {},
   "outputs": [],
   "source": [
    "import xml.etree.ElementTree as ET\n",
    "tree = ET.parse(\"feminism.xml\")\n",
    "root = tree.getroot()"
   ]
  },
  {
   "cell_type": "markdown",
   "metadata": {},
   "source": [
    "At this point, you can either look in the XML in a text editor, or start the process of looking through the tree manually to find the actual metadata of each revision. You'll have to do this when we work with JSON in a later challange, so don't be afraid if none of this makes sense at this point!"
   ]
  },
  {
   "cell_type": "code",
   "execution_count": 33,
   "metadata": {},
   "outputs": [
    {
     "ename": "AttributeError",
     "evalue": "'xml.etree.ElementTree.Element' object has no attribute 'getchildren'",
     "output_type": "error",
     "traceback": [
      "\u001b[31m---------------------------------------------------------------------------\u001b[39m",
      "\u001b[31mAttributeError\u001b[39m                            Traceback (most recent call last)",
      "\u001b[36mCell\u001b[39m\u001b[36m \u001b[39m\u001b[32mIn[33]\u001b[39m\u001b[32m, line 1\u001b[39m\n\u001b[32m----> \u001b[39m\u001b[32m1\u001b[39m \u001b[43mroot\u001b[49m\u001b[43m.\u001b[49m\u001b[43mgetchildren\u001b[49m()\n",
      "\u001b[31mAttributeError\u001b[39m: 'xml.etree.ElementTree.Element' object has no attribute 'getchildren'"
     ]
    }
   ],
   "source": [
    "root.getchildren()"
   ]
  },
  {
   "cell_type": "code",
   "execution_count": null,
   "metadata": {},
   "outputs": [],
   "source": [
    "root.find('query').getchildren()"
   ]
  },
  {
   "cell_type": "code",
   "execution_count": null,
   "metadata": {},
   "outputs": [],
   "source": [
    "root.find('query/pages').getchildren()"
   ]
  },
  {
   "cell_type": "code",
   "execution_count": null,
   "metadata": {},
   "outputs": [],
   "source": [
    "root.find('query/pages/page').getchildren()"
   ]
  },
  {
   "cell_type": "code",
   "execution_count": null,
   "metadata": {},
   "outputs": [],
   "source": [
    "root.find('query/pages/page/revisions').getchildren()"
   ]
  },
  {
   "cell_type": "markdown",
   "metadata": {},
   "source": [
    "Found it! Those are the revision items we want. Let's assign that list to a variable:"
   ]
  },
  {
   "cell_type": "code",
   "execution_count": null,
   "metadata": {},
   "outputs": [],
   "source": [
    "revisions = root.find('query/pages/page/revisions')"
   ]
  },
  {
   "cell_type": "markdown",
   "metadata": {},
   "source": [
    "Now we can loop through and ask for some of the specific metadata about each revision, the `timestamp` for example:"
   ]
  },
  {
   "cell_type": "code",
   "execution_count": null,
   "metadata": {},
   "outputs": [],
   "source": [
    "for rev in revisions.getchildren():\n",
    "    print(rev.get('timestamp'))"
   ]
  },
  {
   "cell_type": "markdown",
   "metadata": {},
   "source": [
    "## Challenge 7: JSON\n",
    "\n",
    "As a Pythonista, after dealing with XML you'll be happy to see [JSON](https://en.wikipedia.org/wiki/JSON). JavaScript Object Notation (JSON) is preferred because it looks exactly like a Python `dictionary`. The `json` library takes care of the few differences between the two so that we don't have to ourselves. Let's take a look at the same data about the books in our library from the XML notebook in JSON format:"
   ]
  },
  {
   "cell_type": "code",
   "execution_count": 34,
   "metadata": {},
   "outputs": [
    {
     "name": "stdout",
     "output_type": "stream",
     "text": [
      "{\"my_library\": [{\"title\": \"The Lion, the Witch and the Wardrobe\",\n",
      "                 \"author\": \"C. S. Lewis\",\n",
      "                 \"date\": \"1950\",\n",
      "                 \"publisher\": \"Geoffrey Bles\"},\n",
      "                {\"title\": \"The Hobbit\",\n",
      "                 \"author\": \"J. R. R. Tolkien\",\n",
      "                 \"date\": \"1937\",\n",
      "                 \"publisher\": \"George Allen and Unwin\"},\n",
      "                {\"title\": \"To Kill A Mockingbird\",\n",
      "                 \"author\": \"Harper Lee\",\n",
      "                 \"date\": \"1960\",\n",
      "                 \"publisher\": \"J. B. Lippincott and Co.\"}\n",
      "            ]\n",
      "}\n"
     ]
    }
   ],
   "source": [
    "!cat example.json"
   ]
  },
  {
   "cell_type": "markdown",
   "metadata": {},
   "source": [
    "Looks much nicer than XML and its many tags! In Python, it looks like a `dictionary` with a key of `my_library` and a value of a `list` of `dictionary` objects. Each of these `dictionary` objects in the list contains the metadata. We can use the `json` library to make it exactly that!"
   ]
  },
  {
   "cell_type": "code",
   "execution_count": 35,
   "metadata": {},
   "outputs": [
    {
     "data": {
      "text/plain": [
       "{'my_library': [{'title': 'The Lion, the Witch and the Wardrobe',\n",
       "   'author': 'C. S. Lewis',\n",
       "   'date': '1950',\n",
       "   'publisher': 'Geoffrey Bles'},\n",
       "  {'title': 'The Hobbit',\n",
       "   'author': 'J. R. R. Tolkien',\n",
       "   'date': '1937',\n",
       "   'publisher': 'George Allen and Unwin'},\n",
       "  {'title': 'To Kill A Mockingbird',\n",
       "   'author': 'Harper Lee',\n",
       "   'date': '1960',\n",
       "   'publisher': 'J. B. Lippincott and Co.'}]}"
      ]
     },
     "execution_count": 35,
     "metadata": {},
     "output_type": "execute_result"
    }
   ],
   "source": [
    "import json\n",
    "\n",
    "my_library = json.load(open(\"example.json\"))\n",
    "my_library"
   ]
  },
  {
   "cell_type": "code",
   "execution_count": 25,
   "metadata": {},
   "outputs": [
    {
     "name": "stdout",
     "output_type": "stream",
     "text": [
      "<class 'dict'>\n"
     ]
    }
   ],
   "source": [
    "print(type(my_library))"
   ]
  },
  {
   "cell_type": "markdown",
   "metadata": {},
   "source": [
    "Index `my_library` to return only the year \"The Hobbit\" was published."
   ]
  },
  {
   "cell_type": "code",
   "execution_count": 26,
   "metadata": {
    "scrolled": true
   },
   "outputs": [
    {
     "data": {
      "text/plain": [
       "'1937'"
      ]
     },
     "execution_count": 26,
     "metadata": {},
     "output_type": "execute_result"
    }
   ],
   "source": [
    "my_library[\"my_library\"][1][\"date\"]\n",
    "\n"
   ]
  },
  {
   "cell_type": "markdown",
   "metadata": {},
   "source": [
    "You will visualize some XML and JSON data next week!"
   ]
  },
  {
   "cell_type": "markdown",
   "metadata": {},
   "source": [
    "## Challenge 8: JSON Wikipedia Data\n",
    "\n",
    "Let's go back to that revision history data. Wikipedia actually prefers that you get the data in JSON format, so we've downloaded some more data for you in JSON, it's located at `../data/WIKIPEDIA/feminism.json`:"
   ]
  },
  {
   "cell_type": "code",
   "execution_count": 36,
   "metadata": {
    "scrolled": true
   },
   "outputs": [
    {
     "data": {
      "text/plain": [
       "{'user': 'N0n3up',\n",
       " 'timestamp': '2017-07-02T21:35:12Z',\n",
       " 'size': 138368,\n",
       " 'comment': 'Undid revision 788682640 by [[Special:Contributions/N0n3up|N0n3up]] ([[User talk:N0n3up|talk]]) sigh',\n",
       " 'parsedcomment': 'Undid revision 788682640 by <a href=\"/wiki/Special:Contributions/N0n3up\" title=\"Special:Contributions/N0n3up\">N0n3up</a> (<a href=\"/wiki/User_talk:N0n3up\" title=\"User talk:N0n3up\">talk</a>) sigh',\n",
       " 'tags': []}"
      ]
     },
     "execution_count": 36,
     "metadata": {},
     "output_type": "execute_result"
    }
   ],
   "source": [
    "feminism_json = json.load(open(\"feminism.json\"))\n",
    "feminism_json[0]"
   ]
  },
  {
   "cell_type": "code",
   "execution_count": 37,
   "metadata": {},
   "outputs": [
    {
     "data": {
      "text/plain": [
       "dict_keys(['user', 'timestamp', 'size', 'comment', 'parsedcomment', 'tags'])"
      ]
     },
     "execution_count": 37,
     "metadata": {},
     "output_type": "execute_result"
    }
   ],
   "source": [
    "feminism_json[0].keys()"
   ]
  },
  {
   "cell_type": "code",
   "execution_count": 38,
   "metadata": {},
   "outputs": [
    {
     "data": {
      "text/plain": [
       "'2017-07-02T21:35:12Z'"
      ]
     },
     "execution_count": 38,
     "metadata": {},
     "output_type": "execute_result"
    }
   ],
   "source": [
    "feminism_json[0]['timestamp']"
   ]
  },
  {
   "cell_type": "code",
   "execution_count": null,
   "metadata": {},
   "outputs": [],
   "source": []
  }
 ],
 "metadata": {
  "kernelspec": {
   "display_name": "dighum101",
   "language": "python",
   "name": "python3"
  },
  "language_info": {
   "codemirror_mode": {
    "name": "ipython",
    "version": 3
   },
   "file_extension": ".py",
   "mimetype": "text/x-python",
   "name": "python",
   "nbconvert_exporter": "python",
   "pygments_lexer": "ipython3",
   "version": "3.12.10"
  }
 },
 "nbformat": 4,
 "nbformat_minor": 2
}
