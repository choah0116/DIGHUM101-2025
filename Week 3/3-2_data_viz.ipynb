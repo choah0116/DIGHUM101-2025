{
 "cells": [
  {
   "cell_type": "markdown",
   "metadata": {},
   "source": [
    "<center><b>DIGHUM101</b></center>\n",
    "<center>3-2: Data Visualization</center>\n",
    "\n",
    "---"
   ]
  },
  {
   "cell_type": "markdown",
   "metadata": {},
   "source": [
    "# Fast review\n",
    "\n",
    "1. What are some key components of text preprocessing? \n",
    "2. Why is text preprocessing important?"
   ]
  },
  {
   "cell_type": "markdown",
   "metadata": {},
   "source": [
    "# Learning objectives\n",
    "\n",
    "1. Learn some theory and best practices of data visualization.\n",
    "2. Make a matplotlib histogram, barplot, boxplot, and scatterplot.\n",
    "3. Optionally, begin to read Claus O. Wilke's [Fundamentals of Data Visualization](https://serialmentor.com/dataviz/)"
   ]
  },
  {
   "cell_type": "code",
   "execution_count": null,
   "metadata": {},
   "outputs": [],
   "source": [
    "import pandas as pd\n",
    "\n",
    "# Import matplotlib (https://en.wikipedia.org/wiki/Matplotlib)\n",
    "import matplotlib\n",
    "\n",
    "# (https://www.quora.com/What-is-the-difference-between-Python-modules-packages-libraries-and-frameworks)\n",
    "# Import matplotlib.pyplot and assign it to an alias `plt`\n",
    "import matplotlib.pyplot as plt\n",
    "\n",
    "# Import seaborn as assign to an alias `sns`\n",
    "import seaborn as sns"
   ]
  },
  {
   "cell_type": "markdown",
   "metadata": {},
   "source": [
    "💡 **Tip**: `pyplot` is a collection of command style functions that make matplotlib work like MATLAB and save many lines of repeated code. By convention, `pyplot` is aliased to `plt`, which we just did in the above import cell. "
   ]
  },
  {
   "cell_type": "code",
   "execution_count": null,
   "metadata": {},
   "outputs": [],
   "source": [
    "# You can also change the default style of matplotlib plots\n",
    "\n",
    "# Indicate the template to use for the plot (not required)\n",
    "plt.style.use('seaborn-v0_8-bright')"
   ]
  },
  {
   "cell_type": "code",
   "execution_count": null,
   "metadata": {},
   "outputs": [],
   "source": [
    "# Run plt.style.available to experiment with different styles\n",
    "plt.style.available"
   ]
  },
  {
   "cell_type": "markdown",
   "metadata": {},
   "source": [
    "## When to use each package\n",
    "\n",
    "`matplotlib`:\n",
    "- Versatile (basic and complex plots)\n",
    "- Foundation of using other packages\n",
    "- Lengthy syntax\n",
    "- Ideal for customization\n",
    "- Not ideal for presentation and publication\n",
    "\n",
    "`pandas`:\n",
    "- Plot basic plots\n",
    "- Handy to use for Exploratory Data Analysis (EDA)\n",
    "- Well connected with `pandas`\n",
    "- Not ideal for custimization\n",
    "\n",
    "`seaborn`:\n",
    "- Easier for complex plots \n",
    "- Shorter syntax\n",
    "- Require knowledge of reading documentation\n",
    "- Well connected with `pandas`\n",
    "- Ideal for customization and presentation"
   ]
  },
  {
   "cell_type": "markdown",
   "metadata": {},
   "source": [
    "## What is Data Visualization?\n",
    "\n",
    "Data visualization is an art and a science of transforming data into meaningful visual stories, where your choices in design—from labels to color—can reveal insights or obscure them.\n",
    "\n",
    "As with any art or science, it begins with understanding foundational principles and learning from examples that illustrate what is possible, what is effective, and how our choices shape what we see and understand.\n",
    "\n",
    "We can look at some examples in [Python Graph Gallery](https://python-graph-gallery.com/) and in [Seaborn's Example Gallery](https://seaborn.pydata.org/examples/index.html)"
   ]
  },
  {
   "cell_type": "markdown",
   "metadata": {},
   "source": [
    "<a id='section1'></a>\n",
    "\n",
    "# Principles of Data Visualization\n",
    "\n",
    "Visualization is meant to convey information.\n",
    "\n",
    "> The power of a graph is its ability to enable one to take in the quantitative information, organize it, and see patterns and structure not readily revealed by other means of studying the data.\n",
    "\n",
    "\\- Cleveland and McGill, 1984\n",
    "\n",
    "That said, to accurately and efficiently communicate the information hidden within the data, we should also be aware of the common pitfalls of data visualization.\n",
    "\n",
    "It's always good to sit back and ask ourseleves:\n",
    "- Does the plot include sufficient text descriptions (e.g. labels, legend, and title)?\n",
    "- Does the plot has an approriate size and scale?\n",
    "- Does the plot contain too much or too little data?\n",
    "- Does the plot include a common scale for group comparison?\n",
    "- And does the chosen color contrast accurately convey the differences?\n",
    "\n",
    "The answers to these questions vary depending on the data we have and the message we want to convey through the plot.\n",
    "\n",
    "Throughout the class meeting, we will discuss the decisions we need to make when encountering such questions, as well as the solutions to address them."
   ]
  },
  {
   "cell_type": "markdown",
   "metadata": {},
   "source": [
    "# Theory of Data Visualization\n",
    "\n",
    "Certain techniques make that information easier to interpret and understand. In their 1984 paper titled, \"[Graphical Perception: Theory, Experimentation, and Application to the Development of Graphical Methods](https://www-jstor-org.libproxy.berkeley.edu/stable/2288400?seq=1#page_scan_tab_contents),\" Cleveland and McGill identify 10 elementary perceptual tasks that are used to \"extract quantitative information from graphs.\" Their premise is:\n",
    "\n",
    "> A graphical form that involves elementary perceptual tasks that lead to more accurate judgments than another graphical form (with the same quantitative information) will result in better organization and increase the chances of a correct perception of patterns and behavior.\n",
    "\n",
    "Whereas graph design had, up to that point, been \"largely unscientific,\" Cleveland and McGill took a systematic approach in analyzing human graphical perception through experimentation. Their researched helped identify the most and least accurate elementary perceptual tasks, ordered below:\n",
    "\n",
    "1. Position along a common scale\n",
    "2. Position along non-aligned scales\n",
    "3. Length, direction, angle\n",
    "4. Area\n",
    "5. Volume, curvature\n",
    "6. Shading, color saturation\n",
    "\n",
    "In 2010, [Heer and Bostock](http://vis.stanford.edu/files/2010-MTurk-CHI.pdf) confirmed these results using Amazon's Mechanical Turk.\n",
    "\n",
    "Let's take a look at a few examples. Because we're only interested in relative sizes, we don't include a legend with size information or reference points."
   ]
  },
  {
   "cell_type": "markdown",
   "metadata": {},
   "source": [
    "![circles](../img/circles.png)"
   ]
  },
  {
   "cell_type": "markdown",
   "metadata": {},
   "source": [
    "For circles of distinctly different sizes, the comparison is simple. For example, \"A\" is smaller than \"B.\" However, for circles, such as \"L\" and \"M,\" that are almost the same size, it's difficult to tell which is smaller. Area, according to Cleveland and McGill's research, is less accurate than, say, length, which we consider next."
   ]
  },
  {
   "cell_type": "markdown",
   "metadata": {},
   "source": [
    "![circles](../img/bars.png)"
   ]
  },
  {
   "cell_type": "markdown",
   "metadata": {},
   "source": [
    "Focusing on \"L\" and \"M,\" it is clear to see which is larger. You might be wondering whether scale makes a difference&mdash;that is, if the small circle sizes make it difficult to compare&mdash;it doesn't.\n",
    "\n",
    "Next, we consider a case where we want to plot two series. For this example, let's suppose we're working with student English and Math test scores. Here, we'll want to use bars, which we arbitrarily label Z-L. The question is, which bars should we use? This is a case where the answer depends on what we're trying to communicate. If we're interested in showing total scores, we could use a stacked bar chart."
   ]
  },
  {
   "cell_type": "markdown",
   "metadata": {},
   "source": [
    "![circles](../img/two-series-0.png)"
   ]
  },
  {
   "cell_type": "markdown",
   "metadata": {},
   "source": [
    "We can tell that \"Y\" and \"L\" had the highest cumulative scores. What if we want to know which students scored highest on the math exam? Because the math portions of each bar are stacked on top of the English scored (they are on \"non-aligned scales,\" as Cleveland and McGill call it), it's difficult to tell. One solution is to plot these on opposite sides of the x-axis."
   ]
  },
  {
   "cell_type": "markdown",
   "metadata": {},
   "source": [
    "![circles](../img/two-series-1.png)"
   ]
  },
  {
   "cell_type": "markdown",
   "metadata": {},
   "source": [
    "Now, it's easier to see that \"R\" scored quite well on the math exam. The tradeoff with this layout is that it's difficult to compare cumulative scores. Comparing \"Z\" and \"O,\" for example, is a challenge. Again, it depends on what the message is.\n",
    "\n",
    "These findings are a *guide* for what works when the goal is to make accurate judgments. Sometimes, however, the goal might not be to allow for precise comparisons but, rather, to facilitate the perception of larger patterns."
   ]
  },
  {
   "cell_type": "markdown",
   "metadata": {},
   "source": [
    "## Form and Function\n",
    "\n",
    "> A good graphic realizes two basic goals: It **presents** information, and it allows users to **explore** that information.\n",
    "\n",
    "\\- Alberto Cairo\n",
    "\n",
    "> A data visualization should only be beautiful when beauty can promote understanding in some way without undermining it in another. Is beauty sometimes useful? Certainly. Is beauty always useful? Certainly not.\n",
    "\n",
    "\\- Stephen Few\n",
    "\n",
    "> Good displays of data help to reveal knowledge relevant to understanding mechanism, process and dynamics, cause and effect.\n",
    "\n",
    "\\- Edward Tufte\n",
    "\n",
    "A figure is ineffective if it \"wastes too much real estate (and the designer's time) on things that don't help readers understand [it].\" - Alberto Cairo\n",
    "\n",
    "> The important criterion for a graph is not simply how fast we can see a result; rather it is whether through the use of the graph we can see something that would have been harder to see otherwise or that could not have been seen at all.\n",
    "\n",
    "\\- William Cleveland\n",
    "\n",
    "> [A]lways take advantage of the space you have available to seek depth within reasonable limits. After that, *and only after that*, worry about how to make the presentation prettier.\n",
    "\n",
    "\\- Alberto Cairo\n",
    "\n",
    "Ultimately, identify your audience and their needs and interests. The same data should be visualized differently for a scientific publication versus a magazine."
   ]
  },
  {
   "cell_type": "markdown",
   "metadata": {},
   "source": [
    "## Dataset\n",
    "\n",
    "Remember we looked at this dataset last week? \n",
    "\n",
    "We've decided to use the so-called Gapminder dataset, which was compiled by Jennifer Bryan. This dataset contains several key demographic and economic statistics for many countries, across many years. For more information, see the [gapminder](https://github.com/jennybc/gapminder) repository."
   ]
  },
  {
   "cell_type": "code",
   "execution_count": null,
   "metadata": {},
   "outputs": [],
   "source": [
    "# Load the gapminder dataset\n",
    "# Notice we did not set our working directory first - what did we do instead?\n",
    "gap = pd.read_csv(\"../Data/gapminder-FiveYearData.csv\")"
   ]
  },
  {
   "cell_type": "code",
   "execution_count": null,
   "metadata": {},
   "outputs": [],
   "source": [
    "print(gap.shape)\n",
    "gap.head()"
   ]
  },
  {
   "cell_type": "code",
   "execution_count": null,
   "metadata": {
    "scrolled": true
   },
   "outputs": [],
   "source": [
    "gap.dtypes"
   ]
  },
  {
   "cell_type": "markdown",
   "metadata": {},
   "source": [
    "Note that the \"int64\" and \"float64\" data types refer to the amount of memory taken up by each variable. The size of these data types in Pandas matters only if you are using very large datasets."
   ]
  },
  {
   "cell_type": "markdown",
   "metadata": {},
   "source": [
    "# Histogram\n",
    "\n",
    "Histograms plot a discretized distribution of a one-dimensional dataset across all the values it has taken. They visualize how many of the data points are in each of $b$ bins, each of which has a pre-defined range.\n",
    "\n",
    "Use a histogram when you would like to visualize the distribution of a single float or integer variable. "
   ]
  },
  {
   "cell_type": "code",
   "execution_count": null,
   "metadata": {
    "scrolled": true
   },
   "outputs": [],
   "source": [
    "# Note the semicolon, which tells Jupyter not to print additional output about the plot\n",
    "gap.hist();"
   ]
  },
  {
   "cell_type": "code",
   "execution_count": null,
   "metadata": {},
   "outputs": [],
   "source": [
    "# This is the additional information btw\n",
    "gap.hist()"
   ]
  },
  {
   "cell_type": "markdown",
   "metadata": {},
   "source": [
    "### We can also adjust the figure size."
   ]
  },
  {
   "cell_type": "code",
   "execution_count": null,
   "metadata": {},
   "outputs": [],
   "source": [
    "gap.hist(figsize = (15, 5)); # width, height"
   ]
  },
  {
   "cell_type": "markdown",
   "metadata": {},
   "source": [
    "### Change the number of bins\n",
    "\n",
    "Bins are like intervals in which to break up the distribution of data. Say we want a \"higher resolution\" than the plots above:"
   ]
  },
  {
   "cell_type": "code",
   "execution_count": null,
   "metadata": {
    "scrolled": true
   },
   "outputs": [],
   "source": [
    "gap.hist(bins = 25, figsize = (15, 5), color = \"green\");"
   ]
  },
  {
   "cell_type": "markdown",
   "metadata": {},
   "source": [
    "### Plot a single variable"
   ]
  },
  {
   "cell_type": "code",
   "execution_count": null,
   "metadata": {},
   "outputs": [],
   "source": [
    "gap.hist(column = \"lifeExp\", figsize = (8, 4), color = \"black\");"
   ]
  },
  {
   "cell_type": "markdown",
   "metadata": {},
   "source": [
    "We can use these visualizations as a starting point for further analysis. For instance, we see that a few country/year combinations have a very low life expectancy. Let's have a closer look using `sort_values()`:"
   ]
  },
  {
   "cell_type": "code",
   "execution_count": null,
   "metadata": {},
   "outputs": [],
   "source": [
    "gap.sort_values(by='lifeExp', ascending=True)"
   ]
  },
  {
   "cell_type": "markdown",
   "metadata": {},
   "source": [
    "💡 **Tip**: We are now jumping ahead a little and using a bar plot. We could have created a histogram from this data, but it is not the right choice for what we would like to show here. Histograms are typically used for continuous data to show the distribution of a variable, whereas our example is about showing the top 10 countries with the lowest life expectancy, which is a discrete data set."
   ]
  },
  {
   "cell_type": "code",
   "execution_count": null,
   "metadata": {},
   "outputs": [],
   "source": [
    "# Let's plot the top 10 countries with the lowest life expectancy\n",
    "\n",
    "top_10_lowest = gap.sort_values(by='lifeExp', ascending=True).head(10)\n",
    "\n",
    "# Plot a horizontal bar chart for the top 10 lowest life expectancies\n",
    "plt.figure(figsize=(10, 6))\n",
    "plt.barh(top_10_lowest['country'], top_10_lowest['lifeExp'], color='skyblue')\n",
    "plt.xlabel('Life Expectancy')\n",
    "plt.ylabel('Country')\n",
    "plt.title('Top 10 Countries with the Lowest Life Expectancy')\n",
    "plt.show()"
   ]
  },
  {
   "cell_type": "markdown",
   "metadata": {},
   "source": [
    "### Let's find the issues with the previous example.\n",
    "\n",
    "Hint 1: How many data points are in our plot? How many did we expect?\n",
    "\n",
    "Hint 2: What is the difference in data points between the data frame and the plot?\n"
   ]
  },
  {
   "cell_type": "markdown",
   "metadata": {},
   "source": [
    "### Countries are repeated in this dataset! \n",
    "\n",
    "Remember last week, when we talked about this data, we saw that the statistics are reported 12 times, as in for 12 different years, for each country?\n",
    "\n",
    "A more meaningful way to compare the population statistics across different countries would be to do it by year."
   ]
  },
  {
   "cell_type": "code",
   "execution_count": null,
   "metadata": {},
   "outputs": [],
   "source": [
    "# Let's subset our data to only include the latest year\n",
    "latest_year = gap['year'].max()\n",
    "latest_year"
   ]
  },
  {
   "cell_type": "code",
   "execution_count": null,
   "metadata": {},
   "outputs": [],
   "source": [
    "gap_2007 = gap[gap['year'] == latest_year]\n",
    "gap_2007.head(10)"
   ]
  },
  {
   "cell_type": "code",
   "execution_count": null,
   "metadata": {},
   "outputs": [],
   "source": [
    "# Let's double check that we did the subsetting correctly\n",
    "\n",
    "print('Number of unique countries in the entire dataset:', gap['country'].nunique())\n",
    "print('Number of rows in the 2007 subset:', gap_2007.shape[0])"
   ]
  },
  {
   "cell_type": "code",
   "execution_count": null,
   "metadata": {},
   "outputs": [],
   "source": [
    "# Now we can plot the life expectancy for each country in 2007, in ascending order\n",
    "top_10_lowest_2007 = gap_2007.sort_values(by='lifeExp', ascending=True).head(10)\n",
    "\n",
    "# Plot a horizontal bar chart for life expectancy in 2007\n",
    "plt.figure(figsize=(15, 8))\n",
    "plt.barh(top_10_lowest_2007['country'], top_10_lowest_2007['lifeExp'], color='lightgreen')\n",
    "plt.xlabel('Life Expectancy')\n",
    "plt.ylabel('Country')\n",
    "plt.title('Life Expectancy by Country in 2007')\n",
    "plt.show()"
   ]
  },
  {
   "cell_type": "markdown",
   "metadata": {},
   "source": [
    "### Let's see one more histogram example\n",
    "\n",
    "We will now plot the GDP for each country in 2007. The GDP data is a perfect starting point for us to try out histograms as we'll be able to visualize the distribution of GDP across countries.\n",
    "\n",
    "Also, this time we will focus on the differences between the three libraries we can use for histograms: matplotlib, pandas, seaborn"
   ]
  },
  {
   "cell_type": "markdown",
   "metadata": {},
   "source": [
    "### matplotlib\n",
    "\n",
    "Syntax: call the **library** (`plt`), followed by the **plot type**: (`.hist()`): `plt.hist()`\n",
    "\n",
    "Let's take a look at the [documentation](https://matplotlib.org/stable/api/_as_gen/matplotlib.pyplot.hist.html) for `plt.hist()` together. The input value that the function takes should be an array, so we pass in the `gdpPercap` column to the function. As a generic plotting method, the function `plt.hist()` itself is not specific to the data we are plotting, so we need to pass in the data we want to plot."
   ]
  },
  {
   "cell_type": "code",
   "execution_count": null,
   "metadata": {},
   "outputs": [],
   "source": [
    "# default bin size: 10\n",
    "plt.hist(gap_2007['gdpPercap']);"
   ]
  },
  {
   "cell_type": "markdown",
   "metadata": {},
   "source": [
    "Each line in the histogram represents a bin. The height of the line corresponds to the number of items (countries in this case) within the range of values covered by the bin. In the previous plots, we used the default number of bins (10). Now, let's increase the number of bins by specifying the `bins=30` parameter."
   ]
  },
  {
   "cell_type": "code",
   "execution_count": null,
   "metadata": {},
   "outputs": [],
   "source": [
    "plt.hist(gap_2007['gdpPercap'], bins=30);"
   ]
  },
  {
   "cell_type": "markdown",
   "metadata": {},
   "source": [
    "This histogram tells us that many of the countries had a low GDP, which was less than 5,000. There is also a second \"bump\" in the histogram around 30,000. This type of distribution is known as **bi-modal**, since there are two modes, or common values.\n",
    "\n",
    "To make this histogram more interpretable let's add a title and labels for the x and y axes. We'll pass strings to `plt.title()`, `plt.xlabel()`, and `plt.ylabel()` to do so."
   ]
  },
  {
   "cell_type": "code",
   "execution_count": null,
   "metadata": {},
   "outputs": [],
   "source": [
    "plt.hist(gap_2007['gdpPercap'], bins=30)\n",
    "\n",
    "plt.title('Distribution of Global Per-Capita GDP in 2007')\n",
    "plt.xlabel('Per-Capita GDP (International Dollars)')\n",
    "plt.ylabel('# of Countries');"
   ]
  },
  {
   "cell_type": "markdown",
   "metadata": {},
   "source": [
    "### pandas\n",
    "\n",
    "Syntax: call the **dataframe** (`gap_2007`), followed by the plot type (`.hist()`): `gap_2007.hist()`\n",
    "\n",
    "Let's take a look at [documentation](https://pandas.pydata.org/docs/reference/api/pandas.DataFrame.hist.html) of `pd.hist()`. The required input value is a column of a dataframe. We no longer need to select the column using square brackets; instead, we simply pass the name of the column to the column parameter. This highlights how `pandas` differs from `matplotlib`. The function `pd.hist()` is not intended to be a generic plotting method; rather, it is specific to the dataframe where the data comes from. "
   ]
  },
  {
   "cell_type": "code",
   "execution_count": null,
   "metadata": {},
   "outputs": [],
   "source": [
    "gap_2007.hist(column='gdpPercap');"
   ]
  },
  {
   "cell_type": "markdown",
   "metadata": {},
   "source": [
    "We can remove the grid by specifying `grid=False`; to make the plot complete, let's add the title and labels. "
   ]
  },
  {
   "cell_type": "code",
   "execution_count": null,
   "metadata": {},
   "outputs": [],
   "source": [
    "gap_2007.hist(column='gdpPercap', bins=30, grid=False)\n",
    "\n",
    "plt.title('Distribution of Global Per-Capita GDP in 2007')\n",
    "plt.xlabel('Per-Capita GDP (International Dollars)')\n",
    "plt.ylabel('# of Countries');"
   ]
  },
  {
   "cell_type": "markdown",
   "metadata": {},
   "source": [
    "### seaborn\n",
    "\n",
    "Syntax: call the **library** (`sns`), followed by the plot type (`.histplot()`): `sns.histplot()`\n",
    "\n",
    "Let's check out the [documentation](https://seaborn.pydata.org/generated/seaborn.histplot.html) of `sns.histplot()`. A `seaborn` plotting function typically requires two things: the dataframe and the specific subset of the data we want to plot. In this case, we pass `gap_2007` to the `data` parameter to indicate that the GDP data we want to plot comes from the `gap_2007` dataframe. We then specify `x='gdpPercap'` to indicate that the column we want to plot is `gdpPercap`. Now you can see that `sns.histplot()` is still a generic plotting function, but it integrates well with `pandas`.\n",
    "\n",
    "### On a more general note:\n",
    "\n",
    "Seaborn is a a library built on top of matplotlib and integrates closely with pandas data structures. It has three basic level graphing methods: `relplot()`, `distplot()` and `catplot()`, which each has a number of submethods which are basically shorthands for the main methods.\n",
    "\n",
    "<img src=\"https://seaborn.pydata.org/_images/function_overview_8_0.png\">\n",
    "\n",
    "You can see some code examples with seaborn in this excerpt from [Python Data Science Handbook](https://jakevdp.github.io/PythonDataScienceHandbook/04.14-visualization-with-seaborn.html)"
   ]
  },
  {
   "cell_type": "code",
   "execution_count": null,
   "metadata": {},
   "outputs": [],
   "source": [
    "sns.histplot(data=gap_2007, x='gdpPercap');"
   ]
  },
  {
   "cell_type": "code",
   "execution_count": null,
   "metadata": {},
   "outputs": [],
   "source": [
    "sns.histplot(data=gap_2007, x='gdpPercap', bins=30)\n",
    "\n",
    "plt.title('Distribution of Global Per-Capita GDP in 2007')\n",
    "plt.xlabel('Per-Capita GDP (International Dollars)')\n",
    "plt.ylabel('# of Countries');"
   ]
  },
  {
   "cell_type": "markdown",
   "metadata": {},
   "source": [
    "Now we have known the basic syntax of each plotting library. What's your favourite one? \n",
    "\n",
    "In this course, we will mainly use `seaborn` to visualize all kinds of plots. Importantly, it should be noted that `seaborn` is built on top of `matplotlib`; behind the scene, `seaborn` uses matplotlib to draw plots but it provides users a high-level interface that is easier to learn and interact.  "
   ]
  },
  {
   "cell_type": "markdown",
   "metadata": {},
   "source": [
    "## Kernal Density Plot"
   ]
  },
  {
   "cell_type": "markdown",
   "metadata": {},
   "source": [
    "Histograms represent the distribution with discrete bins. A similar method is called Kernel Density Plot (KDE), which visualizes the distribution with a continuous probability density curve. KDE can be plotted independently; quite frequently, it is overlaid with histograms. In Seaborn, achieving this is straightforward by enabling the `kde` parameter and simply setting it to `True`.\n",
    "\n",
    "KDE smooths out the rough edges of the histogram by using a kernel function (often Gaussian) to estimate the probability density.\n",
    "\n",
    "KDE is useful for understanding the overall distribution of data, especially when you want to see the general shape of the distribution without the sharp edges that histograms can have due to binning."
   ]
  },
  {
   "cell_type": "code",
   "execution_count": null,
   "metadata": {},
   "outputs": [],
   "source": [
    "sns.histplot(data=gap_2007, \n",
    "             x='gdpPercap', \n",
    "             bins=30, \n",
    "             kde=True) # this ass a kernel density estimate (KDE) line\n",
    "\n",
    "plt.title('Distribution of Global Per-Capita GDP in 2007')\n",
    "plt.xlabel('Per-Capita GDP (International Dollars)')\n",
    "plt.ylabel('# of Countries');"
   ]
  },
  {
   "cell_type": "markdown",
   "metadata": {},
   "source": [
    "# Bar Plot\n",
    "\n",
    "You can use a bar plot when you want to illustrate differences in frequencies of some category. Let's look at the 12 most frequent words in \"jordan2013.txt\""
   ]
  },
  {
   "cell_type": "code",
   "execution_count": null,
   "metadata": {},
   "outputs": [],
   "source": [
    "jordan = open(\"../Data/human-rights/jordan2013.txt\", \n",
    "              encoding = \"utf-8\").read()\n",
    "print(len(jordan.split()))\n",
    "print(jordan[0:500])"
   ]
  },
  {
   "cell_type": "code",
   "execution_count": null,
   "metadata": {},
   "outputs": [],
   "source": [
    "from collections import Counter"
   ]
  },
  {
   "cell_type": "code",
   "execution_count": null,
   "metadata": {},
   "outputs": [],
   "source": [
    "# Tokenize jordan.txt into single words\n",
    "jordan_tokens = jordan.split()\n",
    "print(jordan_tokens[0:25])"
   ]
  },
  {
   "cell_type": "code",
   "execution_count": null,
   "metadata": {},
   "outputs": [],
   "source": [
    "# Count the 12 most common words\n",
    "jordan_freq = Counter(jordan_tokens)\n",
    "jordan_barplot = jordan_freq.most_common(12)\n",
    "jordan_barplot"
   ]
  },
  {
   "cell_type": "code",
   "execution_count": null,
   "metadata": {},
   "outputs": [],
   "source": [
    "# Convert to data frame\n",
    "jordan_df = pd.DataFrame(data = jordan_barplot, \n",
    "                         columns = [\"Word\", \"Frequency\"])\n",
    "jordan_df"
   ]
  },
  {
   "cell_type": "code",
   "execution_count": null,
   "metadata": {
    "scrolled": true
   },
   "outputs": [],
   "source": [
    "# Plot it! Tip: check TAB while scrolling over \"barh\" to see other chart types you could use.\n",
    "jordan_df.plot.bar(x = \"Word\", y = \"Frequency\", figsize = (6,4));\n",
    "\n",
    "# another way of doing this: using attributes\n",
    "# jordan_df.plot(kind=\"bar\", x = \"Word\", y = \"Frequency\", figsize = (6,4));"
   ]
  },
  {
   "cell_type": "code",
   "execution_count": null,
   "metadata": {},
   "outputs": [],
   "source": [
    "# Change x and y axis labels; add title; change to horizontal bar chart; invert y-axis\n",
    "jordan_df.plot.barh(x = \"Word\", y = \"Frequency\", figsize = (5,3)).invert_yaxis()\n",
    "plt.xlabel(\"Word\")\n",
    "plt.ylabel(\"Frequency\")\n",
    "plt.title(\"Bar plot of most common words in Jordan 2013\");"
   ]
  },
  {
   "cell_type": "markdown",
   "metadata": {},
   "source": [
    "### What does this plot tell us really? \n",
    "\n",
    "Hint: Think of what you learnt about this text that is upwards of 11k words by only looking at this plot"
   ]
  },
  {
   "cell_type": "markdown",
   "metadata": {},
   "source": [
    "### You guessed it right, the issue was stopwords\n",
    "\n",
    "Let's clean this up a bit and plot it again"
   ]
  },
  {
   "cell_type": "code",
   "execution_count": null,
   "metadata": {},
   "outputs": [],
   "source": [
    "# Let's start with lowercasing everything\n",
    "jordan_lower = jordan.lower()\n"
   ]
  },
  {
   "cell_type": "code",
   "execution_count": null,
   "metadata": {},
   "outputs": [],
   "source": [
    "# Remove punctuation and stopwords\n",
    "from string import punctuation\n",
    "\n",
    "import nltk\n",
    "nltk.download(\"stopwords\")\n",
    "from nltk.corpus import stopwords\n",
    "stop_words = set(stopwords.words(\"english\"))"
   ]
  },
  {
   "cell_type": "code",
   "execution_count": null,
   "metadata": {},
   "outputs": [],
   "source": [
    "for char in punctuation:\n",
    "    jordan_lower = jordan_lower.replace(char, \"\")"
   ]
  },
  {
   "cell_type": "code",
   "execution_count": null,
   "metadata": {},
   "outputs": [],
   "source": [
    "# Let's see what this did\n",
    "print(jordan[0:500])"
   ]
  },
  {
   "cell_type": "code",
   "execution_count": null,
   "metadata": {},
   "outputs": [],
   "source": [
    "print(jordan_lower[0:500])"
   ]
  },
  {
   "cell_type": "code",
   "execution_count": null,
   "metadata": {},
   "outputs": [],
   "source": [
    "# Let's tokenize again and remove stopwords\n",
    "jordan_tokens_cleaned = [word for word in jordan_lower.split() if word not in stop_words]\n",
    "print(jordan_tokens_cleaned[0:25])\n"
   ]
  },
  {
   "cell_type": "markdown",
   "metadata": {},
   "source": [
    "### List Comprehension\n",
    "\n",
    "What we did above was list comprehension. For some coding tasks, there are many ways to solve the same problem. They all offer different advantages and sometimes disadvantages.\n",
    "\n",
    "We could have repeated the code above to create a list of token first and then removed stopwords while counting them to create a df of word frequencies. \n",
    "\n",
    "Instead we created a list and cleaned the stopwords while creating it.\n",
    "\n",
    "Even here, we could have done a for loop instead of list comprehension. They are equivalent in this case. Let's take a closer look:\n",
    "\n",
    "```python\n",
    "jordan_tokens_cleaned = [word for word in jordan_lower.split() if word not in stop_words]\n",
    "```\n",
    "\n",
    "VS\n",
    "\n",
    "\n",
    "```python\n",
    "jordan_tokens_cleaned = []\n",
    "jordan_lower_tokens = jordan_lower.split()\n",
    "for token in jordan_lower_tokens:\n",
    "    if token not in stop_words:\n",
    "        jordan_tokens_cleaned.append(token)\n",
    "```\n",
    "\n"
   ]
  },
  {
   "cell_type": "code",
   "execution_count": null,
   "metadata": {},
   "outputs": [],
   "source": [
    "# Let's count the most common 12 words again\n",
    "jordan_freq_cleaned = Counter(jordan_tokens_cleaned)\n",
    "jordan_barplot_cleaned = jordan_freq_cleaned.most_common(12)\n",
    "jordan_barplot_cleaned"
   ]
  },
  {
   "cell_type": "code",
   "execution_count": null,
   "metadata": {},
   "outputs": [],
   "source": [
    "# Convert to data frame\n",
    "jordan_df_cleaned = pd.DataFrame(data = jordan_barplot_cleaned, \n",
    "                         columns = [\"Word\", \"Frequency\"])\n",
    "jordan_df_cleaned"
   ]
  },
  {
   "cell_type": "code",
   "execution_count": null,
   "metadata": {},
   "outputs": [],
   "source": [
    "# Let's plot the 12 most common words again\n",
    "jordan_df_cleaned.plot.barh(x = \"Word\", y = \"Frequency\", figsize = (5,3)).invert_yaxis()\n",
    "plt.xlabel(\"Word\")\n",
    "plt.ylabel(\"Frequency\")\n",
    "plt.title(\"Bar plot of most common words in Jordan 2013\");"
   ]
  },
  {
   "cell_type": "markdown",
   "metadata": {},
   "source": [
    "### Doesn't this give us a better understanding of the contents of this document?\n",
    "\n",
    "Some other directions we could have taken include lemmatization to make sure 'recommendations' and 'recommendation' count as the same. We could have also removed jordan and related words like jordanian because we know that this document is about jordan"
   ]
  },
  {
   "cell_type": "markdown",
   "metadata": {},
   "source": [
    "# Box plot\n",
    "\n",
    "A boxplot - also called a box and whisker plot — displays the distribution of numerical data and skewness through displaying the data quartiles (or percentiles) and averages. This includes the minimum, first quartile, median, third quartile, and maximum.\n",
    "\n",
    "In a box plot, we draw a box from the [first quartile to the third quartile](https://www.khanacademy.org/math/statistics-probability/summarizing-quantitative-data/box-whisker-plots/a/box-plot-review). A vertical line goes through the box at the median. The whiskers go from each quartile to the minimum or maximum.\n",
    "\n",
    "Use boxplots when you want to illustrate variation in a single float or integer, and to identify outliers."
   ]
  },
  {
   "cell_type": "code",
   "execution_count": null,
   "metadata": {
    "scrolled": true
   },
   "outputs": [],
   "source": [
    "# For the entire dataset...\n",
    "gap.boxplot(column=[\"lifeExp\"]);"
   ]
  },
  {
   "cell_type": "markdown",
   "metadata": {},
   "source": [
    "The led line above is the median value in the data; the bottom and top of the box are the first and third quartiles.\n",
    "\n",
    "Let's make boxplots of life expectancy **_by_** continent in the gapminder dataset."
   ]
  },
  {
   "cell_type": "code",
   "execution_count": null,
   "metadata": {
    "scrolled": true
   },
   "outputs": [],
   "source": [
    "# For each continent\n",
    "gap.boxplot(column=[\"lifeExp\"], \n",
    "            by = \"continent\", \n",
    "            figsize = (5, 4)\n",
    "           )\n",
    "\n",
    "plt.title(\"\");"
   ]
  },
  {
   "cell_type": "markdown",
   "metadata": {},
   "source": [
    "Note the circles, which refer to outliers in the data."
   ]
  },
  {
   "cell_type": "markdown",
   "metadata": {},
   "source": [
    "# Scatterplot\n",
    "\n",
    "Scatterplots are useful to show the relationships between two float/integer variables. Make a scatterplot with life expectancy on the x-axis and GDP per capita on the y-axis from the gapminder dataset."
   ]
  },
  {
   "cell_type": "code",
   "execution_count": null,
   "metadata": {},
   "outputs": [],
   "source": [
    "# Note the attribute-style syntax for calling the particular columns!\n",
    "gap.plot.scatter(x = \"lifeExp\", \n",
    "                 y = \"gdpPercap\", \n",
    "                 figsize = (4, 3));\n",
    "plt.xlabel(\"Life Expectancy\")\n",
    "plt.ylabel(\"GDP per Capita\")\n",
    "plt.title(\"GDP vs Life Expectancy\");"
   ]
  },
  {
   "cell_type": "code",
   "execution_count": null,
   "metadata": {},
   "outputs": [],
   "source": [
    "# We could have done this with seaborn as well\n",
    "scatterplot = sns.scatterplot(data = gap, \n",
    "                               x = \"lifeExp\", \n",
    "                               y = \"gdpPercap\", \n",
    "                               marker = \".\")"
   ]
  },
  {
   "cell_type": "code",
   "execution_count": null,
   "metadata": {},
   "outputs": [],
   "source": [
    "# An even more advanced option is to use seaborn's FacetGrid\n",
    "# (https://seaborn.pydata.org/generated/seaborn.FacetGrid.html)\n",
    "# This allows us to create a grid of plots based on a categorical variable\n",
    "# In this case, we will create a grid of scatter plots for each continent\n",
    "\n",
    "scatterplot_facet = sns.FacetGrid(gap, col = \"continent\", \n",
    "                                  col_wrap = 3, height = 4, sharex = False)\n",
    "scatterplot_facet.map(plt.scatter, \"lifeExp\", \"gdpPercap\", marker = \".\");"
   ]
  },
  {
   "cell_type": "markdown",
   "metadata": {},
   "source": [
    "# Exporting Figures\n",
    "\n",
    "You will want to export some figures to include in your presentations and other work. Add the `plt.savefig();` call as your last line of code! Remember: this will save to your working directory."
   ]
  },
  {
   "cell_type": "code",
   "execution_count": null,
   "metadata": {},
   "outputs": [],
   "source": [
    "jordan_df_cleaned.plot.bar(x = \"Word\", y = \"Frequency\", figsize = (8,4))\n",
    "plt.xlabel(\"Word (including stop words)\")\n",
    "plt.ylabel(\"Frequency\")\n",
    "plt.title(\"Bar plot of most common words in Jordan 2013\")\n",
    "plt.savefig(\"barplot_example.jpg\", dpi = 100);"
   ]
  }
 ],
 "metadata": {
  "kernelspec": {
   "display_name": "dighum101",
   "language": "python",
   "name": "python3"
  },
  "language_info": {
   "codemirror_mode": {
    "name": "ipython",
    "version": 3
   },
   "file_extension": ".py",
   "mimetype": "text/x-python",
   "name": "python",
   "nbconvert_exporter": "python",
   "pygments_lexer": "ipython3",
   "version": "3.12.10"
  }
 },
 "nbformat": 4,
 "nbformat_minor": 4
}
