{
 "cells": [
  {
   "cell_type": "markdown",
   "metadata": {},
   "source": [
    "<center><b>DIGHUM101</b></center>\n",
    "<center>3-4: NumPy</center>\n",
    "\n",
    "---"
   ]
  },
  {
   "cell_type": "markdown",
   "metadata": {},
   "source": [
    "Adapted from Stanford CS 124 NumPy tutorial\n",
    "\n",
    "Based on the `CS 124: Jupyter and Python Tutorial` created by \n",
    "`Krishna Patel (Winter 2020)`, and updated by `Bryan Kim (Winter 2021)` and \n",
    "`Dilara Soylu (Winter 2022)`.\n",
    "\n",
    "Some examples based on the \n",
    "[CS 231n Python Numpy Tutorial (with Jupyter and Colab)](https://cs231n.github.io/python-numpy-tutorial/) by Justin Johnson. "
   ]
  },
  {
   "cell_type": "markdown",
   "metadata": {},
   "source": [
    "<a id='overview'></a>\n",
    "## Overview\n",
    "\n",
    "In this tutorial, we will walk you through some `NumPy` examples.\n",
    "`NumPy` is a very popular `Python` library used for matrix operations and linear\n",
    "algebra.\n",
    "The purpose of this notebook is to give a basic introduction to `NumPy` for \n",
    "students who haven't used it before, and an easy review for those who have.\n",
    "Learning `NumPy` is well worth the effort, as you will be using it constantly if\n",
    "you choose to take further ML/AI courses."
   ]
  },
  {
   "cell_type": "markdown",
   "metadata": {},
   "source": [
    "<a id='contents'></a>\n",
    "## Contents\n",
    "\n",
    "1. [`NumPy` Exercises](#regular_expressions_exercises)\n",
    "   * [Part 1. Basic `NumPy`](#basic_numpy)\n",
    "   * [Part 2. Indexing and Slicing](#indexing_and_slicing)\n",
    "   * [Part 3. Array Math and Functions](#array_math_and_functions)\n",
    "   * [Part 4. Vectorization](#vectorization)\n",
    "   * [Part 5. Broadcasting](#broadcasting)\n",
    "2. [Next Steps](#next_steps)"
   ]
  },
  {
   "cell_type": "markdown",
   "metadata": {},
   "source": [
    "<a id='numpy_exercises'></a>\n",
    "## `NumPy` Exercises"
   ]
  },
  {
   "cell_type": "markdown",
   "metadata": {},
   "source": [
    "<a id='basic_numpy'></a>\n",
    "\n",
    "### Part 1. Basic `NumPy`"
   ]
  },
  {
   "cell_type": "code",
   "execution_count": 1,
   "metadata": {
    "pycharm": {
     "name": "#%%\n"
    }
   },
   "outputs": [],
   "source": [
    "# Let's import numpy (aliasing the import as np is traditional)\n",
    "import numpy as np"
   ]
  },
  {
   "cell_type": "markdown",
   "metadata": {
    "pycharm": {
     "name": "#%% md\n"
    }
   },
   "source": [
    "The basic building blocks of `NumPy` are arrays, which are represented with the\n",
    "`np.ndarray` type.\n",
    "Arrays represent multi-dimensional matrices (often also referred to as tensors).\n",
    "\n",
    "We can easily create a 1-D array (a vector) by calling `np.array()` and passing\n",
    "in a `Python` list with the data that should go into the array.\n",
    "\n",
    "**A 1-D array is often referred to as a *vector*.**\n",
    "**Meanwhile, a 2-D array is a *matrix*, and a 3-D array (or higher) is frequently called a *tensor*.**"
   ]
  },
  {
   "cell_type": "code",
   "execution_count": 2,
   "metadata": {
    "pycharm": {
     "name": "#%%\n"
    }
   },
   "outputs": [
    {
     "name": "stdout",
     "output_type": "stream",
     "text": [
      "a is an: <class 'numpy.ndarray'>\n"
     ]
    },
    {
     "data": {
      "text/plain": [
       "array([1, 2, 3, 4, 5])"
      ]
     },
     "execution_count": 2,
     "metadata": {},
     "output_type": "execute_result"
    }
   ],
   "source": [
    "# This is an array (of type np.ndarray)\n",
    "a = np.array([1, 2, 3, 4, 5])\n",
    "\n",
    "print(\"a is an: {}\".format(type(a)))\n",
    "a"
   ]
  },
  {
   "cell_type": "markdown",
   "metadata": {},
   "source": [
    "A 1-D array has one dimension with shape (n,), so it often looks like a single row. In practice, though, a 1-D array is simply a vector; it doesn’t strictly have rows or columns until it gains extra dimensions."
   ]
  },
  {
   "cell_type": "markdown",
   "metadata": {
    "pycharm": {
     "name": "#%% md\n"
    }
   },
   "source": [
    "Arrays can have different numbers of dimensions, different shapes, and contain\n",
    "elements of different types.\n",
    "Very frequently you'll want to check these properties (especially shape), \n",
    "which you can do like this:"
   ]
  },
  {
   "cell_type": "code",
   "execution_count": 3,
   "metadata": {
    "pycharm": {
     "name": "#%%\n"
    }
   },
   "outputs": [
    {
     "name": "stdout",
     "output_type": "stream",
     "text": [
      "Data type of a: int64\n",
      "Shape of a: (5,)\n"
     ]
    }
   ],
   "source": [
    "# a is an array containing integers (in this case, 64-bit integers)\n",
    "print(\"Data type of a: {}\".format(a.dtype))\n",
    "\n",
    "# a is a 1-dimensional array of length 5\n",
    "print(\"Shape of a: {}\".format(a.shape))"
   ]
  },
  {
   "cell_type": "code",
   "execution_count": 4,
   "metadata": {
    "pycharm": {
     "name": "#%%\n"
    }
   },
   "outputs": [
    {
     "name": "stdout",
     "output_type": "stream",
     "text": [
      "Data type of b: float64\n",
      "Shape of b: (2,)\n"
     ]
    },
    {
     "data": {
      "text/plain": [
       "array([5., 1.])"
      ]
     },
     "execution_count": 4,
     "metadata": {},
     "output_type": "execute_result"
    }
   ],
   "source": [
    "# Note that b contains floating point numbers, not integers\n",
    "b = np.array([5.0, 1.0])\n",
    "\n",
    "print(\"Data type of b: {}\".format(b.dtype))\n",
    "print(\"Shape of b: {}\".format(b.shape))\n",
    "b"
   ]
  },
  {
   "cell_type": "markdown",
   "metadata": {
    "pycharm": {
     "name": "#%% md\n"
    }
   },
   "source": [
    "As we noted above, you can initialize a 1-D array with a python list.\n",
    "However, most of the time we're interested in higher-dimensional arrays like \n",
    "2-D arrays (matrices).\n",
    "You can initialize them using nested `Python` lists:"
   ]
  },
  {
   "cell_type": "code",
   "execution_count": 5,
   "metadata": {
    "pycharm": {
     "name": "#%%\n"
    }
   },
   "outputs": [
    {
     "name": "stdout",
     "output_type": "stream",
     "text": [
      "Shape of c: (3, 2)\n"
     ]
    },
    {
     "data": {
      "text/plain": [
       "array([[1, 2],\n",
       "       [3, 4],\n",
       "       [5, 6]])"
      ]
     },
     "execution_count": 5,
     "metadata": {},
     "output_type": "execute_result"
    }
   ],
   "source": [
    "# A 2-D array\n",
    "c = np.array([[1, 2],\n",
    "              [3, 4],\n",
    "              [5, 6]])\n",
    "\n",
    "print(\"Shape of c: {}\".format(c.shape))\n",
    "c"
   ]
  },
  {
   "cell_type": "markdown",
   "metadata": {
    "pycharm": {
     "name": "#%% md\n"
    }
   },
   "source": [
    "Note that the length of the __outer__ list is the first dimension (in this\n",
    "case of length 3), while the lengths of the __inner__ lists are the second\n",
    "dimension (in this case of length 2).\n",
    "\n",
    "It's easy to get your dimensions/shapes mixed up if you get the order confused.\n",
    "Just remember that the number of (horizontal) rows is always the first\n",
    "dimension, and the number of (vertical) columns is the second dimension."
   ]
  },
  {
   "cell_type": "markdown",
   "metadata": {
    "pycharm": {
     "name": "#%% md\n"
    }
   },
   "source": [
    "In addition to the basic `np.array`, `NumPy` provides a bunch of other convenient\n",
    "methods to create different types of arrays/matrices (to save you from\n",
    "typing out the data by hand, or having to use loops or `Python` list\n",
    "comprehensions). \n",
    "Some useful ones include:"
   ]
  },
  {
   "cell_type": "code",
   "execution_count": 6,
   "metadata": {
    "pycharm": {
     "name": "#%%\n"
    }
   },
   "outputs": [
    {
     "data": {
      "text/plain": [
       "array([[0., 0., 0., 0.],\n",
       "       [0., 0., 0., 0.],\n",
       "       [0., 0., 0., 0.]])"
      ]
     },
     "execution_count": 6,
     "metadata": {},
     "output_type": "execute_result"
    }
   ],
   "source": [
    "# To create an all-zero array with the given shape (3, 4)\n",
    "zeros = np.zeros((3, 4))\n",
    "zeros"
   ]
  },
  {
   "cell_type": "code",
   "execution_count": 7,
   "metadata": {
    "pycharm": {
     "name": "#%%\n"
    }
   },
   "outputs": [
    {
     "data": {
      "text/plain": [
       "array([[1., 1.],\n",
       "       [1., 1.]])"
      ]
     },
     "execution_count": 7,
     "metadata": {},
     "output_type": "execute_result"
    }
   ],
   "source": [
    "# To create an all-ones array\n",
    "ones = np.ones((2, 2))\n",
    "ones"
   ]
  },
  {
   "cell_type": "code",
   "execution_count": 9,
   "metadata": {
    "pycharm": {
     "name": "#%%\n"
    }
   },
   "outputs": [
    {
     "data": {
      "text/plain": [
       "array([[1., 1.],\n",
       "       [1., 1.]])"
      ]
     },
     "execution_count": 9,
     "metadata": {},
     "output_type": "execute_result"
    }
   ],
   "source": [
    "# To create an uninitialized array (junk values). This is useful if you know\n",
    "# you're going to manually fill/overwrite the entire array anyways (it saves\n",
    "# the time NumPy would have spent to set every entry to a particular value)\n",
    "# NOTE: Do NOT confuse this with np.zeros(). \"empty\" does not mean all zeroes,\n",
    "# it just means we don't care what is in it. It could be all zeros, it could\n",
    "# be all ones, it could be anything at all.\n",
    "empty = np.empty((2, 2))\n",
    "empty"
   ]
  },
  {
   "cell_type": "code",
   "execution_count": 10,
   "metadata": {
    "pycharm": {
     "name": "#%%\n"
    }
   },
   "outputs": [
    {
     "data": {
      "text/plain": [
       "array([[5, 5, 5],\n",
       "       [5, 5, 5],\n",
       "       [5, 5, 5]])"
      ]
     },
     "execution_count": 10,
     "metadata": {},
     "output_type": "execute_result"
    }
   ],
   "source": [
    "# To create an array filled with a single value\n",
    "filled = np.full((3, 3), 5)\n",
    "filled"
   ]
  },
  {
   "cell_type": "code",
   "execution_count": 11,
   "metadata": {
    "pycharm": {
     "name": "#%%\n"
    }
   },
   "outputs": [
    {
     "data": {
      "text/plain": [
       "array([[1., 0., 0.],\n",
       "       [0., 1., 0.],\n",
       "       [0., 0., 1.]])"
      ]
     },
     "execution_count": 11,
     "metadata": {},
     "output_type": "execute_result"
    }
   ],
   "source": [
    "# To create an identity matrix\n",
    "identity = np.identity(3)\n",
    "identity"
   ]
  },
  {
   "cell_type": "code",
   "execution_count": 13,
   "metadata": {
    "pycharm": {
     "name": "#%%\n"
    }
   },
   "outputs": [
    {
     "data": {
      "text/plain": [
       "array([[0.51414433, 0.39914552],\n",
       "       [0.69190239, 0.35594345]])"
      ]
     },
     "execution_count": 13,
     "metadata": {},
     "output_type": "execute_result"
    }
   ],
   "source": [
    "# To create an array filled with random values sampled uniformly\n",
    "# from [0.0, 1.0) -> ) here means that the random values can go up to but not include 1.0\n",
    "random = np.random.random((2, 2))\n",
    "random"
   ]
  },
  {
   "cell_type": "markdown",
   "metadata": {
    "pycharm": {
     "name": "#%% md\n"
    }
   },
   "source": [
    "Finally, once we have an array that we've initialized with data, we can also\n",
    "reshape it without changing its data using np.reshape!\n",
    "\n",
    "Check out this example:"
   ]
  },
  {
   "cell_type": "code",
   "execution_count": 14,
   "metadata": {
    "pycharm": {
     "name": "#%%\n"
    }
   },
   "outputs": [
    {
     "name": "stdout",
     "output_type": "stream",
     "text": [
      "a.shape = (2, 3)\n"
     ]
    },
    {
     "data": {
      "text/plain": [
       "array([[1, 2, 3],\n",
       "       [4, 5, 6]])"
      ]
     },
     "execution_count": 14,
     "metadata": {},
     "output_type": "execute_result"
    }
   ],
   "source": [
    "a = np.array([[1, 2, 3],\n",
    "              [4, 5, 6]])\n",
    "print(\"a.shape = {}\".format(a.shape))\n",
    "a"
   ]
  },
  {
   "cell_type": "code",
   "execution_count": 15,
   "metadata": {
    "pycharm": {
     "name": "#%%\n"
    }
   },
   "outputs": [
    {
     "name": "stdout",
     "output_type": "stream",
     "text": [
      "a_reshaped.shape = (3, 2)\n"
     ]
    },
    {
     "data": {
      "text/plain": [
       "array([[1, 2],\n",
       "       [3, 4],\n",
       "       [5, 6]])"
      ]
     },
     "execution_count": 15,
     "metadata": {},
     "output_type": "execute_result"
    }
   ],
   "source": [
    "a_reshaped = a.reshape((3, 2))\n",
    "print(\"a_reshaped.shape = {}\".format(a_reshaped.shape))\n",
    "a_reshaped"
   ]
  },
  {
   "cell_type": "code",
   "execution_count": 16,
   "metadata": {
    "pycharm": {
     "name": "#%%\n"
    }
   },
   "outputs": [
    {
     "name": "stdout",
     "output_type": "stream",
     "text": [
      "a_reshaped.shape = (6,)\n"
     ]
    },
    {
     "data": {
      "text/plain": [
       "array([1, 2, 3, 4, 5, 6])"
      ]
     },
     "execution_count": 16,
     "metadata": {},
     "output_type": "execute_result"
    }
   ],
   "source": [
    "a_reshaped = a.reshape((6,))\n",
    "print(\"a_reshaped.shape = {}\".format(a_reshaped.shape))\n",
    "a_reshaped"
   ]
  },
  {
   "cell_type": "code",
   "execution_count": 19,
   "metadata": {},
   "outputs": [
    {
     "name": "stdout",
     "output_type": "stream",
     "text": [
      "a_reshaped.shape = (2, 3)\n"
     ]
    },
    {
     "data": {
      "text/plain": [
       "array([[1, 2, 3],\n",
       "       [4, 5, 6]])"
      ]
     },
     "execution_count": 19,
     "metadata": {},
     "output_type": "execute_result"
    }
   ],
   "source": [
    "a_2d = a_reshaped.reshape((2, 3))\n",
    "print(\"a_reshaped.shape = {}\".format(a_2d.shape))\n",
    "a_2d"
   ]
  },
  {
   "cell_type": "code",
   "execution_count": 17,
   "metadata": {
    "pycharm": {
     "name": "#%%\n"
    }
   },
   "outputs": [
    {
     "ename": "ValueError",
     "evalue": "cannot reshape array of size 6 into shape (7,)",
     "output_type": "error",
     "traceback": [
      "\u001b[31m---------------------------------------------------------------------------\u001b[39m",
      "\u001b[31mValueError\u001b[39m                                Traceback (most recent call last)",
      "\u001b[36mCell\u001b[39m\u001b[36m \u001b[39m\u001b[32mIn[17]\u001b[39m\u001b[32m, line 3\u001b[39m\n\u001b[32m      1\u001b[39m \u001b[38;5;66;03m# Note what happens if we try to reshape to a shape with a different number\u001b[39;00m\n\u001b[32m      2\u001b[39m \u001b[38;5;66;03m# of elements:\u001b[39;00m\n\u001b[32m----> \u001b[39m\u001b[32m3\u001b[39m a_reshaped = \u001b[43ma\u001b[49m\u001b[43m.\u001b[49m\u001b[43mreshape\u001b[49m\u001b[43m(\u001b[49m\u001b[43m(\u001b[49m\u001b[32;43m7\u001b[39;49m\u001b[43m,\u001b[49m\u001b[43m)\u001b[49m\u001b[43m)\u001b[49m\n",
      "\u001b[31mValueError\u001b[39m: cannot reshape array of size 6 into shape (7,)"
     ]
    }
   ],
   "source": [
    "# Note what happens if we try to reshape to a shape with a different number\n",
    "# of elements:\n",
    "a_reshaped = a.reshape((7,))"
   ]
  },
  {
   "cell_type": "markdown",
   "metadata": {
    "pycharm": {
     "name": "#%% md\n"
    }
   },
   "source": [
    "<a id='indexing_and_slicing'></a>\n",
    "### Part 2. Indexing and Slicing\n",
    "\n",
    "Arrays can be initialized with lists, as we saw, and in many ways they behave\n",
    "a lot like `Python` lists!\n",
    "You can access specific elements by their index (starting with zero, just like \n",
    "in `Python` lists), and modify them:"
   ]
  },
  {
   "cell_type": "code",
   "execution_count": 20,
   "metadata": {
    "pycharm": {
     "name": "#%%\n"
    }
   },
   "outputs": [],
   "source": [
    "a = np.array([1.0, 2.0, 3.0, 4.0, 5.0])"
   ]
  },
  {
   "cell_type": "code",
   "execution_count": 21,
   "metadata": {
    "pycharm": {
     "name": "#%%\n"
    }
   },
   "outputs": [],
   "source": [
    "b = np.array([[1, 2, 3],\n",
    "              [4, 5, 6],\n",
    "              [7, 8, 9]])"
   ]
  },
  {
   "cell_type": "code",
   "execution_count": 22,
   "metadata": {
    "pycharm": {
     "name": "#%%\n"
    }
   },
   "outputs": [
    {
     "name": "stdout",
     "output_type": "stream",
     "text": [
      "a[0] = 1.0\n",
      "a[3] = 4.0\n"
     ]
    }
   ],
   "source": [
    "# You can access elements in an array like a Python list by indexing:\n",
    "print(\"a[0] = {}\".format(a[0]))\n",
    "print(\"a[3] = {}\".format(a[3]))"
   ]
  },
  {
   "cell_type": "code",
   "execution_count": 23,
   "metadata": {
    "pycharm": {
     "name": "#%%\n"
    }
   },
   "outputs": [
    {
     "name": "stdout",
     "output_type": "stream",
     "text": [
      "b[0, 0] = 1\n",
      "b[2, 2] = 9\n",
      "b[1, 2] = 6\n"
     ]
    }
   ],
   "source": [
    "# You can index into higher-dimensional arrays the same way.\n",
    "\n",
    "# NOTE: If you had nested python lists instead of a NumPy array, you'd\n",
    "# need to do something like b[0][1] instead of b[0, 1], so it's a little\n",
    "# different, but the idea is the same. The b[0][1] syntax will also work\n",
    "# for NumPy arrays.\n",
    "print(\"b[0, 0] = {}\".format(b[0, 0]))\n",
    "print(\"b[2, 2] = {}\".format(b[2, 2]))\n",
    "print(\"b[1, 2] = {}\".format(b[1, 2]))"
   ]
  },
  {
   "cell_type": "code",
   "execution_count": 24,
   "metadata": {
    "pycharm": {
     "name": "#%%\n"
    }
   },
   "outputs": [
    {
     "name": "stdout",
     "output_type": "stream",
     "text": [
      "a before:\n",
      " [1. 2. 3. 4. 5.]\n",
      "\n",
      "a after:\n",
      " [1. 2. 9. 4. 5.]\n",
      "\n"
     ]
    }
   ],
   "source": [
    "# You can also modify elements just like in a Python list\n",
    "print(\"a before:\\n {}\\n\".format(a))\n",
    "a[2] = 9.0\n",
    "print(\"a after:\\n {}\\n\".format(a))"
   ]
  },
  {
   "cell_type": "markdown",
   "metadata": {
    "pycharm": {
     "name": "#%% md\n"
    }
   },
   "source": [
    "`NumPy` also supports more complex forms of indexing (like slicing), which\n",
    "also behaves similarly to `Python` lists:"
   ]
  },
  {
   "cell_type": "code",
   "execution_count": 25,
   "metadata": {
    "pycharm": {
     "name": "#%%\n"
    }
   },
   "outputs": [],
   "source": [
    "# This is just a Python list for comparison\n",
    "example_list = [1, 2, 3, 4, 5, 6]"
   ]
  },
  {
   "cell_type": "code",
   "execution_count": 26,
   "metadata": {
    "pycharm": {
     "name": "#%%\n"
    },
    "scrolled": true
   },
   "outputs": [
    {
     "name": "stdout",
     "output_type": "stream",
     "text": [
      "example_list[1:3] = [2, 3]\n",
      "example_list[:3] = [1, 2, 3]\n",
      "example_list[1:] = [2, 3, 4, 5, 6]\n",
      "example_list[:] = [1, 2, 3, 4, 5, 6]\n"
     ]
    }
   ],
   "source": [
    "# Recall how we can slice a Python list\n",
    "\n",
    "# This gives a slice containing every element starting from position/index 1\n",
    "# (inclusive) up to but EXCLUDING the element at position/index 3\n",
    "print(\"example_list[1:3] = {}\".format(example_list[1:3]))\n",
    "\n",
    "# You can also omit the start and end index and it will use the start/end of the\n",
    "# list instead\n",
    "print(\"example_list[:3] = {}\".format(example_list[:3]))\n",
    "print(\"example_list[1:] = {}\".format(example_list[1:]))\n",
    "print(\"example_list[:] = {}\".format(example_list[:]))"
   ]
  },
  {
   "cell_type": "code",
   "execution_count": 27,
   "metadata": {
    "pycharm": {
     "name": "#%%\n"
    }
   },
   "outputs": [],
   "source": [
    "# NumPy works exactly the same way\n",
    "\n",
    "a = np.array([1, 2, 3, 4, 5, 6])"
   ]
  },
  {
   "cell_type": "code",
   "execution_count": 28,
   "metadata": {
    "pycharm": {
     "name": "#%%\n"
    }
   },
   "outputs": [
    {
     "name": "stdout",
     "output_type": "stream",
     "text": [
      "a[1:3] = [2 3]\n",
      "a[:3] = [1 2 3]\n",
      "a[1:] = [2 3 4 5 6]\n",
      "a[1:] = [1 2 3 4 5 6]\n"
     ]
    }
   ],
   "source": [
    "print(\"a[1:3] = {}\".format(a[1:3]))\n",
    "print(\"a[:3] = {}\".format(a[:3]))\n",
    "print(\"a[1:] = {}\".format(a[1:]))\n",
    "print(\"a[1:] = {}\".format(a[:]))"
   ]
  },
  {
   "cell_type": "code",
   "execution_count": 29,
   "metadata": {},
   "outputs": [
    {
     "data": {
      "text/plain": [
       "array([2, 4, 5])"
      ]
     },
     "execution_count": 29,
     "metadata": {},
     "output_type": "execute_result"
    }
   ],
   "source": [
    "# index with a list\n",
    "a[[1,3,4]]"
   ]
  },
  {
   "cell_type": "markdown",
   "metadata": {
    "pycharm": {
     "name": "#%% md\n"
    }
   },
   "source": [
    "We can modify slices just like how we modified elements using indexing:"
   ]
  },
  {
   "cell_type": "code",
   "execution_count": 30,
   "metadata": {
    "pycharm": {
     "name": "#%%\n"
    }
   },
   "outputs": [
    {
     "name": "stdout",
     "output_type": "stream",
     "text": [
      "a before:\n",
      " [1 2 3 4 5 6]\n",
      "\n",
      "a after:\n",
      " [1 8 9 4 5 6]\n",
      "\n"
     ]
    }
   ],
   "source": [
    "print(\"a before:\\n {}\\n\".format(a))\n",
    "a[1:3] = [8, 9]\n",
    "print(\"a after:\\n {}\\n\".format(a))"
   ]
  },
  {
   "cell_type": "markdown",
   "metadata": {
    "pycharm": {
     "name": "#%% md\n"
    }
   },
   "source": [
    "We can also slice multi-dimensional arrays.\n",
    "Try to figure out what each of the expression below will give before running \n",
    "them, to check your intuition:"
   ]
  },
  {
   "cell_type": "code",
   "execution_count": 31,
   "metadata": {
    "pycharm": {
     "name": "#%%\n"
    }
   },
   "outputs": [],
   "source": [
    "b = np.array([[1, 2, 3],\n",
    "              [4, 5, 6],\n",
    "              [7, 8, 9]])"
   ]
  },
  {
   "cell_type": "code",
   "execution_count": 32,
   "metadata": {
    "pycharm": {
     "name": "#%%\n"
    }
   },
   "outputs": [
    {
     "name": "stdout",
     "output_type": "stream",
     "text": [
      "b[:, :] =>\n",
      " [[1 2 3]\n",
      " [4 5 6]\n",
      " [7 8 9]]\n",
      "\n",
      "b[1, :] =>\n",
      " [4 5 6]\n",
      "\n",
      "b[:, 0] =>\n",
      " [1 4 7]\n",
      "\n",
      "b[1, :2] =>\n",
      " [4 5]\n",
      "\n"
     ]
    }
   ],
   "source": [
    "print(\"b[:, :] =>\\n {}\\n\".format(b[:, :]))\n",
    "print(\"b[1, :] =>\\n {}\\n\".format(b[1, :]))\n",
    "\n",
    "# Note that 1-D arrays are always treated as row vectors (horizontal)\n",
    "print(\"b[:, 0] =>\\n {}\\n\".format(b[:, 0]))\n",
    "print(\"b[1, :2] =>\\n {}\\n\".format(b[1, :2]))"
   ]
  },
  {
   "cell_type": "code",
   "execution_count": 33,
   "metadata": {
    "pycharm": {
     "name": "#%%\n"
    }
   },
   "outputs": [
    {
     "name": "stdout",
     "output_type": "stream",
     "text": [
      "b before:\n",
      " [[1 2 3]\n",
      " [4 5 6]\n",
      " [7 8 9]]\n",
      "\n",
      "b after:\n",
      " [[0 2 3]\n",
      " [0 5 6]\n",
      " [0 8 9]]\n",
      "\n"
     ]
    }
   ],
   "source": [
    "# Modifying a slice of a 2-D arrays\n",
    "\n",
    "print(\"b before:\\n {}\\n\".format(b))\n",
    "b[:, 0] = 0\n",
    "print(\"b after:\\n {}\\n\".format(b))"
   ]
  },
  {
   "cell_type": "markdown",
   "metadata": {
    "pycharm": {
     "name": "#%% md\n"
    }
   },
   "source": [
    "It's important to think carefully about the shapes/dimensions of the slices\n",
    "that you extract.\n",
    "Depending on how you slice, your result could have fewer dimensions than the \n",
    "original array, or the same number.\n",
    "\n",
    "Think about what shapes you would expect these slices to be, then run the cell \n",
    "below to double-check:\n",
    "\n",
    "Do the results make sense to you? \n",
    "If not, can you figure out why the shapes came out as they did?"
   ]
  },
  {
   "cell_type": "code",
   "execution_count": 34,
   "metadata": {
    "pycharm": {
     "name": "#%%\n"
    }
   },
   "outputs": [
    {
     "name": "stdout",
     "output_type": "stream",
     "text": [
      "shape(b[:, :]) = (3, 3)\n",
      "shape(b[1, :]) = (3,)\n",
      "shape(b[1:2, :]) = (1, 3)\n",
      "shape(b[:, 0]) = (3,)\n",
      "shape(b[:, 0:1]) = (3, 1)\n"
     ]
    }
   ],
   "source": [
    "print(\"shape(b[:, :]) = {}\".format(b[:, :].shape))\n",
    "print(\"shape(b[1, :]) = {}\".format(b[1, :].shape))\n",
    "print(\"shape(b[1:2, :]) = {}\".format(b[1:2, :].shape))\n",
    "print(\"shape(b[:, 0]) = {}\".format(b[:, 0].shape))\n",
    "print(\"shape(b[:, 0:1]) = {}\".format(b[:, 0:1].shape))"
   ]
  },
  {
   "cell_type": "markdown",
   "metadata": {
    "pycharm": {
     "name": "#%% md\n"
    }
   },
   "source": [
    "<a id='array_math_and_functions'></a>\n",
    "### Part 3. Array Math and Functions\n",
    "\n",
    "We covered creating arrays and reading/writing elements in them, but the main\n",
    "reason we use `NumPy` in the first place is to do math with arrays (linear\n",
    "algebra).\n",
    "For the most part, array/vector math in `NumPy` is extremely straight-forward \n",
    "and intuitive.\n",
    "You can add, subtract, multiply, etc. `NumPy` arrays just like they were \n",
    "`Python` numbers and NumPy will take care of everything for you!\n",
    "\n",
    "For example:"
   ]
  },
  {
   "cell_type": "code",
   "execution_count": 37,
   "metadata": {},
   "outputs": [],
   "source": [
    "# 1-D Example\n",
    "a = np.array([1, 2, 3])\n",
    "b = np.array([4, 5, 6])"
   ]
  },
  {
   "cell_type": "code",
   "execution_count": null,
   "metadata": {},
   "outputs": [
    {
     "name": "stdout",
     "output_type": "stream",
     "text": [
      "Element-wise addition (a + b): [5 7 9]\n"
     ]
    }
   ],
   "source": [
    "# Element-wise addition\n",
    "print(\"Element-wise addition (a + b):\", a + b)"
   ]
  },
  {
   "cell_type": "markdown",
   "metadata": {},
   "source": [
    "Element-wise addition means that each element in a is added to its counterpart in b.\n",
    "\n",
    "So we added 1 + 4 -> 5, 2 + 5 -> 7, 3 + 6 -> 9\n",
    "\n",
    "Think of it like this\n",
    "\n",
    "[1 | 2 | 3]\n",
    "\n",
    "[4 | 5 | 6]\n",
    "\n",
    "\\-\\-\\-\\-\\-\\-\\-\\-\\-\n",
    "\n",
    "[5 | 7 | 9]"
   ]
  },
  {
   "cell_type": "code",
   "execution_count": 39,
   "metadata": {},
   "outputs": [
    {
     "name": "stdout",
     "output_type": "stream",
     "text": [
      "Element-wise subtraction (a - b): [-3 -3 -3]\n"
     ]
    }
   ],
   "source": [
    "# Element-wise subtraction\n",
    "print(\"Element-wise subtraction (a - b):\", a - b)"
   ]
  },
  {
   "cell_type": "code",
   "execution_count": null,
   "metadata": {},
   "outputs": [
    {
     "name": "stdout",
     "output_type": "stream",
     "text": [
      "Element-wise subtraction (b - a): [3 3 3]\n"
     ]
    }
   ],
   "source": [
    "# Element-wise subtraction other way around\n",
    "print(\"Element-wise subtraction (b - a):\", b - a)"
   ]
  },
  {
   "cell_type": "code",
   "execution_count": null,
   "metadata": {},
   "outputs": [
    {
     "name": "stdout",
     "output_type": "stream",
     "text": [
      "Element-wise multiplication (a * b): [ 4 10 18]\n"
     ]
    }
   ],
   "source": [
    "# Element-wise multiplication\n",
    "print(\"Element-wise multiplication (a * b):\", a * b)\n",
    "# Here, 1*4 -> 4, 2*5 -> 10, 3*6 -> 18"
   ]
  },
  {
   "cell_type": "code",
   "execution_count": 42,
   "metadata": {},
   "outputs": [
    {
     "name": "stdout",
     "output_type": "stream",
     "text": [
      "Element-wise division (a / b): [0.25 0.4  0.5 ]\n"
     ]
    }
   ],
   "source": [
    "# Element-wise division\n",
    "print(\"Element-wise division (a / b):\", a / b)"
   ]
  },
  {
   "cell_type": "code",
   "execution_count": 43,
   "metadata": {},
   "outputs": [
    {
     "name": "stdout",
     "output_type": "stream",
     "text": [
      "Element-wise division (b / a): [4.  2.5 2. ]\n"
     ]
    }
   ],
   "source": [
    "# Element-wise division other way around\n",
    "print(\"Element-wise division (b / a):\", b / a)"
   ]
  },
  {
   "cell_type": "markdown",
   "metadata": {},
   "source": [
    "Same principles of element-wise operation apply to matrices or 2-D arrays"
   ]
  },
  {
   "cell_type": "code",
   "execution_count": 46,
   "metadata": {
    "pycharm": {
     "name": "#%%\n"
    }
   },
   "outputs": [],
   "source": [
    "a = np.array([[1,2],\n",
    "              [3,4]])"
   ]
  },
  {
   "cell_type": "code",
   "execution_count": 47,
   "metadata": {
    "pycharm": {
     "name": "#%%\n"
    }
   },
   "outputs": [],
   "source": [
    "b = np.array([[3,3],\n",
    "              [4,4]])\n"
   ]
  },
  {
   "cell_type": "markdown",
   "metadata": {
    "pycharm": {
     "name": "#%% md\n"
    }
   },
   "source": [
    "Note that for all the below element-wise operations, the two\n",
    "arrays being added/subtracted/multiplied etc. must have the same shape!\n",
    "(We will talk about an exception to this rule in the next exercise.)\n",
    "\n",
    "Also note that for many matrix operations, there's two ways of\n",
    "writing it in `NumPy`. \n",
    "Either you can call a dedicated function, or you can use the standard \n",
    "\"+, -, *, /\" operators on NumPy arrays as if they were just numbers"
   ]
  },
  {
   "cell_type": "code",
   "execution_count": 48,
   "metadata": {
    "pycharm": {
     "name": "#%%\n"
    }
   },
   "outputs": [
    {
     "name": "stdout",
     "output_type": "stream",
     "text": [
      "a + b =>\n",
      " [[4 5]\n",
      " [7 8]]\n",
      "\n",
      "np.add(a, b) =>\n",
      " [[4 5]\n",
      " [7 8]]\n",
      "\n",
      "b - a =>\n",
      " [[2 1]\n",
      " [1 0]]\n",
      "\n",
      "np.subtract(b, a) =>\n",
      " [[2 1]\n",
      " [1 0]]\n",
      "\n",
      "a * b =>\n",
      " [[ 3  6]\n",
      " [12 16]]\n",
      "\n",
      "np.multiply(a, b) =>\n",
      " [[ 3  6]\n",
      " [12 16]]\n",
      "\n",
      "a / b =>\n",
      " [[0.33333333 0.66666667]\n",
      " [0.75       1.        ]]\n",
      "\n",
      "np.divide(a, b) =>\n",
      " [[0.33333333 0.66666667]\n",
      " [0.75       1.        ]]\n",
      "\n"
     ]
    }
   ],
   "source": [
    "# To take an element-wise sum\n",
    "print(\"a + b =>\\n {}\\n\".format(a + b))\n",
    "print(\"np.add(a, b) =>\\n {}\\n\".format(np.add(a, b)))\n",
    "\n",
    "# To take an element-wise difference\n",
    "print(\"b - a =>\\n {}\\n\".format(b - a))\n",
    "print(\"np.subtract(b, a) =>\\n {}\\n\".format(np.subtract(b, a)))\n",
    "\n",
    "# To take an element-wise product\n",
    "print(\"a * b =>\\n {}\\n\".format(a * b))\n",
    "print(\"np.multiply(a, b) =>\\n {}\\n\".format(np.multiply(a, b)))\n",
    "\n",
    "# To take an element-wise quotient\n",
    "print(\"a / b =>\\n {}\\n\".format(a / b))\n",
    "print(\"np.divide(a, b) =>\\n {}\\n\".format(np.divide(a, b)))"
   ]
  },
  {
   "cell_type": "code",
   "execution_count": 49,
   "metadata": {
    "pycharm": {
     "name": "#%%\n"
    }
   },
   "outputs": [
    {
     "ename": "ValueError",
     "evalue": "operands could not be broadcast together with shapes (3,) (2,) ",
     "output_type": "error",
     "traceback": [
      "\u001b[31m---------------------------------------------------------------------------\u001b[39m",
      "\u001b[31mValueError\u001b[39m                                Traceback (most recent call last)",
      "\u001b[36mCell\u001b[39m\u001b[36m \u001b[39m\u001b[32mIn[49]\u001b[39m\u001b[32m, line 6\u001b[39m\n\u001b[32m      3\u001b[39m a = np.array([\u001b[32m1\u001b[39m, \u001b[32m2\u001b[39m, \u001b[32m3\u001b[39m])\n\u001b[32m      4\u001b[39m b = np.array([\u001b[32m1\u001b[39m, \u001b[32m2\u001b[39m])\n\u001b[32m----> \u001b[39m\u001b[32m6\u001b[39m \u001b[43ma\u001b[49m\u001b[43m \u001b[49m\u001b[43m+\u001b[49m\u001b[43m \u001b[49m\u001b[43mb\u001b[49m\n",
      "\u001b[31mValueError\u001b[39m: operands could not be broadcast together with shapes (3,) (2,) "
     ]
    }
   ],
   "source": [
    "# Note what happens when the shapes don't match\n",
    "\n",
    "a = np.array([1, 2, 3])\n",
    "b = np.array([1, 2])\n",
    "\n",
    "a + b"
   ]
  },
  {
   "cell_type": "markdown",
   "metadata": {
    "pycharm": {
     "name": "#%% md\n"
    }
   },
   "source": [
    "`NumPy` also provides a bunch of super-useful functions to compute mathematical\n",
    "functions of NumPy arrays, or do other common operations.\n",
    "Some commonly used ones that you might find useful include:"
   ]
  },
  {
   "cell_type": "code",
   "execution_count": 72,
   "metadata": {
    "pycharm": {
     "name": "#%%\n"
    }
   },
   "outputs": [],
   "source": [
    "a = np.array([1, 2, 3])\n",
    "\n",
    "b = np.array([[1, 2, 3],\n",
    "              [4, 5, 6]])\n",
    "\n",
    "c = np.array([2, 3, 4])\n",
    "\n",
    "d = np.array([[3, 4],\n",
    "              [5, 6],\n",
    "              [7, 8]])"
   ]
  },
  {
   "cell_type": "code",
   "execution_count": 51,
   "metadata": {
    "pycharm": {
     "name": "#%%\n"
    }
   },
   "outputs": [
    {
     "data": {
      "text/plain": [
       "np.int64(6)"
      ]
     },
     "execution_count": 51,
     "metadata": {},
     "output_type": "execute_result"
    }
   ],
   "source": [
    "# Sum all the elements in an array\n",
    "np.sum(a)"
   ]
  },
  {
   "cell_type": "code",
   "execution_count": null,
   "metadata": {
    "pycharm": {
     "name": "#%%\n"
    }
   },
   "outputs": [
    {
     "data": {
      "text/plain": [
       "array([ 6, 15])"
      ]
     },
     "execution_count": 52,
     "metadata": {},
     "output_type": "execute_result"
    }
   ],
   "source": [
    "# Sum elements along an axis/dimension\n",
    "np.sum(b, axis=1)"
   ]
  },
  {
   "cell_type": "code",
   "execution_count": 56,
   "metadata": {},
   "outputs": [
    {
     "name": "stdout",
     "output_type": "stream",
     "text": [
      "(2,)\n"
     ]
    },
    {
     "data": {
      "text/plain": [
       "array([ 6, 15])"
      ]
     },
     "execution_count": 56,
     "metadata": {},
     "output_type": "execute_result"
    }
   ],
   "source": [
    "# Let's study this a bit more\n",
    "c = np.sum(b, axis=1)\n",
    "print(c.shape)\n",
    "c"
   ]
  },
  {
   "cell_type": "code",
   "execution_count": 57,
   "metadata": {},
   "outputs": [
    {
     "name": "stdout",
     "output_type": "stream",
     "text": [
      "(3,)\n"
     ]
    },
    {
     "data": {
      "text/plain": [
       "array([5, 7, 9])"
      ]
     },
     "execution_count": 57,
     "metadata": {},
     "output_type": "execute_result"
    }
   ],
   "source": [
    "# What if we sum along axis=0?\n",
    "d = np.sum(b, axis=0)\n",
    "print(d.shape)\n",
    "d"
   ]
  },
  {
   "cell_type": "markdown",
   "metadata": {},
   "source": [
    "np.sum(b, axis=1) sums the values of each row (axis=1) and returns a 1-D array\n",
    "\n",
    "np.sum(b, axis=0) sums the values of each column (axis=0) and returns also a 1-D array\n",
    "\n",
    "The main difference is in the shape.\n",
    "\n",
    "Our numpy array b had the shape **(2,3)**\n",
    "\n",
    "This means that if we sum along the rows, we get a new array with the shape **(2,)**\n",
    "\n",
    "And if we sum along the columns, our new array has the shape **(3,)**\n",
    "\n",
    "> In other words, for a 2D array with shape (m, n), axis=0 sums columns (results in a shape (n,)), while axis=1 sums rows (results in a shape (m,)). \n",
    "\n"
   ]
  },
  {
   "cell_type": "code",
   "execution_count": 58,
   "metadata": {
    "pycharm": {
     "name": "#%%\n"
    }
   },
   "outputs": [
    {
     "data": {
      "text/plain": [
       "array([0.        , 0.69314718, 1.09861229])"
      ]
     },
     "execution_count": 58,
     "metadata": {},
     "output_type": "execute_result"
    }
   ],
   "source": [
    "# Take (natural) log element-wise\n",
    "np.log(a)"
   ]
  },
  {
   "cell_type": "markdown",
   "metadata": {},
   "source": [
    "### What are Logarithms?\n",
    "\n",
    "A **logarithm** is the inverse operation of **exponentiation**. In simple terms, it answers the question: \"To what power must a certain base be raised to produce a given number?\"\n",
    "\n",
    "For example, in the equation:\n",
    "\n",
    "`b^x = y`\n",
    "\n",
    "The **logarithm** of `y` to the base `b` is `x`, written as:\n",
    "\n",
    "`log_b(y) = x`\n",
    "\n",
    "Here:\n",
    "- `b` is the **base** of the logarithm,\n",
    "- `y` is the number we want to find the logarithm of, and\n",
    "- `x` is the power (or exponent) that the base must be raised to, in order to get `y`.\n",
    "\n",
    "#### Examples:\n",
    "- `log₂(8) = 3` because `2^3 = 8`\n",
    "- `log₁₀(1000) = 3` because `10^3 = 1000`\n",
    "\n",
    "### Natural Logarithm\n",
    "\n",
    "The **natural logarithm**, denoted as `ln(x)`, is a specific type of logarithm where the base is the constant **e** (approximately 2.718). e is Euler's number. The constant e and the exponential function `e^x` is particularly useful in various fields such as mathematics, physics, and computer science for modeling natural growth (or decline) processes or phenomena that change continuously over time.\n",
    "\n",
    "### np.log()\n",
    "\n",
    "np.log() computes the natural logarithm (base e). To calculate the logarithm for a different base, you need to specify it like so: np.log2()\n",
    "\n",
    "Natural logarithm is the default log calculation in machine learning. This is both because of its role in modeling phenamenon and also the derivative of `ln(x)` is `1/x`, which makes it easy to use in back propagation, an integral part of neural machine learning.\n"
   ]
  },
  {
   "cell_type": "code",
   "execution_count": 60,
   "metadata": {},
   "outputs": [
    {
     "data": {
      "text/plain": [
       "array([0.       , 1.       , 1.5849625])"
      ]
     },
     "execution_count": 60,
     "metadata": {},
     "output_type": "execute_result"
    }
   ],
   "source": [
    "# log base 2 element-wise\n",
    "np.log2(a)"
   ]
  },
  {
   "cell_type": "code",
   "execution_count": 61,
   "metadata": {
    "pycharm": {
     "name": "#%%\n"
    }
   },
   "outputs": [
    {
     "data": {
      "text/plain": [
       "array([ 2.71828183,  7.3890561 , 20.08553692])"
      ]
     },
     "execution_count": 61,
     "metadata": {},
     "output_type": "execute_result"
    }
   ],
   "source": [
    "# Take exponential (e^x) element-wise\n",
    "np.exp(a)"
   ]
  },
  {
   "cell_type": "code",
   "execution_count": 62,
   "metadata": {
    "pycharm": {
     "name": "#%%\n"
    }
   },
   "outputs": [
    {
     "data": {
      "text/plain": [
       "array([1.        , 1.41421356, 1.73205081])"
      ]
     },
     "execution_count": 62,
     "metadata": {},
     "output_type": "execute_result"
    }
   ],
   "source": [
    "# Take square root element-wise\n",
    "np.sqrt(a)"
   ]
  },
  {
   "cell_type": "code",
   "execution_count": 63,
   "metadata": {
    "pycharm": {
     "name": "#%%\n"
    }
   },
   "outputs": [
    {
     "name": "stdout",
     "output_type": "stream",
     "text": [
      "np.max(a) = 3\n",
      "np.max(b) = 6\n",
      "np.max(b, axis=1) = [3 6]\n"
     ]
    }
   ],
   "source": [
    "# Get maximum element in an array\n",
    "print(\"np.max(a) = {}\".format(np.max(a)))\n",
    "print(\"np.max(b) = {}\".format(np.max(b)))\n",
    "print(\"np.max(b, axis=1) = {}\".format(np.max(b, axis=1)))"
   ]
  },
  {
   "cell_type": "code",
   "execution_count": 64,
   "metadata": {
    "pycharm": {
     "name": "#%%\n"
    }
   },
   "outputs": [
    {
     "data": {
      "text/plain": [
       "np.int64(2)"
      ]
     },
     "execution_count": 64,
     "metadata": {},
     "output_type": "execute_result"
    }
   ],
   "source": [
    "# Get index of maximum element in an array\n",
    "np.argmax(a)"
   ]
  },
  {
   "cell_type": "code",
   "execution_count": 65,
   "metadata": {},
   "outputs": [
    {
     "name": "stdout",
     "output_type": "stream",
     "text": [
      "np.argmax(b) = 5\n",
      "np.argmax(b, axis=0) = [1 1 1]\n",
      "np.argmax(b, axis=1) = [2 2]\n"
     ]
    }
   ],
   "source": [
    "# You can do with with 2-D arrays as well\n",
    "print(\"np.argmax(b) = {}\".format(np.argmax(b)))\n",
    "print(\"np.argmax(b, axis=0) = {}\".format(np.argmax(b, axis=0)))\n",
    "print(\"np.argmax(b, axis=1) = {}\".format(np.argmax(b, axis=1)))"
   ]
  },
  {
   "cell_type": "code",
   "execution_count": 69,
   "metadata": {},
   "outputs": [
    {
     "name": "stdout",
     "output_type": "stream",
     "text": [
      "Maximum value in b: 6\n",
      "Index of maximum element in b: 5\n",
      "1 2\n"
     ]
    }
   ],
   "source": [
    "# Let's take a look at the index of the maximum element in a 2-D array\n",
    "# this is the same b, repeated from above\n",
    "\n",
    "b = np.array([[1, 2, 3],\n",
    "              [4, 5, 6]])\n",
    "\n",
    "max_value = np.max(b)\n",
    "print(\"Maximum value in b: {}\".format(max_value))\n",
    "\n",
    "idx = np.argmax(b)\n",
    "print(\"Index of maximum element in b: {}\".format(idx))\n",
    "\n",
    "# The index is in 1-D, so we can convert it to 2-D coordinates\n",
    "row, col = np.unravel_index(idx, b.shape)\n",
    "print(row, col) "
   ]
  },
  {
   "cell_type": "code",
   "execution_count": 70,
   "metadata": {
    "pycharm": {
     "name": "#%%\n"
    }
   },
   "outputs": [
    {
     "data": {
      "text/plain": [
       "np.float64(2.0)"
      ]
     },
     "execution_count": 70,
     "metadata": {},
     "output_type": "execute_result"
    }
   ],
   "source": [
    "# Get average of all elements in array\n",
    "np.mean(a)"
   ]
  },
  {
   "cell_type": "code",
   "execution_count": 73,
   "metadata": {
    "pycharm": {
     "name": "#%%\n"
    }
   },
   "outputs": [
    {
     "data": {
      "text/plain": [
       "np.int64(20)"
      ]
     },
     "execution_count": 73,
     "metadata": {},
     "output_type": "execute_result"
    }
   ],
   "source": [
    "# Take a dot product between two arrays\n",
    "# In this case, two vectors (1-D arrays)\n",
    "np.dot(a, c)"
   ]
  },
  {
   "cell_type": "markdown",
   "metadata": {},
   "source": [
    "### Dot Product in Matrices\n",
    "\n",
    "The **dot product** (also known as the **scalar product**) in the context of matrices is an operation that takes two vectors or matrices and produces a scalar (a single number) or another matrix, depending on the type of objects involved.\n",
    "\n",
    "#### Dot Product of Two Vectors\n",
    "\n",
    "For two vectors **A** and **B**, the dot product is calculated by multiplying corresponding elements and then summing the results. If **A** and **B** are vectors of the same length, say, (n, ) then:\n",
    "\n",
    "A = [a₁, a₂, ..., aₙ]\n",
    "B = [b₁, b₂, ..., bₙ]\n",
    "\n",
    "The **dot product** \\( A ⋅ B \\) is defined as:\n",
    "\n",
    "A ⋅ B = a₁ ⋅ b₁ + a₂ ⋅ b₂ + ... + aₙ ⋅ bₙ\n",
    "\n",
    "This results in a scalar (single number), which represents a measure of the *similarity* or *correlation* between the two vectors.\n",
    "\n",
    "### Our example\n",
    "\n",
    "a = [1, 2, 3]\n",
    "\n",
    "c = [2, 3, 4]\n",
    "\n",
    "a ⋅ c = 1x2 + 2x3 + 3x4\n",
    "\n",
    "a ⋅ c = 21\n",
    "\n",
    "\n"
   ]
  },
  {
   "cell_type": "markdown",
   "metadata": {},
   "source": [
    "Same logic of dot product can be applied to matrix mutliplication. This is different from the element-wise multiplication"
   ]
  },
  {
   "cell_type": "code",
   "execution_count": null,
   "metadata": {},
   "outputs": [
    {
     "name": "stdout",
     "output_type": "stream",
     "text": [
      "Element-wise multiplication of a and c: [ 2  6 12]\n"
     ]
    }
   ],
   "source": [
    "# Remember the element-wise multiplication?\n",
    "# Let's multiply a and c element-wise\n",
    "print(\"Element-wise multiplication of a and c: {}\".format(a * c))\n"
   ]
  },
  {
   "cell_type": "code",
   "execution_count": 74,
   "metadata": {
    "pycharm": {
     "name": "#%%\n"
    }
   },
   "outputs": [
    {
     "name": "stdout",
     "output_type": "stream",
     "text": [
      "b @ d =>\n",
      " [[34 40]\n",
      " [79 94]]\n",
      "\n",
      "np.matmul(b, d) =>\n",
      " [[34 40]\n",
      " [79 94]]\n",
      "\n"
     ]
    }
   ],
   "source": [
    "# Matrix-multiply two arrays\n",
    "print(\"b @ d =>\\n {}\\n\".format(b @ d))\n",
    "print(\"np.matmul(b, d) =>\\n {}\\n\".format(np.matmul(b, d)))"
   ]
  },
  {
   "cell_type": "markdown",
   "metadata": {},
   "source": [
    "Matrix multiplication (also known as the dot product for matrices) involves multiplying corresponding rows of the first matrix by columns of the second matrix and summing the results to form a new matrix.\n",
    "\n"
   ]
  },
  {
   "cell_type": "code",
   "execution_count": 77,
   "metadata": {},
   "outputs": [],
   "source": [
    "# Same as above, just a reminder here\n",
    "\n",
    "a = np.array([1, 2, 3])\n",
    "\n",
    "b = np.array([[1, 2, 3],\n",
    "              [4, 5, 6]])\n",
    "\n",
    "c = np.array([2, 3, 4])\n",
    "\n",
    "d = np.array([[3, 4],\n",
    "              [5, 6],\n",
    "              [7, 8]])"
   ]
  },
  {
   "cell_type": "markdown",
   "metadata": {},
   "source": [
    "When we do a matrix multiplication, denoted as `@` we are taking the first row of b and getting its dot product with the first column of d.\n",
    "\n",
    "```\n",
    "result = [[m, n], \n",
    "          [x, y]]\n",
    "```\n",
    "\n",
    "first row of b = [1, 2, 3]\n",
    "\n",
    "first column of d = [3, 5, 7]\n",
    "\n",
    "m = 1x3 + 2x5 + 3x7\n",
    "m = 34\n",
    "\n",
    "\n",
    "The shapes of b (2,3) and d (3,2) are different, which is why matrix multiplication is valid here because the number of columns in B (which is 3) matches the number of rows in D (which is also 3). The result of multiplying these matrices will be a new matrix with the number of rows of B and the number of columns of D."
   ]
  },
  {
   "cell_type": "code",
   "execution_count": 78,
   "metadata": {
    "pycharm": {
     "name": "#%%\n"
    }
   },
   "outputs": [
    {
     "data": {
      "text/plain": [
       "np.float64(3.7416573867739413)"
      ]
     },
     "execution_count": 78,
     "metadata": {},
     "output_type": "execute_result"
    }
   ],
   "source": [
    "# Get the norm (magnitude) of a matrix/vector\n",
    "# You can specify different types of norm, but by default it does the\n",
    "# 2-norm, which is only vector norm that we'll see in this class.\n",
    "np.linalg.norm(a)"
   ]
  },
  {
   "cell_type": "markdown",
   "metadata": {},
   "source": [
    "The norm of a matrix or a vector is a measure of its \"size\" or \"magnitude.\" It provides a scalar value that quantifies how large the matrix or vector is. For a vector, the norm gives a measure of its length in the vector space.\n",
    "\n",
    "This will come hand when we are doing comparisons between vectors"
   ]
  },
  {
   "cell_type": "markdown",
   "metadata": {
    "pycharm": {
     "name": "#%% md\n"
    }
   },
   "source": [
    "__NOTE:__ In general, for most `NumPy` functions that operate on an entire \n",
    "array, you can also specify a dimension or dimensions to apply it along\n",
    "\n",
    "__NOTE:__ There are also other packages that build off of `NumPy` or\n",
    "use `NumPy` arrays.\n",
    "We will very briefly encounter a few examples later in the class like `SciPy`\n",
    "and `PyTorch`. \n",
    "For the most part, these packages tend to work very similarly to the built-in \n",
    "`NumPy` functions above."
   ]
  },
  {
   "cell_type": "markdown",
   "metadata": {},
   "source": [
    "<a id='vectorization'></a>\n",
    "### Part 4. Vectorization"
   ]
  },
  {
   "cell_type": "markdown",
   "metadata": {},
   "source": [
    "Vectorization is the process of converting operations on scalar values (individual numbers) into operations on vectors (arrays of numbers). It allows you to perform computations on entire arrays or matrices at once, rather than using explicit loops to process each element one by one. This results in more efficient, faster, and parallelizable operations."
   ]
  },
  {
   "cell_type": "code",
   "execution_count": 91,
   "metadata": {},
   "outputs": [],
   "source": [
    "arrays = np.random.random((1000, 1000)) # this is a 2-D array with 1000 rows and 1000 columns\n",
    "other_array = np.random.random((1000)) # this is a 1-D array with 1000 elements"
   ]
  },
  {
   "cell_type": "code",
   "execution_count": 97,
   "metadata": {},
   "outputs": [
    {
     "name": "stdout",
     "output_type": "stream",
     "text": [
      "765 267.21449646836396\n",
      "CPU times: user 701 ms, sys: 7.85 ms, total: 709 ms\n",
      "Wall time: 713 ms\n"
     ]
    }
   ],
   "source": [
    "%%time\n",
    "\n",
    "#Compute the max inner (dot) product\n",
    "max_i = 0\n",
    "max_val = 0\n",
    "for  i in range(1000):\n",
    "    idp = 0\n",
    "    for j in range(1000):\n",
    "        idp += arrays[i][j] * other_array[j]\n",
    "    if idp > max_val:\n",
    "        max_val = idp\n",
    "        max_i = i\n",
    "print(max_i, max_val)\n",
    "        \n"
   ]
  },
  {
   "cell_type": "code",
   "execution_count": 96,
   "metadata": {},
   "outputs": [
    {
     "name": "stdout",
     "output_type": "stream",
     "text": [
      "765 267.2144964683641\n",
      "CPU times: user 3.44 ms, sys: 361 μs, total: 3.8 ms\n",
      "Wall time: 919 μs\n"
     ]
    }
   ],
   "source": [
    "%%time\n",
    "# let's use numpy's dot product\n",
    "\n",
    "idps = np.dot(arrays, other_array)\n",
    "print(np.argmax(idps), np.max(idps))\n"
   ]
  },
  {
   "cell_type": "markdown",
   "metadata": {},
   "source": [
    "<a id='broadcasting'></a>\n",
    "### Part 5. Broadcasting\n",
    "\n",
    "A final topic that may be useful to you is broadcasting. \n",
    "It's one of the most useful and powerful features of `NumPy`, because it lets \n",
    "you write matrix/array operations in a natural way without having to be too \n",
    "specific about what you want `NumPy` to do.\n",
    "\n",
    "In most cases, `NumPy` can use broadcasting to infer what you wanted to do\n",
    "and do it. \n",
    "Let's look at an example:"
   ]
  },
  {
   "cell_type": "code",
   "execution_count": 99,
   "metadata": {
    "pycharm": {
     "name": "#%%\n"
    }
   },
   "outputs": [
    {
     "data": {
      "text/plain": [
       "array([[1., 1.]])"
      ]
     },
     "execution_count": 99,
     "metadata": {},
     "output_type": "execute_result"
    }
   ],
   "source": [
    "# Create a multi-dimensional (1 x 2) matrix of ones\n",
    "a = np.ones((1,2))\n",
    "a"
   ]
  },
  {
   "cell_type": "code",
   "execution_count": 100,
   "metadata": {
    "pycharm": {
     "name": "#%%\n"
    }
   },
   "outputs": [
    {
     "data": {
      "text/plain": [
       "array([4])"
      ]
     },
     "execution_count": 100,
     "metadata": {},
     "output_type": "execute_result"
    }
   ],
   "source": [
    "# Create a single-element 1-D array\n",
    "b = np.array([4])\n",
    "b"
   ]
  },
  {
   "cell_type": "markdown",
   "metadata": {
    "pycharm": {
     "name": "#%% md\n"
    }
   },
   "source": [
    "Now recall that earlier, when we tried to add, multiply, subtract, etc. two\n",
    "arrays, they had to have the same shape! \n",
    "Let's see what happens when we do some of these things with a and b:"
   ]
  },
  {
   "cell_type": "code",
   "execution_count": 101,
   "metadata": {
    "pycharm": {
     "name": "#%%\n"
    }
   },
   "outputs": [
    {
     "data": {
      "text/plain": [
       "array([[5., 5.]])"
      ]
     },
     "execution_count": 101,
     "metadata": {},
     "output_type": "execute_result"
    }
   ],
   "source": [
    "a + b"
   ]
  },
  {
   "cell_type": "code",
   "execution_count": 102,
   "metadata": {
    "pycharm": {
     "name": "#%%\n"
    }
   },
   "outputs": [
    {
     "data": {
      "text/plain": [
       "array([[-3., -3.]])"
      ]
     },
     "execution_count": 102,
     "metadata": {},
     "output_type": "execute_result"
    }
   ],
   "source": [
    "a - b"
   ]
  },
  {
   "cell_type": "code",
   "execution_count": 103,
   "metadata": {
    "pycharm": {
     "name": "#%%\n"
    }
   },
   "outputs": [
    {
     "data": {
      "text/plain": [
       "array([[4., 4.]])"
      ]
     },
     "execution_count": 103,
     "metadata": {},
     "output_type": "execute_result"
    }
   ],
   "source": [
    "a * b"
   ]
  },
  {
   "cell_type": "code",
   "execution_count": 104,
   "metadata": {
    "pycharm": {
     "name": "#%%\n"
    }
   },
   "outputs": [
    {
     "data": {
      "text/plain": [
       "array([[0.25, 0.25]])"
      ]
     },
     "execution_count": 104,
     "metadata": {},
     "output_type": "execute_result"
    }
   ],
   "source": [
    "a / b"
   ]
  },
  {
   "cell_type": "markdown",
   "metadata": {
    "pycharm": {
     "name": "#%% md\n"
    }
   },
   "source": [
    "Wait, what happened?? \n",
    "We just said that the shapes had to match, but `a` and `b` definitely don't \n",
    "have the same shape...\n",
    "\n",
    "This is where broadcasting comes into play. Although `a` and `b` don't have the\n",
    "same shape, they have __compatible__ shapes, so `NumPy` was able to guess\n",
    "what we actually wanted to do and __broadcast__ behind the scenes to make the\n",
    "operation work.\n",
    "\n",
    "What `NumPy` did behind the scenes in this case is see that `b` and `a` don't \n",
    "have the same shape, but also realize that maybe we meant to \"re-use\" the value \n",
    "in `b` for every value in `a`. In other words, it \"broadcast\" `b` from its\n",
    "original shape of (1,) to `a`'s shape of (2,) by duplicating the element\n",
    "in `b`.\n",
    "\n",
    "Once it did that, it could simply do the element-wise operation as usual!\n",
    "\n",
    "This makes our life a lot easier, as we didn't have to explicitly write out\n",
    "that duplication and reshaping ourselves.\n",
    "Of course, that assumes that this behavior is actually what we intended.\n",
    "\n",
    "In this case, it seems to make good sense, as if we tell it to subtract the\n",
    "array `[4]` from `[1, 1]`, it seems reasonable that what we are really asking\n",
    "for is for it to subtract 4 from each 1 in the second array."
   ]
  },
  {
   "cell_type": "markdown",
   "metadata": {
    "pycharm": {
     "name": "#%% md\n"
    }
   },
   "source": [
    "Most of the time, `NumPy` assumes that whenever we do an operation on two arrays\n",
    "with different shapes, we would like things to be broadcast if possible to\n",
    "make the operation work.\n",
    "\n",
    "It will then try to expand the smaller array to match the size of the bigger\n",
    "one by copying/repeating the data in the smaller array."
   ]
  },
  {
   "cell_type": "markdown",
   "metadata": {
    "pycharm": {
     "name": "#%% md\n"
    }
   },
   "source": [
    "Let's try a slightly more complicated example involving 2-D arrays:"
   ]
  },
  {
   "cell_type": "code",
   "execution_count": 105,
   "metadata": {
    "pycharm": {
     "name": "#%%\n"
    }
   },
   "outputs": [
    {
     "data": {
      "text/plain": [
       "array([[1., 1., 1.],\n",
       "       [1., 1., 1.],\n",
       "       [1., 1., 1.],\n",
       "       [1., 1., 1.]])"
      ]
     },
     "execution_count": 105,
     "metadata": {},
     "output_type": "execute_result"
    }
   ],
   "source": [
    "# Create a 2-D array of shape (4, 3)\n",
    "a = np.ones((4,3))\n",
    "a"
   ]
  },
  {
   "cell_type": "code",
   "execution_count": 106,
   "metadata": {
    "pycharm": {
     "name": "#%%\n"
    }
   },
   "outputs": [
    {
     "data": {
      "text/plain": [
       "array([[0],\n",
       "       [1],\n",
       "       [2],\n",
       "       [3]])"
      ]
     },
     "execution_count": 106,
     "metadata": {},
     "output_type": "execute_result"
    }
   ],
   "source": [
    "# Create an array of shape (4,)\n",
    "# np.arange(n) creates a vector out of increasing\n",
    "# integers from 0 to n (exclusive)\n",
    "b = np.arange(4)\n",
    "\n",
    "# Reshape to (4, 1)\n",
    "b = b.reshape((4, 1))\n",
    "b"
   ]
  },
  {
   "cell_type": "code",
   "execution_count": 107,
   "metadata": {
    "pycharm": {
     "name": "#%%\n"
    },
    "scrolled": true
   },
   "outputs": [
    {
     "data": {
      "text/plain": [
       "array([[0., 0., 0.],\n",
       "       [1., 1., 1.],\n",
       "       [2., 2., 2.],\n",
       "       [3., 3., 3.]])"
      ]
     },
     "execution_count": 107,
     "metadata": {},
     "output_type": "execute_result"
    }
   ],
   "source": [
    "# Multiply them together\n",
    "b * a"
   ]
  },
  {
   "cell_type": "markdown",
   "metadata": {
    "pycharm": {
     "name": "#%% md\n"
    }
   },
   "source": [
    "Did it do what you expected?\n",
    "Do you see how broadcasting was applied to create the result?"
   ]
  },
  {
   "cell_type": "markdown",
   "metadata": {},
   "source": [
    "Broadcasting also works with scalars. In general, most operations you can do with two scalars, you can do with an array and a scalar and the operation will be broadcast to every element in the array."
   ]
  },
  {
   "cell_type": "markdown",
   "metadata": {},
   "source": [
    "This is true for the obvious operations:"
   ]
  },
  {
   "cell_type": "code",
   "execution_count": 108,
   "metadata": {},
   "outputs": [
    {
     "data": {
      "text/plain": [
       "array([0, 1, 2, 3, 4])"
      ]
     },
     "execution_count": 108,
     "metadata": {},
     "output_type": "execute_result"
    }
   ],
   "source": [
    "a = np.arange(5)\n",
    "a"
   ]
  },
  {
   "cell_type": "code",
   "execution_count": 109,
   "metadata": {},
   "outputs": [
    {
     "data": {
      "text/plain": [
       "array([5, 6, 7, 8, 9])"
      ]
     },
     "execution_count": 109,
     "metadata": {},
     "output_type": "execute_result"
    }
   ],
   "source": [
    "a + 5"
   ]
  },
  {
   "cell_type": "code",
   "execution_count": 110,
   "metadata": {},
   "outputs": [
    {
     "data": {
      "text/plain": [
       "array([-1,  0,  1,  2,  3])"
      ]
     },
     "execution_count": 110,
     "metadata": {},
     "output_type": "execute_result"
    }
   ],
   "source": [
    "a - 1"
   ]
  },
  {
   "cell_type": "code",
   "execution_count": 111,
   "metadata": {},
   "outputs": [
    {
     "data": {
      "text/plain": [
       "array([ 0, 10, 20, 30, 40])"
      ]
     },
     "execution_count": 111,
     "metadata": {},
     "output_type": "execute_result"
    }
   ],
   "source": [
    "a * 10"
   ]
  },
  {
   "cell_type": "code",
   "execution_count": 112,
   "metadata": {},
   "outputs": [
    {
     "data": {
      "text/plain": [
       "array([0. , 0.5, 1. , 1.5, 2. ])"
      ]
     },
     "execution_count": 112,
     "metadata": {},
     "output_type": "execute_result"
    }
   ],
   "source": [
    "a / 2"
   ]
  },
  {
   "cell_type": "code",
   "execution_count": 113,
   "metadata": {},
   "outputs": [
    {
     "data": {
      "text/plain": [
       "array([ 0,  1,  4,  9, 16])"
      ]
     },
     "execution_count": 113,
     "metadata": {},
     "output_type": "execute_result"
    }
   ],
   "source": [
    "a ** 2"
   ]
  },
  {
   "cell_type": "markdown",
   "metadata": {},
   "source": [
    "It's also true in a lot of ways you might not think of right away but that can be very useful! For example:"
   ]
  },
  {
   "cell_type": "code",
   "execution_count": 114,
   "metadata": {},
   "outputs": [
    {
     "data": {
      "text/plain": [
       "array([[0.3344394 , 0.76879531, 0.70794573, 0.80873786, 0.1740348 ],\n",
       "       [0.44664426, 0.24944975, 0.81068993, 0.05889276, 0.21912507],\n",
       "       [0.15208953, 0.11096977, 0.37765491, 0.70219078, 0.3076976 ],\n",
       "       [0.74590303, 0.06757166, 0.26456117, 0.08814405, 0.36674206],\n",
       "       [0.01793822, 0.69819903, 0.91136803, 0.60924758, 0.11222834]])"
      ]
     },
     "execution_count": 114,
     "metadata": {},
     "output_type": "execute_result"
    }
   ],
   "source": [
    "a = np.random.random((5, 5))\n",
    "a"
   ]
  },
  {
   "cell_type": "code",
   "execution_count": 115,
   "metadata": {},
   "outputs": [
    {
     "data": {
      "text/plain": [
       "array([[False,  True,  True,  True, False],\n",
       "       [False, False,  True, False, False],\n",
       "       [False, False, False,  True, False],\n",
       "       [ True, False, False, False, False],\n",
       "       [False,  True,  True,  True, False]])"
      ]
     },
     "execution_count": 115,
     "metadata": {},
     "output_type": "execute_result"
    }
   ],
   "source": [
    "a > 0.5"
   ]
  },
  {
   "cell_type": "markdown",
   "metadata": {},
   "source": [
    "Can you think of a way this might be useful?"
   ]
  },
  {
   "cell_type": "markdown",
   "metadata": {
    "pycharm": {
     "name": "#%% md\n"
    }
   },
   "source": [
    "The details and different cases for broadcasting can be tricky, even\n",
    "for experienced `NumPy` users!\n",
    "So you're certainly not expected to be use or need it heavily in this class. \n",
    "However, knowing the basics of how it works may make your life a little easier \n",
    "and your code a little simpler on some of the homeworks.\n",
    "\n",
    "If you ever find yourself in a confusing situation involving broadcasting, we\n",
    "definitely recommend checking out the `NumPy` documentation on\n",
    "[Broadcasting](https://numpy.org/doc/stable/user/basics.broadcasting.html).\n"
   ]
  },
  {
   "cell_type": "markdown",
   "metadata": {
    "pycharm": {
     "name": "#%% md\n"
    }
   },
   "source": [
    "<a id='next_steps'></a>\n",
    "## Next Steps\n",
    "\n",
    "That's it! \n",
    "That's all the basic `NumPy` knowledge you need for this course\n",
    "(possibly you may not even need all of the tools we have introduced here).\n",
    "\n",
    "If you are interested in learning more about `NumPy`, we recommend:\n",
    "* [The NumPy User Guide](https://numpy.org/doc/stable/user/index.html)\n",
    "* [CS 231n NumPy Tutorial](https://cs231n.github.io/python-numpy-tutorial/#numpy),\n",
    "  which we based much of the content here on, with more advanced topics\n"
   ]
  }
 ],
 "metadata": {
  "colab": {
   "collapsed_sections": [],
   "name": "CS124 Python Exercises.ipynb",
   "provenance": []
  },
  "kernelspec": {
   "display_name": "dighum101",
   "language": "python",
   "name": "python3"
  },
  "language_info": {
   "codemirror_mode": {
    "name": "ipython",
    "version": 3
   },
   "file_extension": ".py",
   "mimetype": "text/x-python",
   "name": "python",
   "nbconvert_exporter": "python",
   "pygments_lexer": "ipython3",
   "version": "3.12.10"
  }
 },
 "nbformat": 4,
 "nbformat_minor": 1
}
